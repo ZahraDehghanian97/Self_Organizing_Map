{
  "nbformat": 4,
  "nbformat_minor": 0,
  "metadata": {
    "colab": {
      "name": "SOFM.ipynb",
      "provenance": [],
      "authorship_tag": "ABX9TyMRed3JVboQ0ynOYO1lJ0Zp",
      "include_colab_link": true
    },
    "kernelspec": {
      "name": "python3",
      "display_name": "Python 3"
    },
    "language_info": {
      "name": "python"
    }
  },
  "cells": [
    {
      "cell_type": "markdown",
      "metadata": {
        "id": "view-in-github",
        "colab_type": "text"
      },
      "source": [
        "<a href=\"https://colab.research.google.com/github/zahraDehghanian97/Self_Organizing_Map/blob/master/SOFM.ipynb\" target=\"_parent\"><img src=\"https://colab.research.google.com/assets/colab-badge.svg\" alt=\"Open In Colab\"/></a>"
      ]
    },
    {
      "cell_type": "markdown",
      "metadata": {
        "id": "S7rC1g5pPR_f"
      },
      "source": [
        "# prerequisit"
      ]
    },
    {
      "cell_type": "code",
      "metadata": {
        "id": "O4Iw8mqLcrv7"
      },
      "source": [
        "try :\n",
        "  %tensorflow_version 2.x\n",
        "except:\n",
        "  pass\n",
        "import tensorflow as tf\n",
        "from tensorflow import keras\n",
        "import numpy as np\n",
        "from csv import reader\n",
        "import matplotlib.pyplot as plt\n",
        "import random\n",
        "from sklearn.metrics import confusion_matrix\n",
        "from sklearn import preprocessing\n",
        "from PIL import Image\n",
        "import glob\n",
        "import random\n"
      ],
      "execution_count": 36,
      "outputs": []
    },
    {
      "cell_type": "markdown",
      "metadata": {
        "id": "VIK3EJP3PPO2"
      },
      "source": [
        "## mount google drive"
      ]
    },
    {
      "cell_type": "code",
      "metadata": {
        "colab": {
          "base_uri": "https://localhost:8080/"
        },
        "id": "hUoq6FT3OGLq",
        "outputId": "38534739-c7ac-4e5f-da5b-cd700180f1eb"
      },
      "source": [
        "from google.colab import drive\n",
        "drive.mount('/content/drive')"
      ],
      "execution_count": 2,
      "outputs": [
        {
          "output_type": "stream",
          "text": [
            "Mounted at /content/drive\n"
          ],
          "name": "stdout"
        }
      ]
    },
    {
      "cell_type": "markdown",
      "metadata": {
        "id": "geI2i3vvPMCS"
      },
      "source": [
        "# **make dataset ready**"
      ]
    },
    {
      "cell_type": "code",
      "metadata": {
        "id": "oI7xqsYyPK9f",
        "colab": {
          "base_uri": "https://localhost:8080/"
        },
        "outputId": "352a1ee6-4d95-4057-8abc-c6f15d41a881"
      },
      "source": [
        "def load_photos(dir_name):\n",
        "    photo_list =[]\n",
        "    name_list = []\n",
        "    labels = []\n",
        "    for file_name in (glob.glob(dir_name+'/*')):\n",
        "        image = Image.open(file_name)\n",
        "        photo_list.append(np.array(image).flatten())\n",
        "        x = file_name.split('/')\n",
        "        name_list.append(x[6])\n",
        "        labels.append(x[6].split('.')[1])\n",
        "    return photo_list , name_list , labels\n",
        "  \n",
        "    \n",
        "\n",
        "dir_name = \"/content/drive/MyDrive/Colab Notebooks/yalefaces\"\n",
        "X , name_list , y = load_photos(dir_name)\n",
        "X = np.array(preprocessing.MinMaxScaler(feature_range=(0,1)).fit_transform(X))\n",
        "n_features = X.shape[1]\n",
        "print(n_features)\n",
        "print(X.shape)"
      ],
      "execution_count": 85,
      "outputs": [
        {
          "output_type": "stream",
          "text": [
            "77760\n",
            "(165, 77760)\n"
          ],
          "name": "stdout"
        }
      ]
    },
    {
      "cell_type": "markdown",
      "metadata": {
        "id": "kaREQWe64kR-"
      },
      "source": [
        "# **SOM Class**"
      ]
    },
    {
      "cell_type": "code",
      "metadata": {
        "colab": {
          "base_uri": "https://localhost:8080/",
          "height": 1000
        },
        "id": "gq-LN9io5VLf",
        "outputId": "9120acdc-596e-42fe-fcd3-bcab0c790ec7"
      },
      "source": [
        "class SOM:\n",
        "    def __init__(self, map_size, lr = 0.1):\n",
        "        self.map = np.zeros(shape=map_size)\n",
        "        self.lr0 = lr\n",
        "        self.lr = self.lr0\n",
        "        self.R0 = map_size[0]//2\n",
        "        self.R = self.R0\n",
        "        \n",
        "    def train(self, X, y, T=1000, error_threshold=10**-20): \n",
        "        Js = []\n",
        "        for t in range(T):\n",
        "            prev_map = np.copy(self.map)\n",
        "            shuffle_ind = np.random.randint(low=0, high=len(X), size=len(X))  # a vector of random indices\n",
        "            for i in range(len(X)):\n",
        "                x = X[shuffle_ind[i],:]\n",
        "                x = np.asarray(x)\n",
        "                winner = self.find_winner(x)    # winner = [1,4]\n",
        "                NS = self.get_NS(winner)\n",
        "                self.update_weights(x, NS, len(X))\n",
        "            self.lr = self.lr0 * (1 - t/T)\n",
        "            self.R = self.R0 * (1 - t/T)\n",
        "            Js.append(np.linalg.norm(prev_map - self.map))     # norm of changes\n",
        "            # if t % 10 == 0:\n",
        "            #     print('Iteration: %d, LR: %f, R: %f, J: %f' %(t, self.lr, self.R, Js[-1]))\n",
        "            print('Iteration: %d, LR: %f, R: %f, J: %f' %(t, self.lr, self.R, Js[-1]))\n",
        "                # self.visualize(X, y)\n",
        "            if Js[-1] < error_threshold:\n",
        "                print('Min changes')\n",
        "                break\n",
        "        return Js\n",
        "            \n",
        "    def visualize(self, X, y):\n",
        "        self.scores = np.zeros(shape=(self.map.shape[0], self.map.shape[1], 3))  \n",
        "        for i in range(len(X)):\n",
        "            x = X[i, :]\n",
        "            x = np.asarray(x)\n",
        "            winner = self.find_winner(x)\n",
        "            iw, jw = winner[0], winner[1]\n",
        "            if y[i] == -1:\n",
        "                self.scores[iw, jw] += np.asarray([1, 0, 0])\n",
        "            if y[i] == 1:\n",
        "                self.scores[iw, jw] += np.asarray([0, 0, 1])\n",
        "            if y[i] == 0:\n",
        "                self.scores[iw, jw] += np.asarray([0, 1, 0])\n",
        "        self.scores = self.scores / np.mean(np.mean(self.scores))\n",
        "        plt.imshow(self.scores)\n",
        "        plt.show()\n",
        "        \n",
        "    def find_winner(self, x):\n",
        "        rep_x = np.tile(x, [self.map.shape[0], self.map.shape[1], 1])\n",
        "        dists = np.sum((self.map - rep_x)**2, axis=2)   \n",
        "        winner = np.unravel_index(np.argmin(dists, axis=None), dists.shape)\n",
        "        return winner\n",
        "    \n",
        "    def get_NS(self, winner):\n",
        "        # not neighbor = 0 , neighbor = 1/sqrt(euclidean_distance)\n",
        "        NS = np.zeros(shape= (self.map.shape[0], self.map.shape[1]))\n",
        "        iw, jw = winner[0], winner[1]\n",
        "        R = int(self.R)\n",
        "        for ri in range(-R, R):\n",
        "            for rj in range(-R, R):\n",
        "                if (0 <= iw + ri < self.map.shape[0]) and  (0 <= jw + rj < self.map.shape[1]):   \n",
        "                    NS[iw + ri, jw + rj] = 0 if np.sqrt(ri**2 + rj**2) > R else 1/ ( 1+ np.sqrt(ri**2 + rj**2))  \n",
        "        return NS\n",
        "    \n",
        "    def update_weights(self, x, n_strength, X_len):\n",
        "        NS = np.tile(n_strength, [self.map.shape[2],1,1]).transpose()\n",
        "        rep_x = np.tile(x, [self.map.shape[0], self.map.shape[1], 1])\n",
        "        Delta = rep_x - self.map \n",
        "        self.map = self.map + (self.lr/X_len) * np.multiply(NS, Delta)\n",
        "  \n",
        "    def extract_feature(self, x): # here we give a data of n feature and take a matrix of size map as output (e.g, 9*9)\n",
        "        x = np.asarray(x)\n",
        "        rep_x = np.tile(x, [self.map.shape[0], self.map.shape[0], 1])\n",
        "        dists = np.sum((self.map - rep_x)**2, axis=2)\n",
        "        return 1/ (1 + dists)\n",
        "     \n",
        "   \n",
        "m_size = 4\n",
        "som_net = SOM(map_size = [m_size,m_size,n_features])\n",
        "Js = som_net.train(X, y, T = 100)\n",
        "plt.plot(Js)\n",
        "plt.show()\n",
        "# som_net.visualize(X, y)\n",
        "# x = X[0,:]\n",
        "# features = som_net.extract_feature(x)\n",
        "# plt.imshow(features)\n",
        "# plt.show()\n",
        "    "
      ],
      "execution_count": 95,
      "outputs": [
        {
          "output_type": "stream",
          "text": [
            "Iteration: 0, LR: 0.100000, R: 2.000000, J: 25.694724\n",
            "Iteration: 1, LR: 0.099000, R: 1.980000, J: 23.066887\n",
            "Iteration: 2, LR: 0.098000, R: 1.960000, J: 16.066300\n",
            "Iteration: 3, LR: 0.097000, R: 1.940000, J: 14.214478\n",
            "Iteration: 4, LR: 0.096000, R: 1.920000, J: 12.929690\n",
            "Iteration: 5, LR: 0.095000, R: 1.900000, J: 11.510729\n",
            "Iteration: 6, LR: 0.094000, R: 1.880000, J: 10.314386\n",
            "Iteration: 7, LR: 0.093000, R: 1.860000, J: 9.290147\n",
            "Iteration: 8, LR: 0.092000, R: 1.840000, J: 8.647359\n",
            "Iteration: 9, LR: 0.091000, R: 1.820000, J: 7.173250\n",
            "Iteration: 10, LR: 0.090000, R: 1.800000, J: 6.505927\n",
            "Iteration: 11, LR: 0.089000, R: 1.780000, J: 6.269587\n",
            "Iteration: 12, LR: 0.088000, R: 1.760000, J: 5.560867\n",
            "Iteration: 13, LR: 0.087000, R: 1.740000, J: 4.934165\n",
            "Iteration: 14, LR: 0.086000, R: 1.720000, J: 4.503457\n",
            "Iteration: 15, LR: 0.085000, R: 1.700000, J: 4.163027\n",
            "Iteration: 16, LR: 0.084000, R: 1.680000, J: 4.005179\n",
            "Iteration: 17, LR: 0.083000, R: 1.660000, J: 3.611306\n",
            "Iteration: 18, LR: 0.082000, R: 1.640000, J: 2.971118\n",
            "Iteration: 19, LR: 0.081000, R: 1.620000, J: 3.090853\n",
            "Iteration: 20, LR: 0.080000, R: 1.600000, J: 2.471659\n",
            "Iteration: 21, LR: 0.079000, R: 1.580000, J: 2.358304\n",
            "Iteration: 22, LR: 0.078000, R: 1.560000, J: 2.054003\n",
            "Iteration: 23, LR: 0.077000, R: 1.540000, J: 2.164002\n",
            "Iteration: 24, LR: 0.076000, R: 1.520000, J: 1.955530\n",
            "Iteration: 25, LR: 0.075000, R: 1.500000, J: 1.756953\n",
            "Iteration: 26, LR: 0.074000, R: 1.480000, J: 1.852677\n",
            "Iteration: 27, LR: 0.073000, R: 1.460000, J: 1.208628\n",
            "Iteration: 28, LR: 0.072000, R: 1.440000, J: 1.468227\n",
            "Iteration: 29, LR: 0.071000, R: 1.420000, J: 1.149072\n",
            "Iteration: 30, LR: 0.070000, R: 1.400000, J: 1.214639\n",
            "Iteration: 31, LR: 0.069000, R: 1.380000, J: 1.355712\n",
            "Iteration: 32, LR: 0.068000, R: 1.360000, J: 0.783064\n",
            "Iteration: 33, LR: 0.067000, R: 1.340000, J: 0.987286\n",
            "Iteration: 34, LR: 0.066000, R: 1.320000, J: 1.026843\n",
            "Iteration: 35, LR: 0.065000, R: 1.300000, J: 0.937091\n",
            "Iteration: 36, LR: 0.064000, R: 1.280000, J: 0.833581\n",
            "Iteration: 37, LR: 0.063000, R: 1.260000, J: 0.671404\n",
            "Iteration: 38, LR: 0.062000, R: 1.240000, J: 0.728993\n",
            "Iteration: 39, LR: 0.061000, R: 1.220000, J: 0.454418\n",
            "Iteration: 40, LR: 0.060000, R: 1.200000, J: 0.529167\n",
            "Iteration: 41, LR: 0.059000, R: 1.180000, J: 0.529442\n",
            "Iteration: 42, LR: 0.058000, R: 1.160000, J: 0.378670\n",
            "Iteration: 43, LR: 0.057000, R: 1.140000, J: 0.565923\n",
            "Iteration: 44, LR: 0.056000, R: 1.120000, J: 0.340279\n",
            "Iteration: 45, LR: 0.055000, R: 1.100000, J: 0.375131\n",
            "Iteration: 46, LR: 0.054000, R: 1.080000, J: 0.604442\n",
            "Iteration: 47, LR: 0.053000, R: 1.060000, J: 0.452704\n",
            "Iteration: 48, LR: 0.052000, R: 1.040000, J: 0.320516\n",
            "Iteration: 49, LR: 0.051000, R: 1.020000, J: 0.427241\n",
            "Iteration: 50, LR: 0.050000, R: 1.000000, J: 0.259950\n",
            "Iteration: 51, LR: 0.049000, R: 0.980000, J: 0.271664\n",
            "Iteration: 52, LR: 0.048000, R: 0.960000, J: 0.000000\n",
            "Min changes\n"
          ],
          "name": "stdout"
        },
        {
          "output_type": "display_data",
          "data": {
            "image/png": "[encoded data removed]",
            "text/plain": [
              "<Figure size 432x288 with 1 Axes>"
            ]
          },
          "metadata": {
            "tags": [],
            "needs_background": "light"
          }
        }
      ]
    }
  ]
}