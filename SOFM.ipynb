{
  "nbformat": 4,
  "nbformat_minor": 0,
  "metadata": {
    "colab": {
      "name": "SOFM.ipynb",
      "provenance": [],
      "collapsed_sections": [],
      "toc_visible": true,
      "mount_file_id": "1-ITPKWXRxtuGr5pb1mLO0aC_AVHFCWre",
      "authorship_tag": "ABX9TyMUM/+fYQkEeHs26jCdSzw0",
      "include_colab_link": true
    },
    "kernelspec": {
      "name": "python3",
      "display_name": "Python 3"
    },
    "language_info": {
      "name": "python"
    }
  },
  "cells": [
    {
      "cell_type": "markdown",
      "metadata": {
        "id": "view-in-github",
        "colab_type": "text"
      },
      "source": [
        "<a href=\"https://colab.research.google.com/github/zahraDehghanian97/Self_Organizing_Map/blob/master/SOFM.ipynb\" target=\"_parent\"><img src=\"https://colab.research.google.com/assets/colab-badge.svg\" alt=\"Open In Colab\"/></a>"
      ]
    },
    {
      "cell_type": "markdown",
      "metadata": {
        "id": "S7rC1g5pPR_f"
      },
      "source": [
        "# **prerequisit**"
      ]
    },
    {
      "cell_type": "code",
      "metadata": {
        "id": "O4Iw8mqLcrv7"
      },
      "source": [
        "try :\n",
        "  %tensorflow_version 2.x\n",
        "except:\n",
        "  pass\n",
        "import tensorflow as tf\n",
        "from tensorflow import keras\n",
        "import numpy as np\n",
        "import matplotlib.pyplot as plt\n",
        "import random\n",
        "from sklearn.metrics import confusion_matrix, accuracy_score\n",
        "from sklearn import preprocessing\n",
        "from PIL import Image\n",
        "import glob\n",
        "import pickle\n",
        "import random\n",
        "from sklearn.neural_network import MLPClassifier\n",
        "from sklearn.model_selection import train_test_split\n"
      ],
      "execution_count": 96,
      "outputs": []
    },
    {
      "cell_type": "markdown",
      "metadata": {
        "id": "VIK3EJP3PPO2"
      },
      "source": [
        "## mount google drive"
      ]
    },
    {
      "cell_type": "code",
      "metadata": {
        "colab": {
          "base_uri": "https://localhost:8080/"
        },
        "id": "hUoq6FT3OGLq",
        "outputId": "38534739-c7ac-4e5f-da5b-cd700180f1eb"
      },
      "source": [
        "from google.colab import drive\n",
        "drive.mount('/content/drive')"
      ],
      "execution_count": null,
      "outputs": [
        {
          "output_type": "stream",
          "text": [
            "Mounted at /content/drive\n"
          ],
          "name": "stdout"
        }
      ]
    },
    {
      "cell_type": "markdown",
      "metadata": {
        "id": "geI2i3vvPMCS"
      },
      "source": [
        "# **make dataset ready**"
      ]
    },
    {
      "cell_type": "code",
      "metadata": {
        "id": "oI7xqsYyPK9f",
        "colab": {
          "base_uri": "https://localhost:8080/"
        },
        "outputId": "f520cffe-e5ae-4f66-8328-5848f140a793"
      },
      "source": [
        "def load_photos(dir_name):\n",
        "    photo_list =[]\n",
        "    labels = []\n",
        "    for file_name in (glob.glob(dir_name+'/*')):\n",
        "        image = Image.open(file_name)\n",
        "        image = np.array(image).flatten()\n",
        "        photo_list.append(image)\n",
        "        x = file_name.split('/')\n",
        "        labels.append(x[6].split('.')[1])\n",
        "    photo_list = np.array(photo_list)\n",
        "    photo_list = np.array(preprocessing.MinMaxScaler(feature_range=(0,1)).fit_transform(photo_list))\n",
        "    unique_value =list(set(labels))\n",
        "    y = []\n",
        "    for label in labels :\n",
        "      y.append(unique_value.index(label))\n",
        "    return photo_list , unique_value , y \n",
        "  \n",
        "    \n",
        "\n",
        "dir_name = \"/content/drive/MyDrive/Colab Notebooks/yalefaces\"\n",
        "X , unique_value , y= load_photos(dir_name) \n",
        "n_features =len(X[0])\n",
        "n_classes = len(unique_value)\n",
        "print(n_classes)\n",
        "print(X[0])\n",
        "print(n_features)\n",
        "print(y)\n",
        "\n"
      ],
      "execution_count": 97,
      "outputs": [
        {
          "output_type": "stream",
          "text": [
            "11\n",
            "[1. 1. 1. ... 0. 0. 0.]\n",
            "77760\n",
            "[2, 7, 10, 6, 0, 9, 5, 4, 8, 3, 1, 7, 2, 10, 6, 0, 9, 4, 5, 3, 8, 1, 7, 10, 2, 6, 9, 0, 4, 5, 3, 8, 1, 7, 10, 2, 6, 0, 4, 9, 3, 8, 1, 7, 2, 10, 6, 0, 4, 9, 3, 5, 8, 7, 1, 2, 10, 6, 0, 4, 9, 5, 8, 3, 1, 7, 2, 10, 6, 0, 4, 9, 5, 3, 8, 1, 7, 2, 6, 10, 0, 4, 9, 5, 8, 3, 1, 2, 7, 10, 0, 6, 4, 9, 5, 3, 1, 8, 2, 7, 10, 0, 6, 9, 5, 4, 3, 1, 8, 7, 2, 10, 6, 0, 9, 5, 4, 3, 8, 1, 7, 2, 10, 6, 9, 0, 5, 4, 3, 1, 8, 7, 2, 10, 6, 9, 0, 4, 5, 3, 8, 1, 7, 10, 2, 6, 0, 9, 5, 4, 3, 1, 8, 7, 2, 10, 0, 6, 9, 5, 4, 3, 1, 8, 5]\n"
          ],
          "name": "stdout"
        }
      ]
    },
    {
      "cell_type": "markdown",
      "metadata": {
        "id": "kaREQWe64kR-"
      },
      "source": [
        "# **SOM Class**"
      ]
    },
    {
      "cell_type": "code",
      "metadata": {
        "colab": {
          "base_uri": "https://localhost:8080/",
          "height": 440
        },
        "id": "gq-LN9io5VLf",
        "outputId": "64978b65-f864-4d5e-d683-e20a02da7027"
      },
      "source": [
        "class SOM:\n",
        "    def __init__(self,data, map_size,dir_map=\"not load from file\", lr = 0.05):\n",
        "        self.map = np.zeros(shape=map_size)\n",
        "        ind = np.random.choice(data.shape[0],(map_size[0], map_size[1]) , replace=False)\n",
        "        for i in range(map_size[0]):\n",
        "          for j in range (map_size[1]):\n",
        "            self.map[i,j] = data[ind[i,j]]\n",
        "        self.lr0 = lr\n",
        "        self.lr = self.lr0\n",
        "        self.R0 = map_size[0]//2\n",
        "        self.R = self.R0\n",
        "        if dir_map != \"not load from file\":\n",
        "          self.load_map(dir_map)\n",
        "    \n",
        "    def load_map(self,dir_map):\n",
        "        with open(dir_map, \"rb\") as f:\n",
        "            self.map = pickle.load(f)\n",
        "        print(\"load map finished\")\n",
        "\n",
        "        \n",
        "    def train(self, X, y,dir_map, T=1000, error_threshold=10**-20): \n",
        "        Js = []\n",
        "        for t in range(T):\n",
        "            prev_map = np.copy(self.map)\n",
        "            shuffle_ind = np.random.randint(low=0, high=len(X), size=len(X))  # a vector of random indices\n",
        "            for i in range(len(X)):\n",
        "                x = X[shuffle_ind[i],:]\n",
        "                x = np.asarray(x)\n",
        "                winner = self.find_winner(x)    # winner = [1,4]\n",
        "                NS = self.get_NS(winner)\n",
        "                self.update_weights(x, NS, len(X))\n",
        "            self.lr = self.lr0 * (1 - t/T)\n",
        "            self.R = self.R0 * (1 - t/T)\n",
        "            Js.append(np.linalg.norm(prev_map - self.map))     # norm of changes\n",
        "            if t % 10 == 0:\n",
        "                print('Iteration: %d, LR: %f, R: %f, J: %f' %(t, self.lr, self.R, Js[-1]))\n",
        "                # self.visualize(X, y)\n",
        "            if t % 50 == 0:\n",
        "                with open(dir_map, 'wb') as f:  \n",
        "                    pickle.dump(self.map, f)\n",
        "            if Js[-1] < error_threshold:\n",
        "                print('Min changes')\n",
        "                break\n",
        "        # save founded model at last\n",
        "        with open(dir_map, 'wb') as f:  \n",
        "          pickle.dump(self.map, f)\n",
        "\n",
        "        return Js\n",
        "            \n",
        "    def find_winner(self, x):\n",
        "        rep_x = np.tile(x, [self.map.shape[0], self.map.shape[1], 1])\n",
        "        dists = np.sum((self.map - rep_x)**2, axis=2)   \n",
        "        winner = np.unravel_index(np.argmin(dists, axis=None), dists.shape)\n",
        "        return winner\n",
        "    \n",
        "    def get_NS(self, winner):\n",
        "        # not neighbor = 0 , neighbor = 1/sqrt(euclidean_distance)\n",
        "        NS = np.zeros(shape= (self.map.shape[0], self.map.shape[1]))\n",
        "        iw, jw = winner[0], winner[1]\n",
        "        R = int(self.R)\n",
        "        for ri in range(-R, R):\n",
        "            for rj in range(-R, R):\n",
        "                if (0 <= iw + ri < self.map.shape[0]) and  (0 <= jw + rj < self.map.shape[1]):   \n",
        "                    NS[iw + ri, jw + rj] = 0 if np.sqrt(ri**2 + rj**2) > R else 1/ ( 1+ np.sqrt(ri**2 + rj**2))  \n",
        "        return NS\n",
        "    \n",
        "    def update_weights(self, x, n_strength, X_len):\n",
        "        NS = np.tile(n_strength, [self.map.shape[2],1,1]).transpose()\n",
        "        rep_x = np.tile(x, [self.map.shape[0], self.map.shape[1], 1])\n",
        "        Delta = rep_x - self.map \n",
        "        self.map = self.map + (self.lr/X_len) * np.multiply(NS, Delta)\n",
        "\n",
        "    def visualize(self, X, y):\n",
        "        scores = np.zeros(shape=(self.map.shape[0], self.map.shape[1],len(list(set(y)))))  \n",
        "        self.scores = np.zeros(shape=(self.map.shape[0], self.map.shape[1]))  \n",
        "        for i in range(len(X)):\n",
        "            x = X[i, :]\n",
        "            x = np.asarray(x)\n",
        "            winner = self.find_winner(x)\n",
        "            iw, jw = winner[0], winner[1]\n",
        "            scores[iw, jw][y[i]] += 1\n",
        "        for i in range(len(scores)):\n",
        "            for j in range(len(scores[0])):\n",
        "              self.scores[i,j] = np.argmax(scores[i,j])\n",
        "        print(self.scores)\n",
        "        c = plt.imshow(self.scores, cmap='jet')\n",
        "        plt.colorbar(c)\n",
        "        for i in range(len(scores)):\n",
        "          for j in range(len(scores[0])):\n",
        "            plt.text(j,i, self.scores[i, j],ha=\"center\", va=\"center\", color=\"w\")\n",
        "        plt.title(\"Class of each Nuoron\")\n",
        "        plt.show()\n",
        "\n",
        "    def extract_feature(self, x): # here we give a data of n feature and take a matrix of size map as output (e.g, 9*9)\n",
        "        x = np.asarray(x)\n",
        "        rep_x = np.tile(x, [self.map.shape[0], self.map.shape[0], 1])\n",
        "        dists = np.sum((self.map - rep_x)**2, axis=2)\n",
        "        return 1/ (1 + dists)\n",
        "    \n",
        "    def compute_score(self, X, y):\n",
        "      y_pred = []\n",
        "      for x in X :\n",
        "        index = self.find_winner(x)\n",
        "        y_pred.append(self.scores[index[0],index[1]])\n",
        "      return accuracy_score(y,y_pred)\n",
        "\n",
        "\n",
        "m_size = 4\n",
        "dir_map = '/content/drive/MyDrive/Colab Notebooks/map'+str(m_size)+'*'+str(m_size)+'.txt'\n",
        "\n",
        "# # train SOM Net\n",
        "# som_net = SOM(data = X,dir_map = dir_map,map_size = [m_size,m_size,n_features])\n",
        "# Js = som_net.train(X, y,dir_map, T = 500)\n",
        "# plt.plot(Js)\n",
        "# plt.show()\n",
        "\n",
        "# reload saved model \n",
        "som_net = SOM(data = X,dir_map = dir_map,map_size = [m_size,m_size,n_features])\n",
        "\n",
        "# visualize founded Neurons\n",
        "som_net.visualize(X, y)\n",
        "print(\"Meaning of each number :\")\n",
        "s = \"\"\n",
        "for i in range(len(unique_value)):\n",
        "  s = s + str(i) + \" : \"+unique_value[i]+\"   \"\n",
        "print(s)\n",
        "\n",
        "# print accuracy founded model\n",
        "print(\"Accuracy founded map = \"+str(round(som_net.compute_score(X,y),3)))\n"
      ],
      "execution_count": 98,
      "outputs": [
        {
          "output_type": "stream",
          "text": [
            "load map finished\n",
            "[[7. 6. 2. 4.]\n",
            " [0. 6. 7. 8.]\n",
            " [5. 5. 0. 4.]\n",
            " [4. 0. 7. 0.]]\n"
          ],
          "name": "stdout"
        },
        {
          "output_type": "display_data",
          "data": {
            "image/png": "[encoded data removed]",
            "text/plain": [
              "<Figure size 432x288 with 2 Axes>"
            ]
          },
          "metadata": {
            "tags": [],
            "needs_background": "light"
          }
        },
        {
          "output_type": "stream",
          "text": [
            "Meaning of each number :\n",
            "0 : noglasses   1 : wink   2 : glasses   3 : sleepy   4 : rightlight   5 : sad   6 : leftlight   7 : centerlight   8 : surprised   9 : normal   10 : happy   \n",
            "Accuracy founded map = 0.0967\n"
          ],
          "name": "stdout"
        }
      ]
    },
    {
      "cell_type": "markdown",
      "metadata": {
        "id": "GEPpI1qBJt1q"
      },
      "source": [
        "# **Dimension Reduction**"
      ]
    },
    {
      "cell_type": "code",
      "metadata": {
        "id": "O8LXXeD8J_8w",
        "colab": {
          "base_uri": "https://localhost:8080/",
          "height": 287
        },
        "outputId": "f5552640-4662-4407-acb7-6d281d070a70"
      },
      "source": [
        "# creating new data by using som feature\n",
        "new_X = []\n",
        "for i in range(X.shape[0]):\n",
        "  x = X[i,:]\n",
        "  features = som_net.extract_feature(x)\n",
        "  tmp_data = features .flatten()\n",
        "  new_X.append(tmp_data)\n",
        "new_X = np.array(new_X)\n",
        "print(\"Dimension Reduction is finished\")\n",
        "\n",
        "# show one of result\n",
        "x = X[0,:]\n",
        "features = som_net.extract_feature(x)\n",
        "plt.imshow(features)\n",
        "plt.show()\n"
      ],
      "execution_count": 90,
      "outputs": [
        {
          "output_type": "stream",
          "text": [
            "Dimension Reduction is finished\n"
          ],
          "name": "stdout"
        },
        {
          "output_type": "display_data",
          "data": {
            "image/png": "[encoded data removed]",
            "text/plain": [
              "<Figure size 432x288 with 1 Axes>"
            ]
          },
          "metadata": {
            "tags": [],
            "needs_background": "light"
          }
        }
      ]
    },
    {
      "cell_type": "markdown",
      "metadata": {
        "id": "7a6IrkRdf197"
      },
      "source": [
        "# **Classification with MLP**"
      ]
    },
    {
      "cell_type": "markdown",
      "metadata": {
        "id": "7iIzDfh1rJ2V"
      },
      "source": [
        "make data ready"
      ]
    },
    {
      "cell_type": "code",
      "metadata": {
        "id": "sn3hu5Vygoe1"
      },
      "source": [
        "def convert_into_map(X) :\n",
        "  new_X = []\n",
        "  for i in range(X.shape[0]):\n",
        "    x = X[i,:]\n",
        "    features = som_net.extract_feature(x)\n",
        "    tmp_data = features .flatten()\n",
        "    new_X.append(tmp_data)\n",
        "  new_X = np.array(new_X)\n",
        "  return new_X\n",
        "\n",
        "def plot_result(history):\n",
        "  # plot model accuracy and loss \n",
        "  # accuracy\n",
        "  plt.plot(history.history['sparse_categorical_accuracy'])\n",
        "  plt.plot(history.history['val_sparse_categorical_accuracy'])\n",
        "  plt.title('sparse categorical accuracy')\n",
        "  plt.ylabel('accuracy')\n",
        "  plt.xlabel('epoch')\n",
        "  plt.legend(['train', 'val'], loc='upper left')\n",
        "  plt.show()\n",
        "  # loss\n",
        "  plt.plot(history.history['loss'])\n",
        "  plt.plot(history.history['val_loss'])\n",
        "  plt.title('model loss')\n",
        "  plt.ylabel('loss')\n",
        "  plt.xlabel('epoch')\n",
        "  plt.legend(['train', 'val'], loc='upper left')\n",
        "  plt.show()\n",
        "\n",
        "\n",
        "X_train, X_test, y_train, y_test = train_test_split(X, y, test_size=0.1, random_state=42)\n",
        "new_X_train = convert_into_map(X_train)\n",
        "new_X_test = convert_into_map(X_test)\n",
        "y_train = np.array(y_train)\n",
        "y_test = np.array(y_test)"
      ],
      "execution_count": 91,
      "outputs": []
    },
    {
      "cell_type": "markdown",
      "metadata": {
        "id": "orYK7V5u0DrY"
      },
      "source": [
        "result for reduced data"
      ]
    },
    {
      "cell_type": "code",
      "metadata": {
        "colab": {
          "base_uri": "https://localhost:8080/"
        },
        "id": "JeAoMrqx4IKJ",
        "outputId": "7176499c-bec4-458a-f377-dbbbdb71e73b"
      },
      "source": [
        "# create model\n",
        "model = keras.models.Sequential()\n",
        "model.add(keras.Input(shape=(new_X_train.shape[1],)))\n",
        "model.add(keras.layers.Dense(100, activation='relu'))\n",
        "model.add(keras.layers.Dropout(0.5))\n",
        "model.add(keras.layers.Dense(30, activation='relu'))\n",
        "model.add(keras.layers.Dropout(0.5))\n",
        "model.add(keras.layers.Dense(len(unique_value), activation='softmax'))\n",
        "# Compile model\n",
        "model.compile(loss='sparse_categorical_crossentropy', optimizer='adam', metrics=[keras.metrics.SparseCategoricalAccuracy()])\n",
        "model.summary()\n",
        "# Training model\n",
        "history = model.fit(new_X_train, y_train,verbose=0, batch_size=5, epochs= 1000, validation_split= 0.18)\n",
        "# Predicting labels\n",
        "y_prob = model.predict(new_X_test)\n",
        "y_pred = []\n",
        "for y in y_prob:\n",
        "  y_pred.append(np.where(y ==(max(y)))[0][0])\n",
        "print(\"Accuracy reduced model : \"+str(accuracy_score(y_test,y_pred)))\n",
        "\n",
        "# # plot result\n",
        "# plot_result(history)\n"
      ],
      "execution_count": 93,
      "outputs": [
        {
          "output_type": "stream",
          "text": [
            "Model: \"sequential_24\"\n",
            "_________________________________________________________________\n",
            "Layer (type)                 Output Shape              Param #   \n",
            "=================================================================\n",
            "dense_62 (Dense)             (None, 100)               1700      \n",
            "_________________________________________________________________\n",
            "dropout_21 (Dropout)         (None, 100)               0         \n",
            "_________________________________________________________________\n",
            "dense_63 (Dense)             (None, 30)                3030      \n",
            "_________________________________________________________________\n",
            "dropout_22 (Dropout)         (None, 30)                0         \n",
            "_________________________________________________________________\n",
            "dense_64 (Dense)             (None, 11)                341       \n",
            "=================================================================\n",
            "Total params: 5,071\n",
            "Trainable params: 5,071\n",
            "Non-trainable params: 0\n",
            "_________________________________________________________________\n",
            "WARNING:tensorflow:10 out of the last 10 calls to <function Model.make_predict_function.<locals>.predict_function at 0x7efe33e6d0e0> triggered tf.function retracing. Tracing is expensive and the excessive number of tracings could be due to (1) creating @tf.function repeatedly in a loop, (2) passing tensors with different shapes, (3) passing Python objects instead of tensors. For (1), please define your @tf.function outside of the loop. For (2), @tf.function has experimental_relax_shapes=True option that relaxes argument shapes that can avoid unnecessary retracing. For (3), please refer to https://www.tensorflow.org/guide/function#controlling_retracing and https://www.tensorflow.org/api_docs/python/tf/function for  more details.\n",
            "Accuracy reduced model : 0.212\n"
          ],
          "name": "stdout"
        }
      ]
    },
    {
      "cell_type": "markdown",
      "metadata": {
        "id": "wUKhjkYr9yZ0"
      },
      "source": [
        "result for real data"
      ]
    },
    {
      "cell_type": "code",
      "metadata": {
        "colab": {
          "base_uri": "https://localhost:8080/"
        },
        "id": "mBCEV8E99yZ2",
        "outputId": "647ee77f-75f5-48bf-9e62-6ae089e90cee"
      },
      "source": [
        "# create model\n",
        "model = keras.models.Sequential()\n",
        "model.add(keras.Input(shape=(X_train.shape[1],)))\n",
        "model.add(keras.layers.Dense(100, activation='relu'))\n",
        "model.add(keras.layers.Dropout(0.5))\n",
        "model.add(keras.layers.Dense(30, activation='relu'))\n",
        "model.add(keras.layers.Dropout(0.5))\n",
        "model.add(keras.layers.Dense(len(unique_value), activation='softmax'))\n",
        "# Compile model\n",
        "model.compile(loss='sparse_categorical_crossentropy', optimizer='adam', metrics=[keras.metrics.SparseCategoricalAccuracy()])\n",
        "model.summary()\n",
        "# Training model\n",
        "# history = model.fit(X_train, y_train,verbose=0, batch_size=5, epochs= 200, validation_split= 0.18)\n",
        "# Predicting labels\n",
        "y_prob = model.predict(X_test)\n",
        "y_pred = []\n",
        "for y in y_prob:\n",
        "  y_pred.append(np.where(y ==(max(y)))[0][0])\n",
        "print(\"Accuracy normal model : \"+str(accuracy_score(y_test,y_pred)))\n",
        "# # plot result\n",
        "# plot_result(history)\n"
      ],
      "execution_count": 94,
      "outputs": [
        {
          "output_type": "stream",
          "text": [
            "Model: \"sequential_25\"\n",
            "_________________________________________________________________\n",
            "Layer (type)                 Output Shape              Param #   \n",
            "=================================================================\n",
            "dense_65 (Dense)             (None, 100)               7776100   \n",
            "_________________________________________________________________\n",
            "dropout_23 (Dropout)         (None, 100)               0         \n",
            "_________________________________________________________________\n",
            "dense_66 (Dense)             (None, 30)                3030      \n",
            "_________________________________________________________________\n",
            "dropout_24 (Dropout)         (None, 30)                0         \n",
            "_________________________________________________________________\n",
            "dense_67 (Dense)             (None, 11)                341       \n",
            "=================================================================\n",
            "Total params: 7,779,471\n",
            "Trainable params: 7,779,471\n",
            "Non-trainable params: 0\n",
            "_________________________________________________________________\n",
            "WARNING:tensorflow:11 out of the last 11 calls to <function Model.make_predict_function.<locals>.predict_function at 0x7efe36ebc0e0> triggered tf.function retracing. Tracing is expensive and the excessive number of tracings could be due to (1) creating @tf.function repeatedly in a loop, (2) passing tensors with different shapes, (3) passing Python objects instead of tensors. For (1), please define your @tf.function outside of the loop. For (2), @tf.function has experimental_relax_shapes=True option that relaxes argument shapes that can avoid unnecessary retracing. For (3), please refer to https://www.tensorflow.org/guide/function#controlling_retracing and https://www.tensorflow.org/api_docs/python/tf/function for  more details.\n",
            "Accuracy normal model : 0.09\n"
          ],
          "name": "stdout"
        }
      ]
    }
  ]
}