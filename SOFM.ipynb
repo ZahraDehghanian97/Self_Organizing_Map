{
  "nbformat": 4,
  "nbformat_minor": 0,
  "metadata": {
    "colab": {
      "name": "SOFM.ipynb",
      "provenance": [],
      "collapsed_sections": [],
      "toc_visible": true,
      "mount_file_id": "1-ITPKWXRxtuGr5pb1mLO0aC_AVHFCWre",
      "authorship_tag": "ABX9TyP31QyfFK7eJ5FPjcSFMEFD",
      "include_colab_link": true
    },
    "kernelspec": {
      "name": "python3",
      "display_name": "Python 3"
    },
    "language_info": {
      "name": "python"
    }
  },
  "cells": [
    {
      "cell_type": "markdown",
      "metadata": {
        "id": "view-in-github",
        "colab_type": "text"
      },
      "source": [
        "<a href=\"https://colab.research.google.com/github/zahraDehghanian97/Self_Organizing_Map/blob/master/SOFM.ipynb\" target=\"_parent\"><img src=\"https://colab.research.google.com/assets/colab-badge.svg\" alt=\"Open In Colab\"/></a>"
      ]
    },
    {
      "cell_type": "markdown",
      "metadata": {
        "id": "S7rC1g5pPR_f"
      },
      "source": [
        "# **prerequisit**"
      ]
    },
    {
      "cell_type": "code",
      "metadata": {
        "id": "O4Iw8mqLcrv7"
      },
      "source": [
        "try :\n",
        "  %tensorflow_version 2.x\n",
        "except:\n",
        "  pass\n",
        "import tensorflow as tf\n",
        "from tensorflow import keras\n",
        "import numpy as np\n",
        "import matplotlib.pyplot as plt\n",
        "import random\n",
        "from sklearn.metrics import confusion_matrix\n",
        "from sklearn import preprocessing\n",
        "from PIL import Image\n",
        "import glob\n",
        "import pickle\n",
        "import random\n",
        "from sklearn.neural_network import MLPClassifier\n",
        "from sklearn.model_selection import train_test_split\n"
      ],
      "execution_count": 2,
      "outputs": []
    },
    {
      "cell_type": "markdown",
      "metadata": {
        "id": "VIK3EJP3PPO2"
      },
      "source": [
        "## mount google drive"
      ]
    },
    {
      "cell_type": "code",
      "metadata": {
        "colab": {
          "base_uri": "https://localhost:8080/"
        },
        "id": "hUoq6FT3OGLq",
        "outputId": "38534739-c7ac-4e5f-da5b-cd700180f1eb"
      },
      "source": [
        "from google.colab import drive\n",
        "drive.mount('/content/drive')"
      ],
      "execution_count": null,
      "outputs": [
        {
          "output_type": "stream",
          "text": [
            "Mounted at /content/drive\n"
          ],
          "name": "stdout"
        }
      ]
    },
    {
      "cell_type": "markdown",
      "metadata": {
        "id": "geI2i3vvPMCS"
      },
      "source": [
        "# **make dataset ready**"
      ]
    },
    {
      "cell_type": "code",
      "metadata": {
        "id": "oI7xqsYyPK9f",
        "colab": {
          "base_uri": "https://localhost:8080/"
        },
        "outputId": "c84f860f-ee93-48e1-fc78-67742bbb89b7"
      },
      "source": [
        "def load_photos(dir_name):\n",
        "    photo_list =[]\n",
        "    labels = []\n",
        "    for file_name in (glob.glob(dir_name+'/*')):\n",
        "        image = Image.open(file_name)\n",
        "        image = np.array(image).flatten()\n",
        "        photo_list.append(image)\n",
        "        x = file_name.split('/')\n",
        "        labels.append(x[6].split('.')[1])\n",
        "    photo_list = np.array(photo_list)\n",
        "    photo_list = np.array(preprocessing.MinMaxScaler(feature_range=(0,1)).fit_transform(photo_list))\n",
        "    unique_value =list(set(labels))\n",
        "    y = []\n",
        "    for label in labels :\n",
        "      y.append(unique_value.index(label))\n",
        "    return photo_list , unique_value , y \n",
        "  \n",
        "    \n",
        "\n",
        "dir_name = \"/content/drive/MyDrive/Colab Notebooks/yalefaces\"\n",
        "X , unique_value , y= load_photos(dir_name) \n",
        "n_features =len(X[0])\n",
        "n_classes = len(unique_value)\n",
        "print(n_classes)\n",
        "print(X[0])\n",
        "print(n_features)\n",
        "print(y)\n",
        "\n"
      ],
      "execution_count": 14,
      "outputs": [
        {
          "output_type": "stream",
          "text": [
            "11\n",
            "[1. 1. 1. ... 0. 0. 0.]\n",
            "77760\n",
            "[2, 7, 10, 6, 0, 9, 5, 4, 8, 3, 1, 7, 2, 10, 6, 0, 9, 4, 5, 3, 8, 1, 7, 10, 2, 6, 9, 0, 4, 5, 3, 8, 1, 7, 10, 2, 6, 0, 4, 9, 3, 8, 1, 7, 2, 10, 6, 0, 4, 9, 3, 5, 8, 7, 1, 2, 10, 6, 0, 4, 9, 5, 8, 3, 1, 7, 2, 10, 6, 0, 4, 9, 5, 3, 8, 1, 7, 2, 6, 10, 0, 4, 9, 5, 8, 3, 1, 2, 7, 10, 0, 6, 4, 9, 5, 3, 1, 8, 2, 7, 10, 0, 6, 9, 5, 4, 3, 1, 8, 7, 2, 10, 6, 0, 9, 5, 4, 3, 8, 1, 7, 2, 10, 6, 9, 0, 5, 4, 3, 1, 8, 7, 2, 10, 6, 9, 0, 4, 5, 3, 8, 1, 7, 10, 2, 6, 0, 9, 5, 4, 3, 1, 8, 7, 2, 10, 0, 6, 9, 5, 4, 3, 1, 8, 5]\n"
          ],
          "name": "stdout"
        }
      ]
    },
    {
      "cell_type": "markdown",
      "metadata": {
        "id": "kaREQWe64kR-"
      },
      "source": [
        "# **SOM Class**"
      ]
    },
    {
      "cell_type": "code",
      "metadata": {
        "colab": {
          "base_uri": "https://localhost:8080/",
          "height": 1000
        },
        "id": "gq-LN9io5VLf",
        "outputId": "5875afce-fe9d-462f-b0a2-72e1f70ac9f0"
      },
      "source": [
        "class SOM:\n",
        "    def __init__(self,data, map_size,dir_map=\"not load from file\", lr = 0.05):\n",
        "        self.map = np.zeros(shape=map_size)\n",
        "        ind = np.random.choice(data.shape[0],(map_size[0], map_size[1]) , replace=False)\n",
        "        for i in range(map_size[0]):\n",
        "          for j in range (map_size[1]):\n",
        "            self.map[i,j] = data[ind[i,j]]\n",
        "        self.lr0 = lr\n",
        "        self.lr = self.lr0\n",
        "        self.R0 = map_size[0]//2\n",
        "        self.R = self.R0\n",
        "        if dir_map != \"not load from file\":\n",
        "          self.load_map(dir_map)\n",
        "    \n",
        "    def load_map(self,dir_map):\n",
        "        with open(dir_map, \"rb\") as f:\n",
        "            self.map = pickle.load(f)\n",
        "        print(\"load map finished\")\n",
        "\n",
        "        \n",
        "    def train(self, X, y,dir_map, T=1000, error_threshold=10**-20): \n",
        "        Js = []\n",
        "        for t in range(T):\n",
        "            prev_map = np.copy(self.map)\n",
        "            shuffle_ind = np.random.randint(low=0, high=len(X), size=len(X))  # a vector of random indices\n",
        "            for i in range(len(X)):\n",
        "                x = X[shuffle_ind[i],:]\n",
        "                x = np.asarray(x)\n",
        "                winner = self.find_winner(x)    # winner = [1,4]\n",
        "                NS = self.get_NS(winner)\n",
        "                self.update_weights(x, NS, len(X))\n",
        "            self.lr = self.lr0 * (1 - t/T)\n",
        "            self.R = self.R0 * (1 - t/T)\n",
        "            Js.append(np.linalg.norm(prev_map - self.map))     # norm of changes\n",
        "            if t % 10 == 0:\n",
        "                print('Iteration: %d, LR: %f, R: %f, J: %f' %(t, self.lr, self.R, Js[-1]))\n",
        "                # self.visualize(X, y)\n",
        "            # print('Iteration: %d, LR: %f, R: %f, J: %f' %(t, self.lr, self.R, Js[-1]))\n",
        "\n",
        "            if Js[-1] < error_threshold:\n",
        "                print('Min changes')\n",
        "                break\n",
        "\n",
        "        # save founded model\n",
        "        with open(dir_map, 'wb') as f:  \n",
        "          pickle.dump(self.map, f)\n",
        "\n",
        "        return Js\n",
        "            \n",
        "    def find_winner(self, x):\n",
        "        rep_x = np.tile(x, [self.map.shape[0], self.map.shape[1], 1])\n",
        "        dists = np.sum((self.map - rep_x)**2, axis=2)   \n",
        "        winner = np.unravel_index(np.argmin(dists, axis=None), dists.shape)\n",
        "        return winner\n",
        "    \n",
        "    def get_NS(self, winner):\n",
        "        # not neighbor = 0 , neighbor = 1/sqrt(euclidean_distance)\n",
        "        NS = np.zeros(shape= (self.map.shape[0], self.map.shape[1]))\n",
        "        iw, jw = winner[0], winner[1]\n",
        "        R = int(self.R)\n",
        "        for ri in range(-R, R):\n",
        "            for rj in range(-R, R):\n",
        "                if (0 <= iw + ri < self.map.shape[0]) and  (0 <= jw + rj < self.map.shape[1]):   \n",
        "                    NS[iw + ri, jw + rj] = 0 if np.sqrt(ri**2 + rj**2) > R else 1/ ( 1+ np.sqrt(ri**2 + rj**2))  \n",
        "        return NS\n",
        "    \n",
        "    def update_weights(self, x, n_strength, X_len):\n",
        "        NS = np.tile(n_strength, [self.map.shape[2],1,1]).transpose()\n",
        "        rep_x = np.tile(x, [self.map.shape[0], self.map.shape[1], 1])\n",
        "        Delta = rep_x - self.map \n",
        "        self.map = self.map + (self.lr/X_len) * np.multiply(NS, Delta)\n",
        "\n",
        "    def visualize(self, X, y):\n",
        "        scores = np.zeros(shape=(self.map.shape[0], self.map.shape[1],len(list(set(y)))))  \n",
        "        self.scores = np.zeros(shape=(self.map.shape[0], self.map.shape[1]))  \n",
        "        for i in range(len(X)):\n",
        "            x = X[i, :]\n",
        "            x = np.asarray(x)\n",
        "            winner = self.find_winner(x)\n",
        "            iw, jw = winner[0], winner[1]\n",
        "            scores[iw, jw][y[i]-1] += 1\n",
        "        for i in range(len(scores)):\n",
        "            for j in range(len(scores[0])):\n",
        "              self.scores[i,j] = np.argmax(scores[i,j])\n",
        "        print(self.scores)\n",
        "\n",
        "        c = plt.imshow(self.scores, cmap='jet')\n",
        "        plt.colorbar(c)\n",
        "        for i in range(len(scores)):\n",
        "          for j in range(len(scores[0])):\n",
        "            plt.text(j,i, self.scores[i, j],ha=\"center\", va=\"center\", color=\"w\")\n",
        "        plt.title(\"Class of each Nuoron\")\n",
        "        plt.show()\n",
        "        \n",
        "\n",
        "    def extract_feature(self, x): # here we give a data of n feature and take a matrix of size map as output (e.g, 9*9)\n",
        "        x = np.asarray(x)\n",
        "        rep_x = np.tile(x, [self.map.shape[0], self.map.shape[0], 1])\n",
        "        dists = np.sum((self.map - rep_x)**2, axis=2)\n",
        "        return 1/ (1 + dists)\n",
        "     \n",
        "m_size = 6\n",
        "dir_map = '/content/drive/MyDrive/Colab Notebooks/map'+str(m_size)+'*'+str(m_size)+'.txt'\n",
        "\n",
        "# train SOM Net\n",
        "som_net = SOM(data = X,map_size = [m_size,m_size,n_features])\n",
        "Js = som_net.train(X, y,dir_map, T = 5000)\n",
        "plt.plot(Js)\n",
        "plt.show()\n",
        "\n",
        "# # reload saved model \n",
        "# som_net = SOM(data = X,dir_map = dir_map,map_size = [m_size,m_size,n_features])\n",
        "\n",
        "\n",
        "# visualize founded Neurons\n",
        "som_net.visualize(X, y)\n",
        "print(\"Meaning of each number :\")\n",
        "s = \"\"\n",
        "for i in range(len(unique_value)):\n",
        "  s = s + str(i) + \" : \"+unique_value[i]+\"   \"\n",
        "print(s)\n"
      ],
      "execution_count": 38,
      "outputs": [
        {
          "output_type": "stream",
          "text": [
            "Iteration: 0, LR: 0.050000, R: 2.000000, J: 4.203385\n",
            "Iteration: 10, LR: 0.049000, R: 1.960000, J: 1.924099\n",
            "Iteration: 20, LR: 0.048000, R: 1.920000, J: 1.799577\n",
            "Iteration: 30, LR: 0.047000, R: 1.880000, J: 1.492172\n",
            "Iteration: 40, LR: 0.046000, R: 1.840000, J: 1.409361\n",
            "Iteration: 50, LR: 0.045000, R: 1.800000, J: 1.330104\n",
            "Iteration: 60, LR: 0.044000, R: 1.760000, J: 1.284144\n",
            "Iteration: 70, LR: 0.043000, R: 1.720000, J: 1.202869\n",
            "Iteration: 80, LR: 0.042000, R: 1.680000, J: 1.174206\n",
            "Iteration: 90, LR: 0.041000, R: 1.640000, J: 1.046930\n",
            "Iteration: 100, LR: 0.040000, R: 1.600000, J: 1.000200\n",
            "Iteration: 110, LR: 0.039000, R: 1.560000, J: 0.933147\n",
            "Iteration: 120, LR: 0.038000, R: 1.520000, J: 0.807139\n",
            "Iteration: 130, LR: 0.037000, R: 1.480000, J: 0.787382\n",
            "Iteration: 140, LR: 0.036000, R: 1.440000, J: 0.782216\n",
            "Iteration: 150, LR: 0.035000, R: 1.400000, J: 0.723618\n",
            "Iteration: 160, LR: 0.034000, R: 1.360000, J: 0.634758\n",
            "Iteration: 170, LR: 0.033000, R: 1.320000, J: 0.624530\n",
            "Iteration: 180, LR: 0.032000, R: 1.280000, J: 0.588189\n",
            "Iteration: 190, LR: 0.031000, R: 1.240000, J: 0.578283\n",
            "Iteration: 200, LR: 0.030000, R: 1.200000, J: 0.571766\n",
            "Iteration: 210, LR: 0.029000, R: 1.160000, J: 0.500841\n",
            "Iteration: 220, LR: 0.028000, R: 1.120000, J: 0.413989\n",
            "Iteration: 230, LR: 0.027000, R: 1.080000, J: 0.448028\n",
            "Iteration: 240, LR: 0.026000, R: 1.040000, J: 0.403213\n",
            "Iteration: 250, LR: 0.025000, R: 1.000000, J: 0.401433\n",
            "Min changes\n"
          ],
          "name": "stdout"
        },
        {
          "output_type": "display_data",
          "data": {
            "image/png": "[encoded data removed]",
            "text/plain": [
              "<Figure size 432x288 with 1 Axes>"
            ]
          },
          "metadata": {
            "tags": [],
            "needs_background": "light"
          }
        },
        {
          "output_type": "stream",
          "text": [
            "[[0. 0. 3. 0.]\n",
            " [3. 1. 5. 6.]\n",
            " [2. 0. 2. 1.]\n",
            " [5. 5. 0. 0.]]\n"
          ],
          "name": "stdout"
        },
        {
          "output_type": "display_data",
          "data": {
            "image/png": "[encoded data removed]",
            "text/plain": [
              "<Figure size 432x288 with 2 Axes>"
            ]
          },
          "metadata": {
            "tags": [],
            "needs_background": "light"
          }
        },
        {
          "output_type": "stream",
          "text": [
            "Meaning of each number :\n",
            "0 : noglasses   1 : wink   2 : glasses   3 : sleepy   4 : rightlight   5 : sad   6 : leftlight   7 : centerlight   8 : surprised   9 : normal   10 : happy   \n"
          ],
          "name": "stdout"
        }
      ]
    },
    {
      "cell_type": "markdown",
      "metadata": {
        "id": "GEPpI1qBJt1q"
      },
      "source": [
        "# **Dimension Reduction**"
      ]
    },
    {
      "cell_type": "code",
      "metadata": {
        "id": "O8LXXeD8J_8w",
        "colab": {
          "base_uri": "https://localhost:8080/",
          "height": 287
        },
        "outputId": "9c39bef1-adfe-4b9d-bc88-a280ee0ac39b"
      },
      "source": [
        "# creating new data by using som feature\n",
        "new_X = []\n",
        "for i in range(X.shape[0]):\n",
        "  x = X[i,:]\n",
        "  features = som_net.extract_feature(x)\n",
        "  tmp_data = features .flatten()\n",
        "  new_X.append(tmp_data)\n",
        "new_X = np.array(new_X)\n",
        "print(\"Dimension Reduction is finished\")\n",
        "\n",
        "# show one of result\n",
        "x = X[0,:]\n",
        "features = som_net.extract_feature(x)\n",
        "plt.imshow(features)\n",
        "plt.show()\n"
      ],
      "execution_count": 39,
      "outputs": [
        {
          "output_type": "stream",
          "text": [
            "Dimension Reduction is finished\n"
          ],
          "name": "stdout"
        },
        {
          "output_type": "display_data",
          "data": {
            "image/png": "[encoded data removed]",
            "text/plain": [
              "<Figure size 432x288 with 1 Axes>"
            ]
          },
          "metadata": {
            "tags": [],
            "needs_background": "light"
          }
        }
      ]
    },
    {
      "cell_type": "markdown",
      "metadata": {
        "id": "7a6IrkRdf197"
      },
      "source": [
        "# **Classification with MLP**"
      ]
    },
    {
      "cell_type": "markdown",
      "metadata": {
        "id": "7iIzDfh1rJ2V"
      },
      "source": [
        "make data ready"
      ]
    },
    {
      "cell_type": "code",
      "metadata": {
        "id": "sn3hu5Vygoe1"
      },
      "source": [
        "def convert_into_map(X) :\n",
        "  new_X = []\n",
        "  for i in range(X.shape[0]):\n",
        "    x = X[i,:]\n",
        "    features = som_net.extract_feature(x)\n",
        "    tmp_data = features .flatten()\n",
        "    new_X.append(tmp_data)\n",
        "  new_X = np.array(new_X)\n",
        "  return new_X\n",
        "\n",
        "X_train, X_test, y_train, y_test = train_test_split(X, y, test_size=0.1, random_state=42)\n",
        "new_X_train = convert_into_map(X_train)\n",
        "new_X_test = convert_into_map(X_test)\n",
        "y_train = np.array(y_train)\n",
        "y_test = np.array(y_test)"
      ],
      "execution_count": 42,
      "outputs": []
    },
    {
      "cell_type": "markdown",
      "metadata": {
        "id": "orYK7V5u0DrY"
      },
      "source": [
        "model for reduced data"
      ]
    },
    {
      "cell_type": "code",
      "metadata": {
        "colab": {
          "base_uri": "https://localhost:8080/"
        },
        "id": "JeAoMrqx4IKJ",
        "outputId": "11ba4a8c-37b8-4a14-8b79-c8582f5a4221"
      },
      "source": [
        "# create model\n",
        "model = keras.models.Sequential()\n",
        "model.add(keras.Input(shape=(new_X.shape[1],)))\n",
        "model.add(keras.layers.Dense(30, activation='relu'))\n",
        "model.add(keras.layers.Dropout(0.5))\n",
        "model.add(keras.layers.Dense(len(unique_value), activation='softmax'))\n",
        "# Compile model\n",
        "model.compile(loss='sparse_categorical_crossentropy', optimizer='adam', metrics=[keras.metrics.SparseCategoricalAccuracy()])\n",
        "model.summary()\n",
        "\n",
        "# Training model\n",
        "history = model.fit(new_X_train, y_train,verbose=2, batch_size=5, epochs= 200, validation_split= 0.18)\n"
      ],
      "execution_count": 43,
      "outputs": [
        {
          "output_type": "stream",
          "text": [
            "Model: \"sequential_14\"\n",
            "_________________________________________________________________\n",
            "Layer (type)                 Output Shape              Param #   \n",
            "=================================================================\n",
            "dense_33 (Dense)             (None, 30)                510       \n",
            "_________________________________________________________________\n",
            "dropout_2 (Dropout)          (None, 30)                0         \n",
            "_________________________________________________________________\n",
            "dense_34 (Dense)             (None, 11)                341       \n",
            "=================================================================\n",
            "Total params: 851\n",
            "Trainable params: 851\n",
            "Non-trainable params: 0\n",
            "_________________________________________________________________\n",
            "Epoch 1/200\n",
            "25/25 - 1s - loss: 2.3987 - sparse_categorical_accuracy: 0.0496 - val_loss: 2.3967 - val_sparse_categorical_accuracy: 0.1481\n",
            "Epoch 2/200\n",
            "25/25 - 0s - loss: 2.3983 - sparse_categorical_accuracy: 0.0744 - val_loss: 2.3961 - val_sparse_categorical_accuracy: 0.1111\n",
            "Epoch 3/200\n",
            "25/25 - 0s - loss: 2.3983 - sparse_categorical_accuracy: 0.1074 - val_loss: 2.3965 - val_sparse_categorical_accuracy: 0.1111\n",
            "Epoch 4/200\n",
            "25/25 - 0s - loss: 2.3972 - sparse_categorical_accuracy: 0.1240 - val_loss: 2.3967 - val_sparse_categorical_accuracy: 0.0370\n",
            "Epoch 5/200\n",
            "25/25 - 0s - loss: 2.3971 - sparse_categorical_accuracy: 0.1322 - val_loss: 2.3968 - val_sparse_categorical_accuracy: 0.0370\n",
            "Epoch 6/200\n",
            "25/25 - 0s - loss: 2.3977 - sparse_categorical_accuracy: 0.1074 - val_loss: 2.3962 - val_sparse_categorical_accuracy: 0.0370\n",
            "Epoch 7/200\n",
            "25/25 - 0s - loss: 2.3969 - sparse_categorical_accuracy: 0.1074 - val_loss: 2.3962 - val_sparse_categorical_accuracy: 0.0370\n",
            "Epoch 8/200\n",
            "25/25 - 0s - loss: 2.3976 - sparse_categorical_accuracy: 0.0909 - val_loss: 2.3977 - val_sparse_categorical_accuracy: 0.0370\n",
            "Epoch 9/200\n",
            "25/25 - 0s - loss: 2.3966 - sparse_categorical_accuracy: 0.1157 - val_loss: 2.3974 - val_sparse_categorical_accuracy: 0.0370\n",
            "Epoch 10/200\n",
            "25/25 - 0s - loss: 2.3965 - sparse_categorical_accuracy: 0.1157 - val_loss: 2.3978 - val_sparse_categorical_accuracy: 0.0370\n",
            "Epoch 11/200\n",
            "25/25 - 0s - loss: 2.3979 - sparse_categorical_accuracy: 0.1157 - val_loss: 2.3978 - val_sparse_categorical_accuracy: 0.0370\n",
            "Epoch 12/200\n",
            "25/25 - 0s - loss: 2.3956 - sparse_categorical_accuracy: 0.1157 - val_loss: 2.3979 - val_sparse_categorical_accuracy: 0.0370\n",
            "Epoch 13/200\n",
            "25/25 - 0s - loss: 2.3965 - sparse_categorical_accuracy: 0.1157 - val_loss: 2.3975 - val_sparse_categorical_accuracy: 0.0370\n",
            "Epoch 14/200\n",
            "25/25 - 0s - loss: 2.3960 - sparse_categorical_accuracy: 0.1157 - val_loss: 2.3975 - val_sparse_categorical_accuracy: 0.0370\n",
            "Epoch 15/200\n",
            "25/25 - 0s - loss: 2.3948 - sparse_categorical_accuracy: 0.1157 - val_loss: 2.3984 - val_sparse_categorical_accuracy: 0.0370\n",
            "Epoch 16/200\n",
            "25/25 - 0s - loss: 2.3957 - sparse_categorical_accuracy: 0.1157 - val_loss: 2.3983 - val_sparse_categorical_accuracy: 0.0370\n",
            "Epoch 17/200\n",
            "25/25 - 0s - loss: 2.3952 - sparse_categorical_accuracy: 0.1157 - val_loss: 2.3992 - val_sparse_categorical_accuracy: 0.0370\n",
            "Epoch 18/200\n",
            "25/25 - 0s - loss: 2.3949 - sparse_categorical_accuracy: 0.1157 - val_loss: 2.3991 - val_sparse_categorical_accuracy: 0.0370\n",
            "Epoch 19/200\n",
            "25/25 - 0s - loss: 2.3959 - sparse_categorical_accuracy: 0.1157 - val_loss: 2.3989 - val_sparse_categorical_accuracy: 0.0370\n",
            "Epoch 20/200\n",
            "25/25 - 0s - loss: 2.3956 - sparse_categorical_accuracy: 0.1157 - val_loss: 2.3991 - val_sparse_categorical_accuracy: 0.0370\n",
            "Epoch 21/200\n",
            "25/25 - 0s - loss: 2.3947 - sparse_categorical_accuracy: 0.1157 - val_loss: 2.3984 - val_sparse_categorical_accuracy: 0.0370\n",
            "Epoch 22/200\n",
            "25/25 - 0s - loss: 2.3965 - sparse_categorical_accuracy: 0.1157 - val_loss: 2.3984 - val_sparse_categorical_accuracy: 0.0370\n",
            "Epoch 23/200\n",
            "25/25 - 0s - loss: 2.3959 - sparse_categorical_accuracy: 0.1157 - val_loss: 2.3982 - val_sparse_categorical_accuracy: 0.0370\n",
            "Epoch 24/200\n",
            "25/25 - 0s - loss: 2.3947 - sparse_categorical_accuracy: 0.1157 - val_loss: 2.3988 - val_sparse_categorical_accuracy: 0.0370\n",
            "Epoch 25/200\n",
            "25/25 - 0s - loss: 2.3926 - sparse_categorical_accuracy: 0.1157 - val_loss: 2.3989 - val_sparse_categorical_accuracy: 0.0370\n",
            "Epoch 26/200\n",
            "25/25 - 0s - loss: 2.3953 - sparse_categorical_accuracy: 0.1157 - val_loss: 2.3986 - val_sparse_categorical_accuracy: 0.0370\n",
            "Epoch 27/200\n",
            "25/25 - 0s - loss: 2.3960 - sparse_categorical_accuracy: 0.1157 - val_loss: 2.3987 - val_sparse_categorical_accuracy: 0.0370\n",
            "Epoch 28/200\n",
            "25/25 - 0s - loss: 2.3939 - sparse_categorical_accuracy: 0.1157 - val_loss: 2.3986 - val_sparse_categorical_accuracy: 0.0370\n",
            "Epoch 29/200\n",
            "25/25 - 0s - loss: 2.3939 - sparse_categorical_accuracy: 0.1157 - val_loss: 2.3991 - val_sparse_categorical_accuracy: 0.0370\n",
            "Epoch 30/200\n",
            "25/25 - 0s - loss: 2.3947 - sparse_categorical_accuracy: 0.1157 - val_loss: 2.3993 - val_sparse_categorical_accuracy: 0.0370\n",
            "Epoch 31/200\n",
            "25/25 - 0s - loss: 2.3961 - sparse_categorical_accuracy: 0.1157 - val_loss: 2.3994 - val_sparse_categorical_accuracy: 0.0370\n",
            "Epoch 32/200\n",
            "25/25 - 0s - loss: 2.3944 - sparse_categorical_accuracy: 0.1157 - val_loss: 2.4000 - val_sparse_categorical_accuracy: 0.0370\n",
            "Epoch 33/200\n",
            "25/25 - 0s - loss: 2.3957 - sparse_categorical_accuracy: 0.1157 - val_loss: 2.3998 - val_sparse_categorical_accuracy: 0.0370\n",
            "Epoch 34/200\n",
            "25/25 - 0s - loss: 2.3947 - sparse_categorical_accuracy: 0.1157 - val_loss: 2.3995 - val_sparse_categorical_accuracy: 0.0370\n",
            "Epoch 35/200\n",
            "25/25 - 0s - loss: 2.3936 - sparse_categorical_accuracy: 0.1157 - val_loss: 2.3993 - val_sparse_categorical_accuracy: 0.0370\n",
            "Epoch 36/200\n",
            "25/25 - 0s - loss: 2.3943 - sparse_categorical_accuracy: 0.1157 - val_loss: 2.3992 - val_sparse_categorical_accuracy: 0.0370\n",
            "Epoch 37/200\n",
            "25/25 - 0s - loss: 2.3949 - sparse_categorical_accuracy: 0.1157 - val_loss: 2.3993 - val_sparse_categorical_accuracy: 0.0370\n",
            "Epoch 38/200\n",
            "25/25 - 0s - loss: 2.3926 - sparse_categorical_accuracy: 0.1157 - val_loss: 2.3992 - val_sparse_categorical_accuracy: 0.0370\n",
            "Epoch 39/200\n",
            "25/25 - 0s - loss: 2.3946 - sparse_categorical_accuracy: 0.1157 - val_loss: 2.3995 - val_sparse_categorical_accuracy: 0.0370\n",
            "Epoch 40/200\n",
            "25/25 - 0s - loss: 2.3939 - sparse_categorical_accuracy: 0.1157 - val_loss: 2.3996 - val_sparse_categorical_accuracy: 0.0370\n",
            "Epoch 41/200\n",
            "25/25 - 0s - loss: 2.3927 - sparse_categorical_accuracy: 0.1157 - val_loss: 2.4000 - val_sparse_categorical_accuracy: 0.0370\n",
            "Epoch 42/200\n",
            "25/25 - 0s - loss: 2.3935 - sparse_categorical_accuracy: 0.1157 - val_loss: 2.4001 - val_sparse_categorical_accuracy: 0.0370\n",
            "Epoch 43/200\n",
            "25/25 - 0s - loss: 2.3941 - sparse_categorical_accuracy: 0.1157 - val_loss: 2.3999 - val_sparse_categorical_accuracy: 0.0370\n",
            "Epoch 44/200\n",
            "25/25 - 0s - loss: 2.3946 - sparse_categorical_accuracy: 0.1157 - val_loss: 2.4001 - val_sparse_categorical_accuracy: 0.0370\n",
            "Epoch 45/200\n",
            "25/25 - 0s - loss: 2.3951 - sparse_categorical_accuracy: 0.1157 - val_loss: 2.4005 - val_sparse_categorical_accuracy: 0.0370\n",
            "Epoch 46/200\n",
            "25/25 - 0s - loss: 2.3935 - sparse_categorical_accuracy: 0.1157 - val_loss: 2.4006 - val_sparse_categorical_accuracy: 0.0370\n",
            "Epoch 47/200\n",
            "25/25 - 0s - loss: 2.3930 - sparse_categorical_accuracy: 0.1157 - val_loss: 2.4002 - val_sparse_categorical_accuracy: 0.0370\n",
            "Epoch 48/200\n",
            "25/25 - 0s - loss: 2.3921 - sparse_categorical_accuracy: 0.1157 - val_loss: 2.3999 - val_sparse_categorical_accuracy: 0.0370\n",
            "Epoch 49/200\n",
            "25/25 - 0s - loss: 2.3924 - sparse_categorical_accuracy: 0.1157 - val_loss: 2.3994 - val_sparse_categorical_accuracy: 0.0370\n",
            "Epoch 50/200\n",
            "25/25 - 0s - loss: 2.3934 - sparse_categorical_accuracy: 0.1157 - val_loss: 2.3996 - val_sparse_categorical_accuracy: 0.0370\n",
            "Epoch 51/200\n",
            "25/25 - 0s - loss: 2.3932 - sparse_categorical_accuracy: 0.1157 - val_loss: 2.3997 - val_sparse_categorical_accuracy: 0.0370\n",
            "Epoch 52/200\n",
            "25/25 - 0s - loss: 2.3934 - sparse_categorical_accuracy: 0.1157 - val_loss: 2.3999 - val_sparse_categorical_accuracy: 0.0370\n",
            "Epoch 53/200\n",
            "25/25 - 0s - loss: 2.3891 - sparse_categorical_accuracy: 0.1157 - val_loss: 2.3999 - val_sparse_categorical_accuracy: 0.0370\n",
            "Epoch 54/200\n",
            "25/25 - 0s - loss: 2.3940 - sparse_categorical_accuracy: 0.1157 - val_loss: 2.3997 - val_sparse_categorical_accuracy: 0.0370\n",
            "Epoch 55/200\n",
            "25/25 - 0s - loss: 2.3928 - sparse_categorical_accuracy: 0.1157 - val_loss: 2.3995 - val_sparse_categorical_accuracy: 0.0370\n",
            "Epoch 56/200\n",
            "25/25 - 0s - loss: 2.3930 - sparse_categorical_accuracy: 0.1157 - val_loss: 2.3997 - val_sparse_categorical_accuracy: 0.0370\n",
            "Epoch 57/200\n",
            "25/25 - 0s - loss: 2.3954 - sparse_categorical_accuracy: 0.1157 - val_loss: 2.3995 - val_sparse_categorical_accuracy: 0.0370\n",
            "Epoch 58/200\n",
            "25/25 - 0s - loss: 2.3934 - sparse_categorical_accuracy: 0.1157 - val_loss: 2.3994 - val_sparse_categorical_accuracy: 0.0370\n",
            "Epoch 59/200\n",
            "25/25 - 0s - loss: 2.3910 - sparse_categorical_accuracy: 0.1157 - val_loss: 2.4006 - val_sparse_categorical_accuracy: 0.0370\n",
            "Epoch 60/200\n",
            "25/25 - 0s - loss: 2.3942 - sparse_categorical_accuracy: 0.1157 - val_loss: 2.4006 - val_sparse_categorical_accuracy: 0.0370\n",
            "Epoch 61/200\n",
            "25/25 - 0s - loss: 2.3915 - sparse_categorical_accuracy: 0.1157 - val_loss: 2.4008 - val_sparse_categorical_accuracy: 0.0370\n",
            "Epoch 62/200\n",
            "25/25 - 0s - loss: 2.3956 - sparse_categorical_accuracy: 0.1157 - val_loss: 2.4010 - val_sparse_categorical_accuracy: 0.0370\n",
            "Epoch 63/200\n",
            "25/25 - 0s - loss: 2.3913 - sparse_categorical_accuracy: 0.1157 - val_loss: 2.4006 - val_sparse_categorical_accuracy: 0.0370\n",
            "Epoch 64/200\n",
            "25/25 - 0s - loss: 2.3947 - sparse_categorical_accuracy: 0.1157 - val_loss: 2.4009 - val_sparse_categorical_accuracy: 0.0370\n",
            "Epoch 65/200\n",
            "25/25 - 0s - loss: 2.3931 - sparse_categorical_accuracy: 0.1157 - val_loss: 2.4005 - val_sparse_categorical_accuracy: 0.0370\n",
            "Epoch 66/200\n",
            "25/25 - 0s - loss: 2.3927 - sparse_categorical_accuracy: 0.1157 - val_loss: 2.4006 - val_sparse_categorical_accuracy: 0.0370\n",
            "Epoch 67/200\n",
            "25/25 - 0s - loss: 2.3964 - sparse_categorical_accuracy: 0.1157 - val_loss: 2.4010 - val_sparse_categorical_accuracy: 0.0370\n",
            "Epoch 68/200\n",
            "25/25 - 0s - loss: 2.3958 - sparse_categorical_accuracy: 0.1157 - val_loss: 2.4010 - val_sparse_categorical_accuracy: 0.0370\n",
            "Epoch 69/200\n",
            "25/25 - 0s - loss: 2.3930 - sparse_categorical_accuracy: 0.1157 - val_loss: 2.4011 - val_sparse_categorical_accuracy: 0.0370\n",
            "Epoch 70/200\n",
            "25/25 - 0s - loss: 2.3931 - sparse_categorical_accuracy: 0.1157 - val_loss: 2.4008 - val_sparse_categorical_accuracy: 0.0370\n",
            "Epoch 71/200\n",
            "25/25 - 0s - loss: 2.3923 - sparse_categorical_accuracy: 0.1157 - val_loss: 2.4015 - val_sparse_categorical_accuracy: 0.0370\n",
            "Epoch 72/200\n",
            "25/25 - 0s - loss: 2.3917 - sparse_categorical_accuracy: 0.1157 - val_loss: 2.4017 - val_sparse_categorical_accuracy: 0.0370\n",
            "Epoch 73/200\n",
            "25/25 - 0s - loss: 2.3912 - sparse_categorical_accuracy: 0.1157 - val_loss: 2.4018 - val_sparse_categorical_accuracy: 0.0370\n",
            "Epoch 74/200\n",
            "25/25 - 0s - loss: 2.3900 - sparse_categorical_accuracy: 0.1157 - val_loss: 2.4014 - val_sparse_categorical_accuracy: 0.0370\n",
            "Epoch 75/200\n",
            "25/25 - 0s - loss: 2.3944 - sparse_categorical_accuracy: 0.1157 - val_loss: 2.4012 - val_sparse_categorical_accuracy: 0.0370\n",
            "Epoch 76/200\n",
            "25/25 - 0s - loss: 2.3929 - sparse_categorical_accuracy: 0.1157 - val_loss: 2.4011 - val_sparse_categorical_accuracy: 0.0370\n",
            "Epoch 77/200\n",
            "25/25 - 0s - loss: 2.3938 - sparse_categorical_accuracy: 0.1157 - val_loss: 2.4016 - val_sparse_categorical_accuracy: 0.0370\n",
            "Epoch 78/200\n",
            "25/25 - 0s - loss: 2.3905 - sparse_categorical_accuracy: 0.1157 - val_loss: 2.4017 - val_sparse_categorical_accuracy: 0.0370\n",
            "Epoch 79/200\n",
            "25/25 - 0s - loss: 2.3928 - sparse_categorical_accuracy: 0.1157 - val_loss: 2.4013 - val_sparse_categorical_accuracy: 0.0370\n",
            "Epoch 80/200\n",
            "25/25 - 0s - loss: 2.3925 - sparse_categorical_accuracy: 0.1157 - val_loss: 2.4020 - val_sparse_categorical_accuracy: 0.0370\n",
            "Epoch 81/200\n",
            "25/25 - 0s - loss: 2.3948 - sparse_categorical_accuracy: 0.1157 - val_loss: 2.4020 - val_sparse_categorical_accuracy: 0.0370\n",
            "Epoch 82/200\n",
            "25/25 - 0s - loss: 2.3921 - sparse_categorical_accuracy: 0.1157 - val_loss: 2.4017 - val_sparse_categorical_accuracy: 0.0370\n",
            "Epoch 83/200\n",
            "25/25 - 0s - loss: 2.3924 - sparse_categorical_accuracy: 0.1157 - val_loss: 2.4022 - val_sparse_categorical_accuracy: 0.0370\n",
            "Epoch 84/200\n",
            "25/25 - 0s - loss: 2.3916 - sparse_categorical_accuracy: 0.1157 - val_loss: 2.4017 - val_sparse_categorical_accuracy: 0.0370\n",
            "Epoch 85/200\n",
            "25/25 - 0s - loss: 2.3901 - sparse_categorical_accuracy: 0.1157 - val_loss: 2.4019 - val_sparse_categorical_accuracy: 0.0370\n",
            "Epoch 86/200\n",
            "25/25 - 0s - loss: 2.3953 - sparse_categorical_accuracy: 0.1157 - val_loss: 2.4015 - val_sparse_categorical_accuracy: 0.0370\n",
            "Epoch 87/200\n",
            "25/25 - 0s - loss: 2.3941 - sparse_categorical_accuracy: 0.1157 - val_loss: 2.4015 - val_sparse_categorical_accuracy: 0.0370\n",
            "Epoch 88/200\n",
            "25/25 - 0s - loss: 2.3937 - sparse_categorical_accuracy: 0.1157 - val_loss: 2.4012 - val_sparse_categorical_accuracy: 0.0370\n",
            "Epoch 89/200\n",
            "25/25 - 0s - loss: 2.3916 - sparse_categorical_accuracy: 0.1157 - val_loss: 2.4008 - val_sparse_categorical_accuracy: 0.0370\n",
            "Epoch 90/200\n",
            "25/25 - 0s - loss: 2.3918 - sparse_categorical_accuracy: 0.1157 - val_loss: 2.4010 - val_sparse_categorical_accuracy: 0.0370\n",
            "Epoch 91/200\n",
            "25/25 - 0s - loss: 2.3914 - sparse_categorical_accuracy: 0.1157 - val_loss: 2.4012 - val_sparse_categorical_accuracy: 0.0370\n",
            "Epoch 92/200\n",
            "25/25 - 0s - loss: 2.3905 - sparse_categorical_accuracy: 0.1157 - val_loss: 2.4011 - val_sparse_categorical_accuracy: 0.0370\n",
            "Epoch 93/200\n",
            "25/25 - 0s - loss: 2.3925 - sparse_categorical_accuracy: 0.1157 - val_loss: 2.4018 - val_sparse_categorical_accuracy: 0.0370\n",
            "Epoch 94/200\n",
            "25/25 - 0s - loss: 2.3948 - sparse_categorical_accuracy: 0.1157 - val_loss: 2.4021 - val_sparse_categorical_accuracy: 0.0370\n",
            "Epoch 95/200\n",
            "25/25 - 0s - loss: 2.3930 - sparse_categorical_accuracy: 0.1157 - val_loss: 2.4022 - val_sparse_categorical_accuracy: 0.0370\n",
            "Epoch 96/200\n",
            "25/25 - 0s - loss: 2.3948 - sparse_categorical_accuracy: 0.1157 - val_loss: 2.4020 - val_sparse_categorical_accuracy: 0.0370\n",
            "Epoch 97/200\n",
            "25/25 - 0s - loss: 2.3913 - sparse_categorical_accuracy: 0.1157 - val_loss: 2.4023 - val_sparse_categorical_accuracy: 0.0370\n",
            "Epoch 98/200\n",
            "25/25 - 0s - loss: 2.3920 - sparse_categorical_accuracy: 0.1157 - val_loss: 2.4023 - val_sparse_categorical_accuracy: 0.0370\n",
            "Epoch 99/200\n",
            "25/25 - 0s - loss: 2.3943 - sparse_categorical_accuracy: 0.1157 - val_loss: 2.4026 - val_sparse_categorical_accuracy: 0.0370\n",
            "Epoch 100/200\n",
            "25/25 - 0s - loss: 2.3955 - sparse_categorical_accuracy: 0.1157 - val_loss: 2.4029 - val_sparse_categorical_accuracy: 0.0370\n",
            "Epoch 101/200\n",
            "25/25 - 0s - loss: 2.3941 - sparse_categorical_accuracy: 0.1157 - val_loss: 2.4030 - val_sparse_categorical_accuracy: 0.0370\n",
            "Epoch 102/200\n",
            "25/25 - 0s - loss: 2.3933 - sparse_categorical_accuracy: 0.1157 - val_loss: 2.4031 - val_sparse_categorical_accuracy: 0.0370\n",
            "Epoch 103/200\n",
            "25/25 - 0s - loss: 2.3950 - sparse_categorical_accuracy: 0.1157 - val_loss: 2.4034 - val_sparse_categorical_accuracy: 0.0370\n",
            "Epoch 104/200\n",
            "25/25 - 0s - loss: 2.3939 - sparse_categorical_accuracy: 0.1157 - val_loss: 2.4030 - val_sparse_categorical_accuracy: 0.0370\n",
            "Epoch 105/200\n",
            "25/25 - 0s - loss: 2.3935 - sparse_categorical_accuracy: 0.1157 - val_loss: 2.4033 - val_sparse_categorical_accuracy: 0.0370\n",
            "Epoch 106/200\n",
            "25/25 - 0s - loss: 2.3923 - sparse_categorical_accuracy: 0.1157 - val_loss: 2.4033 - val_sparse_categorical_accuracy: 0.0370\n",
            "Epoch 107/200\n",
            "25/25 - 0s - loss: 2.3919 - sparse_categorical_accuracy: 0.1157 - val_loss: 2.4039 - val_sparse_categorical_accuracy: 0.0370\n",
            "Epoch 108/200\n",
            "25/25 - 0s - loss: 2.3936 - sparse_categorical_accuracy: 0.1157 - val_loss: 2.4040 - val_sparse_categorical_accuracy: 0.0370\n",
            "Epoch 109/200\n",
            "25/25 - 0s - loss: 2.3944 - sparse_categorical_accuracy: 0.1157 - val_loss: 2.4046 - val_sparse_categorical_accuracy: 0.0370\n",
            "Epoch 110/200\n",
            "25/25 - 0s - loss: 2.3930 - sparse_categorical_accuracy: 0.1157 - val_loss: 2.4041 - val_sparse_categorical_accuracy: 0.0370\n",
            "Epoch 111/200\n",
            "25/25 - 0s - loss: 2.3951 - sparse_categorical_accuracy: 0.1157 - val_loss: 2.4038 - val_sparse_categorical_accuracy: 0.0370\n",
            "Epoch 112/200\n",
            "25/25 - 0s - loss: 2.3913 - sparse_categorical_accuracy: 0.1157 - val_loss: 2.4043 - val_sparse_categorical_accuracy: 0.0370\n",
            "Epoch 113/200\n",
            "25/25 - 0s - loss: 2.3946 - sparse_categorical_accuracy: 0.1157 - val_loss: 2.4039 - val_sparse_categorical_accuracy: 0.0370\n",
            "Epoch 114/200\n",
            "25/25 - 0s - loss: 2.3940 - sparse_categorical_accuracy: 0.1157 - val_loss: 2.4033 - val_sparse_categorical_accuracy: 0.0370\n",
            "Epoch 115/200\n",
            "25/25 - 0s - loss: 2.3935 - sparse_categorical_accuracy: 0.1157 - val_loss: 2.4039 - val_sparse_categorical_accuracy: 0.0370\n",
            "Epoch 116/200\n",
            "25/25 - 0s - loss: 2.3902 - sparse_categorical_accuracy: 0.1157 - val_loss: 2.4040 - val_sparse_categorical_accuracy: 0.0370\n",
            "Epoch 117/200\n",
            "25/25 - 0s - loss: 2.3931 - sparse_categorical_accuracy: 0.1157 - val_loss: 2.4047 - val_sparse_categorical_accuracy: 0.0370\n",
            "Epoch 118/200\n",
            "25/25 - 0s - loss: 2.3938 - sparse_categorical_accuracy: 0.1157 - val_loss: 2.4048 - val_sparse_categorical_accuracy: 0.0370\n",
            "Epoch 119/200\n",
            "25/25 - 0s - loss: 2.3939 - sparse_categorical_accuracy: 0.1157 - val_loss: 2.4045 - val_sparse_categorical_accuracy: 0.0370\n",
            "Epoch 120/200\n",
            "25/25 - 0s - loss: 2.3949 - sparse_categorical_accuracy: 0.1157 - val_loss: 2.4046 - val_sparse_categorical_accuracy: 0.0370\n",
            "Epoch 121/200\n",
            "25/25 - 0s - loss: 2.3917 - sparse_categorical_accuracy: 0.1157 - val_loss: 2.4047 - val_sparse_categorical_accuracy: 0.0370\n",
            "Epoch 122/200\n",
            "25/25 - 0s - loss: 2.3933 - sparse_categorical_accuracy: 0.1157 - val_loss: 2.4046 - val_sparse_categorical_accuracy: 0.0370\n",
            "Epoch 123/200\n",
            "25/25 - 0s - loss: 2.3916 - sparse_categorical_accuracy: 0.1157 - val_loss: 2.4042 - val_sparse_categorical_accuracy: 0.0370\n",
            "Epoch 124/200\n",
            "25/25 - 0s - loss: 2.3936 - sparse_categorical_accuracy: 0.1157 - val_loss: 2.4040 - val_sparse_categorical_accuracy: 0.0370\n",
            "Epoch 125/200\n",
            "25/25 - 0s - loss: 2.3943 - sparse_categorical_accuracy: 0.1157 - val_loss: 2.4040 - val_sparse_categorical_accuracy: 0.0370\n",
            "Epoch 126/200\n",
            "25/25 - 0s - loss: 2.3921 - sparse_categorical_accuracy: 0.1157 - val_loss: 2.4040 - val_sparse_categorical_accuracy: 0.0370\n",
            "Epoch 127/200\n",
            "25/25 - 0s - loss: 2.3931 - sparse_categorical_accuracy: 0.1157 - val_loss: 2.4037 - val_sparse_categorical_accuracy: 0.0370\n",
            "Epoch 128/200\n",
            "25/25 - 0s - loss: 2.3912 - sparse_categorical_accuracy: 0.1157 - val_loss: 2.4041 - val_sparse_categorical_accuracy: 0.0370\n",
            "Epoch 129/200\n",
            "25/25 - 0s - loss: 2.3931 - sparse_categorical_accuracy: 0.1157 - val_loss: 2.4040 - val_sparse_categorical_accuracy: 0.0370\n",
            "Epoch 130/200\n",
            "25/25 - 0s - loss: 2.3924 - sparse_categorical_accuracy: 0.1157 - val_loss: 2.4038 - val_sparse_categorical_accuracy: 0.0370\n",
            "Epoch 131/200\n",
            "25/25 - 0s - loss: 2.3926 - sparse_categorical_accuracy: 0.1157 - val_loss: 2.4045 - val_sparse_categorical_accuracy: 0.0370\n",
            "Epoch 132/200\n",
            "25/25 - 0s - loss: 2.3924 - sparse_categorical_accuracy: 0.1157 - val_loss: 2.4045 - val_sparse_categorical_accuracy: 0.0370\n",
            "Epoch 133/200\n",
            "25/25 - 0s - loss: 2.3917 - sparse_categorical_accuracy: 0.1157 - val_loss: 2.4040 - val_sparse_categorical_accuracy: 0.0370\n",
            "Epoch 134/200\n",
            "25/25 - 0s - loss: 2.3944 - sparse_categorical_accuracy: 0.1157 - val_loss: 2.4041 - val_sparse_categorical_accuracy: 0.0370\n",
            "Epoch 135/200\n",
            "25/25 - 0s - loss: 2.3933 - sparse_categorical_accuracy: 0.1157 - val_loss: 2.4040 - val_sparse_categorical_accuracy: 0.0370\n",
            "Epoch 136/200\n",
            "25/25 - 0s - loss: 2.3933 - sparse_categorical_accuracy: 0.1157 - val_loss: 2.4044 - val_sparse_categorical_accuracy: 0.0370\n",
            "Epoch 137/200\n",
            "25/25 - 0s - loss: 2.3921 - sparse_categorical_accuracy: 0.1157 - val_loss: 2.4050 - val_sparse_categorical_accuracy: 0.0370\n",
            "Epoch 138/200\n",
            "25/25 - 0s - loss: 2.3920 - sparse_categorical_accuracy: 0.1157 - val_loss: 2.4052 - val_sparse_categorical_accuracy: 0.0370\n",
            "Epoch 139/200\n",
            "25/25 - 0s - loss: 2.3915 - sparse_categorical_accuracy: 0.1157 - val_loss: 2.4049 - val_sparse_categorical_accuracy: 0.0370\n",
            "Epoch 140/200\n",
            "25/25 - 0s - loss: 2.3937 - sparse_categorical_accuracy: 0.1157 - val_loss: 2.4051 - val_sparse_categorical_accuracy: 0.0370\n",
            "Epoch 141/200\n",
            "25/25 - 0s - loss: 2.3930 - sparse_categorical_accuracy: 0.1157 - val_loss: 2.4051 - val_sparse_categorical_accuracy: 0.0370\n",
            "Epoch 142/200\n",
            "25/25 - 0s - loss: 2.3924 - sparse_categorical_accuracy: 0.1157 - val_loss: 2.4051 - val_sparse_categorical_accuracy: 0.0370\n",
            "Epoch 143/200\n",
            "25/25 - 0s - loss: 2.3927 - sparse_categorical_accuracy: 0.1157 - val_loss: 2.4054 - val_sparse_categorical_accuracy: 0.0370\n",
            "Epoch 144/200\n",
            "25/25 - 0s - loss: 2.3918 - sparse_categorical_accuracy: 0.1157 - val_loss: 2.4054 - val_sparse_categorical_accuracy: 0.0370\n",
            "Epoch 145/200\n",
            "25/25 - 0s - loss: 2.3929 - sparse_categorical_accuracy: 0.1157 - val_loss: 2.4056 - val_sparse_categorical_accuracy: 0.0370\n",
            "Epoch 146/200\n",
            "25/25 - 0s - loss: 2.3915 - sparse_categorical_accuracy: 0.1157 - val_loss: 2.4052 - val_sparse_categorical_accuracy: 0.0370\n",
            "Epoch 147/200\n",
            "25/25 - 0s - loss: 2.3914 - sparse_categorical_accuracy: 0.1157 - val_loss: 2.4043 - val_sparse_categorical_accuracy: 0.0370\n",
            "Epoch 148/200\n",
            "25/25 - 0s - loss: 2.3915 - sparse_categorical_accuracy: 0.1157 - val_loss: 2.4050 - val_sparse_categorical_accuracy: 0.0370\n",
            "Epoch 149/200\n",
            "25/25 - 0s - loss: 2.3918 - sparse_categorical_accuracy: 0.1157 - val_loss: 2.4047 - val_sparse_categorical_accuracy: 0.0370\n",
            "Epoch 150/200\n",
            "25/25 - 0s - loss: 2.3909 - sparse_categorical_accuracy: 0.1157 - val_loss: 2.4046 - val_sparse_categorical_accuracy: 0.0370\n",
            "Epoch 151/200\n",
            "25/25 - 0s - loss: 2.3921 - sparse_categorical_accuracy: 0.1157 - val_loss: 2.4044 - val_sparse_categorical_accuracy: 0.0370\n",
            "Epoch 152/200\n",
            "25/25 - 0s - loss: 2.3921 - sparse_categorical_accuracy: 0.1157 - val_loss: 2.4048 - val_sparse_categorical_accuracy: 0.0370\n",
            "Epoch 153/200\n",
            "25/25 - 0s - loss: 2.3938 - sparse_categorical_accuracy: 0.1157 - val_loss: 2.4051 - val_sparse_categorical_accuracy: 0.0370\n",
            "Epoch 154/200\n",
            "25/25 - 0s - loss: 2.3920 - sparse_categorical_accuracy: 0.1157 - val_loss: 2.4054 - val_sparse_categorical_accuracy: 0.0370\n",
            "Epoch 155/200\n",
            "25/25 - 0s - loss: 2.3915 - sparse_categorical_accuracy: 0.1157 - val_loss: 2.4052 - val_sparse_categorical_accuracy: 0.0370\n",
            "Epoch 156/200\n",
            "25/25 - 0s - loss: 2.3921 - sparse_categorical_accuracy: 0.1157 - val_loss: 2.4058 - val_sparse_categorical_accuracy: 0.0370\n",
            "Epoch 157/200\n",
            "25/25 - 0s - loss: 2.3904 - sparse_categorical_accuracy: 0.1157 - val_loss: 2.4055 - val_sparse_categorical_accuracy: 0.0370\n",
            "Epoch 158/200\n",
            "25/25 - 0s - loss: 2.3940 - sparse_categorical_accuracy: 0.1157 - val_loss: 2.4056 - val_sparse_categorical_accuracy: 0.0370\n",
            "Epoch 159/200\n",
            "25/25 - 0s - loss: 2.3910 - sparse_categorical_accuracy: 0.1157 - val_loss: 2.4054 - val_sparse_categorical_accuracy: 0.0370\n",
            "Epoch 160/200\n",
            "25/25 - 0s - loss: 2.3947 - sparse_categorical_accuracy: 0.1157 - val_loss: 2.4052 - val_sparse_categorical_accuracy: 0.0370\n",
            "Epoch 161/200\n",
            "25/25 - 0s - loss: 2.3915 - sparse_categorical_accuracy: 0.1157 - val_loss: 2.4050 - val_sparse_categorical_accuracy: 0.0370\n",
            "Epoch 162/200\n",
            "25/25 - 0s - loss: 2.3947 - sparse_categorical_accuracy: 0.1157 - val_loss: 2.4053 - val_sparse_categorical_accuracy: 0.0370\n",
            "Epoch 163/200\n",
            "25/25 - 0s - loss: 2.3898 - sparse_categorical_accuracy: 0.1157 - val_loss: 2.4060 - val_sparse_categorical_accuracy: 0.0370\n",
            "Epoch 164/200\n",
            "25/25 - 0s - loss: 2.3944 - sparse_categorical_accuracy: 0.1157 - val_loss: 2.4058 - val_sparse_categorical_accuracy: 0.0370\n",
            "Epoch 165/200\n",
            "25/25 - 0s - loss: 2.3926 - sparse_categorical_accuracy: 0.1157 - val_loss: 2.4056 - val_sparse_categorical_accuracy: 0.0370\n",
            "Epoch 166/200\n",
            "25/25 - 0s - loss: 2.3896 - sparse_categorical_accuracy: 0.1157 - val_loss: 2.4055 - val_sparse_categorical_accuracy: 0.0370\n",
            "Epoch 167/200\n",
            "25/25 - 0s - loss: 2.3928 - sparse_categorical_accuracy: 0.1157 - val_loss: 2.4056 - val_sparse_categorical_accuracy: 0.0370\n",
            "Epoch 168/200\n",
            "25/25 - 0s - loss: 2.3916 - sparse_categorical_accuracy: 0.1157 - val_loss: 2.4050 - val_sparse_categorical_accuracy: 0.0370\n",
            "Epoch 169/200\n",
            "25/25 - 0s - loss: 2.3943 - sparse_categorical_accuracy: 0.1157 - val_loss: 2.4052 - val_sparse_categorical_accuracy: 0.0370\n",
            "Epoch 170/200\n",
            "25/25 - 0s - loss: 2.3935 - sparse_categorical_accuracy: 0.1157 - val_loss: 2.4053 - val_sparse_categorical_accuracy: 0.0370\n",
            "Epoch 171/200\n",
            "25/25 - 0s - loss: 2.3902 - sparse_categorical_accuracy: 0.1157 - val_loss: 2.4055 - val_sparse_categorical_accuracy: 0.0370\n",
            "Epoch 172/200\n",
            "25/25 - 0s - loss: 2.3935 - sparse_categorical_accuracy: 0.1157 - val_loss: 2.4052 - val_sparse_categorical_accuracy: 0.0370\n",
            "Epoch 173/200\n",
            "25/25 - 0s - loss: 2.3953 - sparse_categorical_accuracy: 0.1157 - val_loss: 2.4050 - val_sparse_categorical_accuracy: 0.0370\n",
            "Epoch 174/200\n",
            "25/25 - 0s - loss: 2.3930 - sparse_categorical_accuracy: 0.1157 - val_loss: 2.4051 - val_sparse_categorical_accuracy: 0.0370\n",
            "Epoch 175/200\n",
            "25/25 - 0s - loss: 2.3922 - sparse_categorical_accuracy: 0.1157 - val_loss: 2.4049 - val_sparse_categorical_accuracy: 0.0370\n",
            "Epoch 176/200\n",
            "25/25 - 0s - loss: 2.3906 - sparse_categorical_accuracy: 0.1157 - val_loss: 2.4049 - val_sparse_categorical_accuracy: 0.0370\n",
            "Epoch 177/200\n",
            "25/25 - 0s - loss: 2.3932 - sparse_categorical_accuracy: 0.1157 - val_loss: 2.4044 - val_sparse_categorical_accuracy: 0.0370\n",
            "Epoch 178/200\n",
            "25/25 - 0s - loss: 2.3926 - sparse_categorical_accuracy: 0.1157 - val_loss: 2.4039 - val_sparse_categorical_accuracy: 0.0370\n",
            "Epoch 179/200\n",
            "25/25 - 0s - loss: 2.3933 - sparse_categorical_accuracy: 0.1157 - val_loss: 2.4035 - val_sparse_categorical_accuracy: 0.0370\n",
            "Epoch 180/200\n",
            "25/25 - 0s - loss: 2.3917 - sparse_categorical_accuracy: 0.1157 - val_loss: 2.4038 - val_sparse_categorical_accuracy: 0.0370\n",
            "Epoch 181/200\n",
            "25/25 - 0s - loss: 2.3935 - sparse_categorical_accuracy: 0.1157 - val_loss: 2.4042 - val_sparse_categorical_accuracy: 0.0370\n",
            "Epoch 182/200\n",
            "25/25 - 0s - loss: 2.3957 - sparse_categorical_accuracy: 0.1157 - val_loss: 2.4044 - val_sparse_categorical_accuracy: 0.0370\n",
            "Epoch 183/200\n",
            "25/25 - 0s - loss: 2.3936 - sparse_categorical_accuracy: 0.1157 - val_loss: 2.4044 - val_sparse_categorical_accuracy: 0.0370\n",
            "Epoch 184/200\n",
            "25/25 - 0s - loss: 2.3929 - sparse_categorical_accuracy: 0.1157 - val_loss: 2.4047 - val_sparse_categorical_accuracy: 0.0370\n",
            "Epoch 185/200\n",
            "25/25 - 0s - loss: 2.3923 - sparse_categorical_accuracy: 0.1157 - val_loss: 2.4042 - val_sparse_categorical_accuracy: 0.0370\n",
            "Epoch 186/200\n",
            "25/25 - 0s - loss: 2.3930 - sparse_categorical_accuracy: 0.1157 - val_loss: 2.4043 - val_sparse_categorical_accuracy: 0.0370\n",
            "Epoch 187/200\n",
            "25/25 - 0s - loss: 2.3919 - sparse_categorical_accuracy: 0.1157 - val_loss: 2.4043 - val_sparse_categorical_accuracy: 0.0370\n",
            "Epoch 188/200\n",
            "25/25 - 0s - loss: 2.3916 - sparse_categorical_accuracy: 0.1157 - val_loss: 2.4044 - val_sparse_categorical_accuracy: 0.0370\n",
            "Epoch 189/200\n",
            "25/25 - 0s - loss: 2.3930 - sparse_categorical_accuracy: 0.1157 - val_loss: 2.4043 - val_sparse_categorical_accuracy: 0.0370\n",
            "Epoch 190/200\n",
            "25/25 - 0s - loss: 2.3937 - sparse_categorical_accuracy: 0.1157 - val_loss: 2.4035 - val_sparse_categorical_accuracy: 0.0370\n",
            "Epoch 191/200\n",
            "25/25 - 0s - loss: 2.3911 - sparse_categorical_accuracy: 0.1157 - val_loss: 2.4035 - val_sparse_categorical_accuracy: 0.0370\n",
            "Epoch 192/200\n",
            "25/25 - 0s - loss: 2.3940 - sparse_categorical_accuracy: 0.1157 - val_loss: 2.4038 - val_sparse_categorical_accuracy: 0.0370\n",
            "Epoch 193/200\n",
            "25/25 - 0s - loss: 2.3918 - sparse_categorical_accuracy: 0.1157 - val_loss: 2.4036 - val_sparse_categorical_accuracy: 0.0370\n",
            "Epoch 194/200\n",
            "25/25 - 0s - loss: 2.3924 - sparse_categorical_accuracy: 0.1157 - val_loss: 2.4036 - val_sparse_categorical_accuracy: 0.0370\n",
            "Epoch 195/200\n",
            "25/25 - 0s - loss: 2.3908 - sparse_categorical_accuracy: 0.1157 - val_loss: 2.4033 - val_sparse_categorical_accuracy: 0.0370\n",
            "Epoch 196/200\n",
            "25/25 - 0s - loss: 2.3937 - sparse_categorical_accuracy: 0.1157 - val_loss: 2.4032 - val_sparse_categorical_accuracy: 0.0370\n",
            "Epoch 197/200\n",
            "25/25 - 0s - loss: 2.3934 - sparse_categorical_accuracy: 0.1157 - val_loss: 2.4033 - val_sparse_categorical_accuracy: 0.0370\n",
            "Epoch 198/200\n",
            "25/25 - 0s - loss: 2.3916 - sparse_categorical_accuracy: 0.1157 - val_loss: 2.4029 - val_sparse_categorical_accuracy: 0.0370\n",
            "Epoch 199/200\n",
            "25/25 - 0s - loss: 2.3932 - sparse_categorical_accuracy: 0.1157 - val_loss: 2.4036 - val_sparse_categorical_accuracy: 0.0370\n",
            "Epoch 200/200\n",
            "25/25 - 0s - loss: 2.3946 - sparse_categorical_accuracy: 0.1157 - val_loss: 2.4037 - val_sparse_categorical_accuracy: 0.0370\n"
          ],
          "name": "stdout"
        }
      ]
    },
    {
      "cell_type": "code",
      "metadata": {
        "colab": {
          "base_uri": "https://localhost:8080/",
          "height": 591
        },
        "id": "Ys_VLXB5z481",
        "outputId": "29f4075e-c849-4a6b-e2b2-0d91b2c2b736"
      },
      "source": [
        "# plot model accuracy and loss \n",
        "# accuracy\n",
        "plt.plot(history.history['sparse_categorical_accuracy'])\n",
        "plt.plot(history.history['val_sparse_categorical_accuracy'])\n",
        "plt.title('model accuracy')\n",
        "plt.ylabel('accuracy')\n",
        "plt.xlabel('epoch')\n",
        "plt.legend(['train', 'val'], loc='upper left')\n",
        "plt.show()\n",
        "# loss\n",
        "plt.plot(history.history['loss'])\n",
        "plt.plot(history.history['val_loss'])\n",
        "plt.title('model loss')\n",
        "plt.ylabel('loss')\n",
        "plt.xlabel('epoch')\n",
        "plt.legend(['train', 'val'], loc='upper left')\n",
        "plt.show()\n",
        "\n",
        "# evaluating\n",
        "test_loss, test_acc = model.evaluate(new_X_test, y_test, verbose = 2)\n",
        "# # Predicting labels\n",
        "# predicted_values = model.predict(new_X_test)\n",
        "# predicted_classes = np.where(predicted_values > 0.5, 1, 0)\n",
        "# # visualize confusion matrix \n",
        "# tn, fp, fn, tp = confusion_matrix(y_test, predicted_classes[:,0]).ravel()\n",
        "# print('tn = ',tn , '\\t','fp = ',fp , '\\t','fn = ',fn , '\\t','tp = ',tp )"
      ],
      "execution_count": 44,
      "outputs": [
        {
          "output_type": "display_data",
          "data": {
            "image/png": "[encoded data removed]",
            "text/plain": [
              "<Figure size 432x288 with 1 Axes>"
            ]
          },
          "metadata": {
            "tags": [],
            "needs_background": "light"
          }
        },
        {
          "output_type": "display_data",
          "data": {
            "image/png": "[encoded data removed]",
            "text/plain": [
              "<Figure size 432x288 with 1 Axes>"
            ]
          },
          "metadata": {
            "tags": [],
            "needs_background": "light"
          }
        },
        {
          "output_type": "stream",
          "text": [
            "1/1 - 0s - loss: 2.4790 - sparse_categorical_accuracy: 0.0000e+00\n"
          ],
          "name": "stdout"
        }
      ]
    }
  ]
}