{
  "nbformat": 4,
  "nbformat_minor": 0,
  "metadata": {
    "colab": {
      "name": "SOFM.ipynb",
      "provenance": [],
      "toc_visible": true,
      "mount_file_id": "1-ITPKWXRxtuGr5pb1mLO0aC_AVHFCWre",
      "authorship_tag": "ABX9TyNCspp8poEKTXIYjhQIGhbQ",
      "include_colab_link": true
    },
    "kernelspec": {
      "name": "python3",
      "display_name": "Python 3"
    },
    "language_info": {
      "name": "python"
    }
  },
  "cells": [
    {
      "cell_type": "markdown",
      "metadata": {
        "id": "view-in-github",
        "colab_type": "text"
      },
      "source": [
        "<a href=\"https://colab.research.google.com/github/zahraDehghanian97/Self_Organizing_Map/blob/master/SOFM.ipynb\" target=\"_parent\"><img src=\"https://colab.research.google.com/assets/colab-badge.svg\" alt=\"Open In Colab\"/></a>"
      ]
    },
    {
      "cell_type": "markdown",
      "metadata": {
        "id": "S7rC1g5pPR_f"
      },
      "source": [
        "# **prerequisit**"
      ]
    },
    {
      "cell_type": "code",
      "metadata": {
        "id": "O4Iw8mqLcrv7"
      },
      "source": [
        "try :\n",
        "  %tensorflow_version 2.x\n",
        "except:\n",
        "  pass\n",
        "import tensorflow as tf\n",
        "from tensorflow import keras\n",
        "import numpy as np\n",
        "import matplotlib.pyplot as plt\n",
        "import random\n",
        "from sklearn.metrics import confusion_matrix\n",
        "from sklearn import preprocessing\n",
        "from PIL import Image\n",
        "import glob\n",
        "import pickle\n",
        "import random\n",
        "from sklearn.neural_network import MLPClassifier\n",
        "from sklearn.model_selection import train_test_split\n"
      ],
      "execution_count": 27,
      "outputs": []
    },
    {
      "cell_type": "markdown",
      "metadata": {
        "id": "VIK3EJP3PPO2"
      },
      "source": [
        "## mount google drive"
      ]
    },
    {
      "cell_type": "code",
      "metadata": {
        "colab": {
          "base_uri": "https://localhost:8080/"
        },
        "id": "hUoq6FT3OGLq",
        "outputId": "38534739-c7ac-4e5f-da5b-cd700180f1eb"
      },
      "source": [
        "from google.colab import drive\n",
        "drive.mount('/content/drive')"
      ],
      "execution_count": 2,
      "outputs": [
        {
          "output_type": "stream",
          "text": [
            "Mounted at /content/drive\n"
          ],
          "name": "stdout"
        }
      ]
    },
    {
      "cell_type": "markdown",
      "metadata": {
        "id": "geI2i3vvPMCS"
      },
      "source": [
        "# **make dataset ready**"
      ]
    },
    {
      "cell_type": "code",
      "metadata": {
        "id": "oI7xqsYyPK9f",
        "colab": {
          "base_uri": "https://localhost:8080/"
        },
        "outputId": "19397958-9bc2-46a0-ef9f-c9f562527b44"
      },
      "source": [
        "def load_photos(dir_name):\n",
        "    photo_list =[]\n",
        "    labels = []\n",
        "    for file_name in (glob.glob(dir_name+'/*')):\n",
        "        image = Image.open(file_name)\n",
        "        image = np.array(image).flatten()\n",
        "        photo_list.append(image)\n",
        "        x = file_name.split('/')\n",
        "        labels.append(x[6].split('.')[1])\n",
        "    photo_list = np.array(photo_list)\n",
        "    photo_list = np.array(preprocessing.MinMaxScaler(feature_range=(0,1)).fit_transform(photo_list))\n",
        "    unique_value =list(set(labels))\n",
        "    y = []\n",
        "    for label in labels :\n",
        "      y.append(unique_value.index(label))\n",
        "    return photo_list , unique_value , y \n",
        "  \n",
        "    \n",
        "\n",
        "dir_name = \"/content/drive/MyDrive/Colab Notebooks/yalefaces\"\n",
        "X , unique_value , y= load_photos(dir_name) \n",
        "n_features =len(X[0])\n",
        "n_classes = len(unique_value)\n",
        "print(n_classes)\n",
        "print(X[0])\n",
        "print(n_features)\n",
        "print(y)\n",
        "\n"
      ],
      "execution_count": 15,
      "outputs": [
        {
          "output_type": "stream",
          "text": [
            "11\n",
            "[1. 1. 1. ... 0. 0. 0.]\n",
            "77760\n",
            "[0, 6, 1, 7, 4, 2, 8, 9, 3, 5, 10, 6, 0, 1, 7, 4, 2, 9, 8, 5, 3, 10, 6, 1, 0, 7, 2, 4, 9, 8, 5, 3, 10, 6, 1, 0, 7, 4, 9, 2, 5, 3, 10, 6, 0, 1, 7, 4, 9, 2, 5, 8, 3, 6, 10, 0, 1, 7, 4, 9, 2, 8, 3, 5, 10, 6, 0, 1, 7, 4, 9, 2, 8, 5, 3, 10, 6, 0, 7, 1, 4, 9, 2, 8, 3, 5, 10, 0, 6, 1, 4, 7, 9, 2, 8, 5, 10, 3, 0, 6, 1, 4, 7, 2, 8, 9, 5, 10, 3, 6, 0, 1, 7, 4, 2, 8, 9, 5, 3, 10, 6, 0, 1, 7, 2, 4, 8, 9, 5, 10, 3, 6, 0, 1, 7, 2, 4, 9, 8, 5, 3, 10, 6, 1, 0, 7, 4, 2, 8, 9, 5, 10, 3, 6, 0, 1, 4, 7, 2, 8, 9, 5, 10, 3, 8]\n"
          ],
          "name": "stdout"
        }
      ]
    },
    {
      "cell_type": "markdown",
      "metadata": {
        "id": "kaREQWe64kR-"
      },
      "source": [
        "# **SOM Class**"
      ]
    },
    {
      "cell_type": "code",
      "metadata": {
        "colab": {
          "base_uri": "https://localhost:8080/",
          "height": 415
        },
        "id": "gq-LN9io5VLf",
        "outputId": "90071f66-298e-489b-e6b7-7a18d3689140"
      },
      "source": [
        "class SOM:\n",
        "    def __init__(self,data, map_size,dir_map=\"not load from file\", lr = 0.05):\n",
        "        self.map = np.zeros(shape=map_size)\n",
        "        ind = np.random.choice(data.shape[0],(map_size[0], map_size[1]) , replace=False)\n",
        "        for i in range(map_size[0]):\n",
        "          for j in range (map_size[1]):\n",
        "            self.map[i,j] = data[ind[i,j]]\n",
        "        self.lr0 = lr\n",
        "        self.lr = self.lr0\n",
        "        self.R0 = map_size[0]//2\n",
        "        self.R = self.R0\n",
        "        if dir_map != \"not load from file\":\n",
        "          self.load_map(dir_map)\n",
        "    \n",
        "    def load_map(self,dir_map):\n",
        "        with open(dir_map, \"rb\") as f:\n",
        "            self.map = pickle.load(f)\n",
        "        print(\"load map finished\")\n",
        "\n",
        "        \n",
        "    def train(self, X, y,dir_map, T=1000, error_threshold=10**-20): \n",
        "        Js = []\n",
        "        for t in range(T):\n",
        "            prev_map = np.copy(self.map)\n",
        "            shuffle_ind = np.random.randint(low=0, high=len(X), size=len(X))  # a vector of random indices\n",
        "            for i in range(len(X)):\n",
        "                x = X[shuffle_ind[i],:]\n",
        "                x = np.asarray(x)\n",
        "                winner = self.find_winner(x)    # winner = [1,4]\n",
        "                NS = self.get_NS(winner)\n",
        "                self.update_weights(x, NS, len(X))\n",
        "            self.lr = self.lr0 * (1 - t/T)\n",
        "            self.R = self.R0 * (1 - t/T)\n",
        "            Js.append(np.linalg.norm(prev_map - self.map))     # norm of changes\n",
        "            if t % 10 == 0:\n",
        "                print('Iteration: %d, LR: %f, R: %f, J: %f' %(t, self.lr, self.R, Js[-1]))\n",
        "                # self.visualize(X, y)\n",
        "            # print('Iteration: %d, LR: %f, R: %f, J: %f' %(t, self.lr, self.R, Js[-1]))\n",
        "\n",
        "            if Js[-1] < error_threshold:\n",
        "                print('Min changes')\n",
        "                break\n",
        "\n",
        "        # save founded model\n",
        "        with open(dir_map, 'wb') as f:  \n",
        "          pickle.dump(self.map, f)\n",
        "\n",
        "        return Js\n",
        "            \n",
        "    def find_winner(self, x):\n",
        "        rep_x = np.tile(x, [self.map.shape[0], self.map.shape[1], 1])\n",
        "        dists = np.sum((self.map - rep_x)**2, axis=2)   \n",
        "        winner = np.unravel_index(np.argmin(dists, axis=None), dists.shape)\n",
        "        return winner\n",
        "    \n",
        "    def get_NS(self, winner):\n",
        "        # not neighbor = 0 , neighbor = 1/sqrt(euclidean_distance)\n",
        "        NS = np.zeros(shape= (self.map.shape[0], self.map.shape[1]))\n",
        "        iw, jw = winner[0], winner[1]\n",
        "        R = int(self.R)\n",
        "        for ri in range(-R, R):\n",
        "            for rj in range(-R, R):\n",
        "                if (0 <= iw + ri < self.map.shape[0]) and  (0 <= jw + rj < self.map.shape[1]):   \n",
        "                    NS[iw + ri, jw + rj] = 0 if np.sqrt(ri**2 + rj**2) > R else 1/ ( 1+ np.sqrt(ri**2 + rj**2))  \n",
        "        return NS\n",
        "    \n",
        "    def update_weights(self, x, n_strength, X_len):\n",
        "        NS = np.tile(n_strength, [self.map.shape[2],1,1]).transpose()\n",
        "        rep_x = np.tile(x, [self.map.shape[0], self.map.shape[1], 1])\n",
        "        Delta = rep_x - self.map \n",
        "        self.map = self.map + (self.lr/X_len) * np.multiply(NS, Delta)\n",
        "\n",
        "    def visualize(self, X, y):\n",
        "        scores = np.zeros(shape=(self.map.shape[0], self.map.shape[1],len(list(set(y)))))  \n",
        "        self.scores = np.zeros(shape=(self.map.shape[0], self.map.shape[1]))  \n",
        "        for i in range(len(X)):\n",
        "            x = X[i, :]\n",
        "            x = np.asarray(x)\n",
        "            winner = self.find_winner(x)\n",
        "            iw, jw = winner[0], winner[1]\n",
        "            scores[iw, jw][y[i]] += 1\n",
        "        for i in range(len(scores)):\n",
        "            for j in range(len(scores[0])):\n",
        "              self.scores[i,j] = np.argmax(scores[i,j])\n",
        "        print(self.scores)\n",
        "\n",
        "        c = plt.imshow(self.scores, cmap='jet')\n",
        "        plt.colorbar(c)\n",
        "        for i in range(len(scores)):\n",
        "          for j in range(len(scores[0])):\n",
        "            plt.text(j,i, self.scores[i, j],ha=\"center\", va=\"center\", color=\"w\")\n",
        "        plt.title(\"Class of each Nuoron\")\n",
        "        plt.show()\n",
        "        \n",
        "\n",
        "    def extract_feature(self, x): # here we give a data of n feature and take a matrix of size map as output (e.g, 9*9)\n",
        "        x = np.asarray(x)\n",
        "        rep_x = np.tile(x, [self.map.shape[0], self.map.shape[0], 1])\n",
        "        dists = np.sum((self.map - rep_x)**2, axis=2)\n",
        "        return 1/ (1 + dists)\n",
        "     \n",
        "m_size = 6\n",
        "dir_map = '/content/drive/MyDrive/Colab Notebooks/map'+str(m_size)+'*'+str(m_size)+'.txt'\n",
        "\n",
        "som_net = SOM(data = X,dir_map = dir_map,map_size = [m_size,m_size,n_features])\n",
        "\n",
        "# train SOM Net\n",
        "Js = som_net.train(X, y,dir_map, T = 500)\n",
        "plt.plot(Js)\n",
        "plt.show()\n",
        "\n",
        "# # reload saved model \n",
        "# som_net.load_map(dir_map)\n",
        "\n",
        "# visualize founded Neuron\n",
        "som_net.visualize(X, y)\n",
        "print(\"Meaning of each number :\")\n",
        "s = \"\"\n",
        "for i in range(len(unique_value)):\n",
        "  s = s + str(i) + \" : \"+unique_value[i]+\"   \"\n",
        "print(s)\n"
      ],
      "execution_count": 23,
      "outputs": [
        {
          "output_type": "stream",
          "text": [
            "load map finished\n",
            "Iteration: 0, LR: 0.050000, R: 3.000000, J: 1.019750\n"
          ],
          "name": "stdout"
        },
        {
          "output_type": "error",
          "ename": "KeyboardInterrupt",
          "evalue": "ignored",
          "traceback": [
            "\u001b[0;31m---------------------------------------------------------------------------\u001b[0m",
            "\u001b[0;31mKeyboardInterrupt\u001b[0m                         Traceback (most recent call last)",
            "\u001b[0;32m<ipython-input-23-84001f93cc06>\u001b[0m in \u001b[0;36m<module>\u001b[0;34m()\u001b[0m\n\u001b[1;32m    106\u001b[0m \u001b[0;34m\u001b[0m\u001b[0m\n\u001b[1;32m    107\u001b[0m \u001b[0;31m# train SOM Net\u001b[0m\u001b[0;34m\u001b[0m\u001b[0;34m\u001b[0m\u001b[0;34m\u001b[0m\u001b[0m\n\u001b[0;32m--> 108\u001b[0;31m \u001b[0mJs\u001b[0m \u001b[0;34m=\u001b[0m \u001b[0msom_net\u001b[0m\u001b[0;34m.\u001b[0m\u001b[0mtrain\u001b[0m\u001b[0;34m(\u001b[0m\u001b[0mX\u001b[0m\u001b[0;34m,\u001b[0m \u001b[0my\u001b[0m\u001b[0;34m,\u001b[0m\u001b[0mdir_map\u001b[0m\u001b[0;34m,\u001b[0m \u001b[0mT\u001b[0m \u001b[0;34m=\u001b[0m \u001b[0;36m500\u001b[0m\u001b[0;34m)\u001b[0m\u001b[0;34m\u001b[0m\u001b[0;34m\u001b[0m\u001b[0m\n\u001b[0m\u001b[1;32m    109\u001b[0m \u001b[0mplt\u001b[0m\u001b[0;34m.\u001b[0m\u001b[0mplot\u001b[0m\u001b[0;34m(\u001b[0m\u001b[0mJs\u001b[0m\u001b[0;34m)\u001b[0m\u001b[0;34m\u001b[0m\u001b[0;34m\u001b[0m\u001b[0m\n\u001b[1;32m    110\u001b[0m \u001b[0mplt\u001b[0m\u001b[0;34m.\u001b[0m\u001b[0mshow\u001b[0m\u001b[0;34m(\u001b[0m\u001b[0;34m)\u001b[0m\u001b[0;34m\u001b[0m\u001b[0;34m\u001b[0m\u001b[0m\n",
            "\u001b[0;32m<ipython-input-23-84001f93cc06>\u001b[0m in \u001b[0;36mtrain\u001b[0;34m(self, X, y, dir_map, T, error_threshold)\u001b[0m\n\u001b[1;32m     29\u001b[0m                 \u001b[0mwinner\u001b[0m \u001b[0;34m=\u001b[0m \u001b[0mself\u001b[0m\u001b[0;34m.\u001b[0m\u001b[0mfind_winner\u001b[0m\u001b[0;34m(\u001b[0m\u001b[0mx\u001b[0m\u001b[0;34m)\u001b[0m    \u001b[0;31m# winner = [1,4]\u001b[0m\u001b[0;34m\u001b[0m\u001b[0;34m\u001b[0m\u001b[0m\n\u001b[1;32m     30\u001b[0m                 \u001b[0mNS\u001b[0m \u001b[0;34m=\u001b[0m \u001b[0mself\u001b[0m\u001b[0;34m.\u001b[0m\u001b[0mget_NS\u001b[0m\u001b[0;34m(\u001b[0m\u001b[0mwinner\u001b[0m\u001b[0;34m)\u001b[0m\u001b[0;34m\u001b[0m\u001b[0;34m\u001b[0m\u001b[0m\n\u001b[0;32m---> 31\u001b[0;31m                 \u001b[0mself\u001b[0m\u001b[0;34m.\u001b[0m\u001b[0mupdate_weights\u001b[0m\u001b[0;34m(\u001b[0m\u001b[0mx\u001b[0m\u001b[0;34m,\u001b[0m \u001b[0mNS\u001b[0m\u001b[0;34m,\u001b[0m \u001b[0mlen\u001b[0m\u001b[0;34m(\u001b[0m\u001b[0mX\u001b[0m\u001b[0;34m)\u001b[0m\u001b[0;34m)\u001b[0m\u001b[0;34m\u001b[0m\u001b[0;34m\u001b[0m\u001b[0m\n\u001b[0m\u001b[1;32m     32\u001b[0m             \u001b[0mself\u001b[0m\u001b[0;34m.\u001b[0m\u001b[0mlr\u001b[0m \u001b[0;34m=\u001b[0m \u001b[0mself\u001b[0m\u001b[0;34m.\u001b[0m\u001b[0mlr0\u001b[0m \u001b[0;34m*\u001b[0m \u001b[0;34m(\u001b[0m\u001b[0;36m1\u001b[0m \u001b[0;34m-\u001b[0m \u001b[0mt\u001b[0m\u001b[0;34m/\u001b[0m\u001b[0mT\u001b[0m\u001b[0;34m)\u001b[0m\u001b[0;34m\u001b[0m\u001b[0;34m\u001b[0m\u001b[0m\n\u001b[1;32m     33\u001b[0m             \u001b[0mself\u001b[0m\u001b[0;34m.\u001b[0m\u001b[0mR\u001b[0m \u001b[0;34m=\u001b[0m \u001b[0mself\u001b[0m\u001b[0;34m.\u001b[0m\u001b[0mR0\u001b[0m \u001b[0;34m*\u001b[0m \u001b[0;34m(\u001b[0m\u001b[0;36m1\u001b[0m \u001b[0;34m-\u001b[0m \u001b[0mt\u001b[0m\u001b[0;34m/\u001b[0m\u001b[0mT\u001b[0m\u001b[0;34m)\u001b[0m\u001b[0;34m\u001b[0m\u001b[0;34m\u001b[0m\u001b[0m\n",
            "\u001b[0;32m<ipython-input-23-84001f93cc06>\u001b[0m in \u001b[0;36mupdate_weights\u001b[0;34m(self, x, n_strength, X_len)\u001b[0m\n\u001b[1;32m     69\u001b[0m         \u001b[0mrep_x\u001b[0m \u001b[0;34m=\u001b[0m \u001b[0mnp\u001b[0m\u001b[0;34m.\u001b[0m\u001b[0mtile\u001b[0m\u001b[0;34m(\u001b[0m\u001b[0mx\u001b[0m\u001b[0;34m,\u001b[0m \u001b[0;34m[\u001b[0m\u001b[0mself\u001b[0m\u001b[0;34m.\u001b[0m\u001b[0mmap\u001b[0m\u001b[0;34m.\u001b[0m\u001b[0mshape\u001b[0m\u001b[0;34m[\u001b[0m\u001b[0;36m0\u001b[0m\u001b[0;34m]\u001b[0m\u001b[0;34m,\u001b[0m \u001b[0mself\u001b[0m\u001b[0;34m.\u001b[0m\u001b[0mmap\u001b[0m\u001b[0;34m.\u001b[0m\u001b[0mshape\u001b[0m\u001b[0;34m[\u001b[0m\u001b[0;36m1\u001b[0m\u001b[0;34m]\u001b[0m\u001b[0;34m,\u001b[0m \u001b[0;36m1\u001b[0m\u001b[0;34m]\u001b[0m\u001b[0;34m)\u001b[0m\u001b[0;34m\u001b[0m\u001b[0;34m\u001b[0m\u001b[0m\n\u001b[1;32m     70\u001b[0m         \u001b[0mDelta\u001b[0m \u001b[0;34m=\u001b[0m \u001b[0mrep_x\u001b[0m \u001b[0;34m-\u001b[0m \u001b[0mself\u001b[0m\u001b[0;34m.\u001b[0m\u001b[0mmap\u001b[0m\u001b[0;34m\u001b[0m\u001b[0;34m\u001b[0m\u001b[0m\n\u001b[0;32m---> 71\u001b[0;31m         \u001b[0mself\u001b[0m\u001b[0;34m.\u001b[0m\u001b[0mmap\u001b[0m \u001b[0;34m=\u001b[0m \u001b[0mself\u001b[0m\u001b[0;34m.\u001b[0m\u001b[0mmap\u001b[0m \u001b[0;34m+\u001b[0m \u001b[0;34m(\u001b[0m\u001b[0mself\u001b[0m\u001b[0;34m.\u001b[0m\u001b[0mlr\u001b[0m\u001b[0;34m/\u001b[0m\u001b[0mX_len\u001b[0m\u001b[0;34m)\u001b[0m \u001b[0;34m*\u001b[0m \u001b[0mnp\u001b[0m\u001b[0;34m.\u001b[0m\u001b[0mmultiply\u001b[0m\u001b[0;34m(\u001b[0m\u001b[0mNS\u001b[0m\u001b[0;34m,\u001b[0m \u001b[0mDelta\u001b[0m\u001b[0;34m)\u001b[0m\u001b[0;34m\u001b[0m\u001b[0;34m\u001b[0m\u001b[0m\n\u001b[0m\u001b[1;32m     72\u001b[0m \u001b[0;34m\u001b[0m\u001b[0m\n\u001b[1;32m     73\u001b[0m     \u001b[0;32mdef\u001b[0m \u001b[0mvisualize\u001b[0m\u001b[0;34m(\u001b[0m\u001b[0mself\u001b[0m\u001b[0;34m,\u001b[0m \u001b[0mX\u001b[0m\u001b[0;34m,\u001b[0m \u001b[0my\u001b[0m\u001b[0;34m)\u001b[0m\u001b[0;34m:\u001b[0m\u001b[0;34m\u001b[0m\u001b[0;34m\u001b[0m\u001b[0m\n",
            "\u001b[0;31mKeyboardInterrupt\u001b[0m: "
          ]
        }
      ]
    },
    {
      "cell_type": "markdown",
      "metadata": {
        "id": "GEPpI1qBJt1q"
      },
      "source": [
        "# **Dimension Reduction**"
      ]
    },
    {
      "cell_type": "code",
      "metadata": {
        "id": "O8LXXeD8J_8w"
      },
      "source": [
        "# x = X[0,:]\n",
        "# features = som_net.extract_feature(new_X[0])\n",
        "# plt.imshow(features)\n",
        "# plt.show()\n",
        "\n",
        "\n",
        "# # creating new data by using som feature\n",
        "new_X = []\n",
        "for i in range(X.shape[0]):\n",
        "  x = X[i,:]\n",
        "  features = som_net.extract_feature(x)\n",
        "  tmp_data = features .flatten()\n",
        "  new_X.append(tmp_data)\n",
        "new_X = np.array(new_X)\n",
        "print(\"Dimension Reduction is finished\")"
      ],
      "execution_count": 26,
      "outputs": []
    },
    {
      "cell_type": "markdown",
      "metadata": {
        "id": "7a6IrkRdf197"
      },
      "source": [
        "# **Classification with MLP**"
      ]
    },
    {
      "cell_type": "code",
      "metadata": {
        "id": "sn3hu5Vygoe1"
      },
      "source": [
        "X_train, X_test, y_train, y_test = train_test_split(new_X, y, test_size=0.1, random_state=42)"
      ],
      "execution_count": 29,
      "outputs": []
    },
    {
      "cell_type": "code",
      "metadata": {
        "id": "7e0_HckoiNSV",
        "outputId": "908c1008-dfed-4316-ed97-dc8fc61715c6",
        "colab": {
          "base_uri": "https://localhost:8080/"
        }
      },
      "source": [
        "mlp = MLPClassifier(hidden_layer_sizes=(100,50,), max_iter=100, alpha=1e-4,\n",
        "                    solver='sgd', verbose=True, random_state=1,learning_rate_init=0.1)\n",
        "mlp.fit(X_train, y_train)\n",
        "print(\"Training set score: %f\" % mlp.score(X_train, y_train))\n",
        "print(\"Test set score: %f\" % mlp.score(X_test, y_test))\n"
      ],
      "execution_count": 36,
      "outputs": [
        {
          "output_type": "stream",
          "text": [
            "Iteration 1, loss = 2.41994970\n",
            "Iteration 2, loss = 2.41740431\n",
            "Iteration 3, loss = 2.41417891\n",
            "Iteration 4, loss = 2.41065112\n",
            "Iteration 5, loss = 2.40712429\n",
            "Iteration 6, loss = 2.40378145\n",
            "Iteration 7, loss = 2.40083991\n",
            "Iteration 8, loss = 2.39832905\n",
            "Iteration 9, loss = 2.39627811\n",
            "Iteration 10, loss = 2.39469162\n",
            "Iteration 11, loss = 2.39354776\n",
            "Iteration 12, loss = 2.39283025\n",
            "Iteration 13, loss = 2.39239298\n",
            "Iteration 14, loss = 2.39217082\n",
            "Iteration 15, loss = 2.39209561\n",
            "Iteration 16, loss = 2.39211513\n",
            "Iteration 17, loss = 2.39218729\n",
            "Iteration 18, loss = 2.39227948\n",
            "Iteration 19, loss = 2.39236851\n",
            "Iteration 20, loss = 2.39244168\n",
            "Iteration 21, loss = 2.39248410\n",
            "Iteration 22, loss = 2.39249903\n",
            "Iteration 23, loss = 2.39248833\n",
            "Iteration 24, loss = 2.39245577\n",
            "Iteration 25, loss = 2.39240591\n",
            "Training loss did not improve more than tol=0.000100 for 10 consecutive epochs. Stopping.\n",
            "Training set score: 0.101351\n",
            "Test set score: 0.000000\n"
          ],
          "name": "stdout"
        }
      ]
    }
  ]
}