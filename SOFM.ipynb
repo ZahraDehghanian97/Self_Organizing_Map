{
  "nbformat": 4,
  "nbformat_minor": 0,
  "metadata": {
    "colab": {
      "name": "SOFM.ipynb",
      "provenance": [],
      "toc_visible": true,
      "mount_file_id": "1-ITPKWXRxtuGr5pb1mLO0aC_AVHFCWre",
      "authorship_tag": "ABX9TyONCoY/nPMYUb1xYWI2Nni+",
      "include_colab_link": true
    },
    "kernelspec": {
      "name": "python3",
      "display_name": "Python 3"
    },
    "language_info": {
      "name": "python"
    }
  },
  "cells": [
    {
      "cell_type": "markdown",
      "metadata": {
        "id": "view-in-github",
        "colab_type": "text"
      },
      "source": [
        "<a href=\"https://colab.research.google.com/github/zahraDehghanian97/Self_Organizing_Map/blob/master/SOFM.ipynb\" target=\"_parent\"><img src=\"https://colab.research.google.com/assets/colab-badge.svg\" alt=\"Open In Colab\"/></a>"
      ]
    },
    {
      "cell_type": "markdown",
      "metadata": {
        "id": "S7rC1g5pPR_f"
      },
      "source": [
        "# **prerequisit**"
      ]
    },
    {
      "cell_type": "code",
      "metadata": {
        "id": "O4Iw8mqLcrv7"
      },
      "source": [
        "try :\n",
        "  %tensorflow_version 2.x\n",
        "except:\n",
        "  pass\n",
        "import tensorflow as tf\n",
        "from tensorflow import keras\n",
        "import numpy as np\n",
        "from csv import reader\n",
        "import matplotlib.pyplot as plt\n",
        "import random\n",
        "from sklearn.metrics import confusion_matrix\n",
        "from sklearn import preprocessing\n",
        "from PIL import Image\n",
        "import glob\n",
        "import pickle\n",
        "import random\n"
      ],
      "execution_count": 63,
      "outputs": []
    },
    {
      "cell_type": "markdown",
      "metadata": {
        "id": "VIK3EJP3PPO2"
      },
      "source": [
        "## mount google drive"
      ]
    },
    {
      "cell_type": "code",
      "metadata": {
        "colab": {
          "base_uri": "https://localhost:8080/"
        },
        "id": "hUoq6FT3OGLq",
        "outputId": "38534739-c7ac-4e5f-da5b-cd700180f1eb"
      },
      "source": [
        "from google.colab import drive\n",
        "drive.mount('/content/drive')"
      ],
      "execution_count": 2,
      "outputs": [
        {
          "output_type": "stream",
          "text": [
            "Mounted at /content/drive\n"
          ],
          "name": "stdout"
        }
      ]
    },
    {
      "cell_type": "markdown",
      "metadata": {
        "id": "geI2i3vvPMCS"
      },
      "source": [
        "# **make dataset ready**"
      ]
    },
    {
      "cell_type": "code",
      "metadata": {
        "id": "oI7xqsYyPK9f",
        "colab": {
          "base_uri": "https://localhost:8080/"
        },
        "outputId": "061796a2-ab1f-4cd1-a238-abf69e8cd0e3"
      },
      "source": [
        "def load_photos(dir_name):\n",
        "    photo_list =[]\n",
        "    name_list = []\n",
        "    labels = []\n",
        "    for file_name in (glob.glob(dir_name+'/*')):\n",
        "        image = Image.open(file_name)\n",
        "        image = np.array(image).flatten()\n",
        "        photo_list.append(image)\n",
        "        x = file_name.split('/')\n",
        "        name_list.append(x[6])\n",
        "        labels.append(x[6].split('.')[1])\n",
        "    photo_list = np.array(photo_list)\n",
        "    photo_list = np.array(preprocessing.MinMaxScaler(feature_range=(0,1)).fit_transform(photo_list))\n",
        "    unique_value =list(set(labels))\n",
        "    y = []\n",
        "    for label in labels :\n",
        "      y.append(unique_value.index(label))\n",
        "    return photo_list , name_list , y , labels\n",
        "  \n",
        "    \n",
        "\n",
        "dir_name = \"/content/drive/MyDrive/Colab Notebooks/yalefaces\"\n",
        "X , name_list , y ,labels= load_photos(dir_name) \n",
        "labels_list = list(set(labels))\n",
        "n_features =len(X[0])\n",
        "n_classes = len(list(set(y)))\n",
        "print(n_classes)\n",
        "print(X[0])\n",
        "print(n_features)\n",
        "print(y)\n",
        "\n"
      ],
      "execution_count": 50,
      "outputs": [
        {
          "output_type": "stream",
          "text": [
            "11\n",
            "[1. 1. 1. ... 0. 0. 0.]\n",
            "77760\n",
            "[10, 7, 8, 9, 2, 3, 4, 6, 5, 1, 0, 7, 10, 8, 9, 2, 3, 6, 4, 1, 5, 0, 7, 8, 10, 9, 3, 2, 6, 4, 1, 5, 0, 7, 8, 10, 9, 2, 6, 3, 1, 5, 0, 7, 10, 8, 9, 2, 6, 3, 1, 4, 5, 7, 0, 10, 8, 9, 2, 6, 3, 4, 5, 1, 0, 7, 10, 8, 9, 2, 6, 3, 4, 1, 5, 0, 7, 10, 9, 8, 2, 6, 3, 4, 5, 1, 0, 10, 7, 8, 2, 9, 6, 3, 4, 1, 0, 5, 10, 7, 8, 2, 9, 3, 4, 6, 1, 0, 5, 7, 10, 8, 9, 2, 3, 4, 6, 1, 5, 0, 7, 10, 8, 9, 3, 2, 4, 6, 1, 0, 5, 7, 10, 8, 9, 3, 2, 6, 4, 1, 5, 0, 7, 8, 10, 9, 2, 3, 4, 6, 1, 0, 5, 7, 10, 8, 2, 9, 3, 4, 6, 1, 0, 5, 4]\n"
          ],
          "name": "stdout"
        }
      ]
    },
    {
      "cell_type": "markdown",
      "metadata": {
        "id": "kaREQWe64kR-"
      },
      "source": [
        "# **SOM Class**"
      ]
    },
    {
      "cell_type": "code",
      "metadata": {
        "colab": {
          "base_uri": "https://localhost:8080/",
          "height": 1000
        },
        "id": "gq-LN9io5VLf",
        "outputId": "65181bfe-10cc-4775-b5eb-19054ee6af1c"
      },
      "source": [
        "class SOM:\n",
        "    def __init__(self,data, map_size, lr = 0.1):\n",
        "        self.map = np.zeros(shape=map_size)\n",
        "        ind = np.random.choice(data.shape[0],(map_size[0], map_size[1]) , replace=False)\n",
        "        for i in range(map_size[0]):\n",
        "          for j in range (map_size[1]):\n",
        "            self.map[i,j] = data[ind[i,j]]\n",
        "        self.lr0 = lr\n",
        "        self.lr = self.lr0\n",
        "        self.R0 = map_size[0]//2\n",
        "        self.R = self.R0\n",
        "        \n",
        "    def train(self, X, y, T=1000, error_threshold=10**-20): \n",
        "        Js = []\n",
        "        for t in range(T):\n",
        "            prev_map = np.copy(self.map)\n",
        "            shuffle_ind = np.random.randint(low=0, high=len(X), size=len(X))  # a vector of random indices\n",
        "            for i in range(len(X)):\n",
        "                x = X[shuffle_ind[i],:]\n",
        "                x = np.asarray(x)\n",
        "                winner = self.find_winner(x)    # winner = [1,4]\n",
        "                NS = self.get_NS(winner)\n",
        "                self.update_weights(x, NS, len(X))\n",
        "            self.lr = self.lr0 * (1 - t/T)\n",
        "            self.R = self.R0 * (1 - t/T)\n",
        "            Js.append(np.linalg.norm(prev_map - self.map))     # norm of changes\n",
        "            # if t % 10 == 0:\n",
        "            #     print('Iteration: %d, LR: %f, R: %f, J: %f' %(t, self.lr, self.R, Js[-1]))\n",
        "            print('Iteration: %d, LR: %f, R: %f, J: %f' %(t, self.lr, self.R, Js[-1]))\n",
        "                # self.visualize(X, y)\n",
        "            if Js[-1] < error_threshold:\n",
        "                print('Min changes')\n",
        "                break\n",
        "        return Js\n",
        "            \n",
        "    def find_winner(self, x):\n",
        "        rep_x = np.tile(x, [self.map.shape[0], self.map.shape[1], 1])\n",
        "        dists = np.sum((self.map - rep_x)**2, axis=2)   \n",
        "        winner = np.unravel_index(np.argmin(dists, axis=None), dists.shape)\n",
        "        return winner\n",
        "    \n",
        "    def get_NS(self, winner):\n",
        "        # not neighbor = 0 , neighbor = 1/sqrt(euclidean_distance)\n",
        "        NS = np.zeros(shape= (self.map.shape[0], self.map.shape[1]))\n",
        "        iw, jw = winner[0], winner[1]\n",
        "        R = int(self.R)\n",
        "        for ri in range(-R, R):\n",
        "            for rj in range(-R, R):\n",
        "                if (0 <= iw + ri < self.map.shape[0]) and  (0 <= jw + rj < self.map.shape[1]):   \n",
        "                    NS[iw + ri, jw + rj] = 0 if np.sqrt(ri**2 + rj**2) > R else 1/ ( 1+ np.sqrt(ri**2 + rj**2))  \n",
        "        return NS\n",
        "    \n",
        "    def update_weights(self, x, n_strength, X_len):\n",
        "        NS = np.tile(n_strength, [self.map.shape[2],1,1]).transpose()\n",
        "        rep_x = np.tile(x, [self.map.shape[0], self.map.shape[1], 1])\n",
        "        Delta = rep_x - self.map \n",
        "        self.map = self.map + (self.lr/X_len) * np.multiply(NS, Delta)\n",
        "\n",
        "    def visualize(self, X, y):\n",
        "        scores = np.zeros(shape=(self.map.shape[0], self.map.shape[1],len(list(set(y)))))  \n",
        "        self.scores = np.zeros(shape=(self.map.shape[0], self.map.shape[1]))  \n",
        "        for i in range(len(X)):\n",
        "            x = X[i, :]\n",
        "            x = np.asarray(x)\n",
        "            winner = self.find_winner(x)\n",
        "            iw, jw = winner[0], winner[1]\n",
        "            scores[iw, jw][y[i]] += 1\n",
        "        for i in range(len(scores)):\n",
        "            for j in range(len(scores[0])):\n",
        "              self.scores[i,j] = np.argmax(scores[i,j])\n",
        "        print(self.scores)\n",
        "\n",
        "        c = plt.imshow(self.scores, cmap='jet')\n",
        "        plt.colorbar(c)\n",
        "        for i in range(len(scores)):\n",
        "          for j in range(len(scores[0])):\n",
        "            plt.text(j,i, self.scores[i, j],ha=\"center\", va=\"center\", color=\"w\")\n",
        "        plt.title(\"Class of each Nuoron\")\n",
        "        plt.show()\n",
        "        \n",
        "\n",
        "    def extract_feature(self, x): # here we give a data of n feature and take a matrix of size map as output (e.g, 9*9)\n",
        "        x = np.asarray(x)\n",
        "        rep_x = np.tile(x, [self.map.shape[0], self.map.shape[0], 1])\n",
        "        dists = np.sum((self.map - rep_x)**2, axis=2)\n",
        "        return 1/ (1 + dists)\n",
        "     \n",
        "   \n",
        "m_size = 6\n",
        "som_net = SOM(data = X,map_size = [m_size,m_size,n_features])\n",
        "Js = som_net.train(X, y, T = 250)\n",
        "plt.plot(Js)\n",
        "plt.show()\n",
        "\n",
        "som_net.visualize(X, y)\n",
        "print(\"Meaning of each number :\")\n",
        "print(np.arange(len(labels_list)))\n",
        "print(labels_list)\n",
        "\n",
        "x = X[0,:]\n",
        "features = som_net.extract_feature(x)\n",
        "plt.imshow(features)\n",
        "plt.show()\n",
        "    "
      ],
      "execution_count": 55,
      "outputs": [
        {
          "output_type": "stream",
          "text": [
            "Iteration: 0, LR: 0.100000, R: 3.000000, J: 8.167553\n",
            "Iteration: 1, LR: 0.099600, R: 2.988000, J: 7.896381\n",
            "Iteration: 2, LR: 0.099200, R: 2.976000, J: 5.104801\n",
            "Iteration: 3, LR: 0.098800, R: 2.964000, J: 5.030695\n",
            "Iteration: 4, LR: 0.098400, R: 2.952000, J: 4.951870\n",
            "Iteration: 5, LR: 0.098000, R: 2.940000, J: 4.809063\n",
            "Iteration: 6, LR: 0.097600, R: 2.928000, J: 4.657841\n",
            "Iteration: 7, LR: 0.097200, R: 2.916000, J: 4.699627\n",
            "Iteration: 8, LR: 0.096800, R: 2.904000, J: 4.605296\n",
            "Iteration: 9, LR: 0.096400, R: 2.892000, J: 4.395615\n",
            "Iteration: 10, LR: 0.096000, R: 2.880000, J: 4.356339\n",
            "Iteration: 11, LR: 0.095600, R: 2.868000, J: 4.347993\n",
            "Iteration: 12, LR: 0.095200, R: 2.856000, J: 4.341595\n",
            "Iteration: 13, LR: 0.094800, R: 2.844000, J: 4.053253\n",
            "Iteration: 14, LR: 0.094400, R: 2.832000, J: 4.011510\n",
            "Iteration: 15, LR: 0.094000, R: 2.820000, J: 3.960093\n",
            "Iteration: 16, LR: 0.093600, R: 2.808000, J: 3.870529\n",
            "Iteration: 17, LR: 0.093200, R: 2.796000, J: 4.090906\n",
            "Iteration: 18, LR: 0.092800, R: 2.784000, J: 3.755762\n",
            "Iteration: 19, LR: 0.092400, R: 2.772000, J: 3.819249\n",
            "Iteration: 20, LR: 0.092000, R: 2.760000, J: 3.783807\n",
            "Iteration: 21, LR: 0.091600, R: 2.748000, J: 3.589734\n",
            "Iteration: 22, LR: 0.091200, R: 2.736000, J: 3.570959\n",
            "Iteration: 23, LR: 0.090800, R: 2.724000, J: 3.601850\n",
            "Iteration: 24, LR: 0.090400, R: 2.712000, J: 3.426922\n",
            "Iteration: 25, LR: 0.090000, R: 2.700000, J: 3.454460\n",
            "Iteration: 26, LR: 0.089600, R: 2.688000, J: 3.434359\n",
            "Iteration: 27, LR: 0.089200, R: 2.676000, J: 3.305682\n",
            "Iteration: 28, LR: 0.088800, R: 2.664000, J: 3.143964\n",
            "Iteration: 29, LR: 0.088400, R: 2.652000, J: 3.345184\n",
            "Iteration: 30, LR: 0.088000, R: 2.640000, J: 3.106238\n",
            "Iteration: 31, LR: 0.087600, R: 2.628000, J: 3.216829\n",
            "Iteration: 32, LR: 0.087200, R: 2.616000, J: 2.933239\n",
            "Iteration: 33, LR: 0.086800, R: 2.604000, J: 3.012795\n",
            "Iteration: 34, LR: 0.086400, R: 2.592000, J: 2.798845\n",
            "Iteration: 35, LR: 0.086000, R: 2.580000, J: 2.974581\n",
            "Iteration: 36, LR: 0.085600, R: 2.568000, J: 2.982770\n",
            "Iteration: 37, LR: 0.085200, R: 2.556000, J: 2.729692\n",
            "Iteration: 38, LR: 0.084800, R: 2.544000, J: 2.775822\n",
            "Iteration: 39, LR: 0.084400, R: 2.532000, J: 2.687993\n",
            "Iteration: 40, LR: 0.084000, R: 2.520000, J: 2.701177\n",
            "Iteration: 41, LR: 0.083600, R: 2.508000, J: 2.734211\n",
            "Iteration: 42, LR: 0.083200, R: 2.496000, J: 2.546449\n",
            "Iteration: 43, LR: 0.082800, R: 2.484000, J: 2.838287\n",
            "Iteration: 44, LR: 0.082400, R: 2.472000, J: 2.503339\n",
            "Iteration: 45, LR: 0.082000, R: 2.460000, J: 2.636605\n",
            "Iteration: 46, LR: 0.081600, R: 2.448000, J: 2.642562\n",
            "Iteration: 47, LR: 0.081200, R: 2.436000, J: 2.536023\n",
            "Iteration: 48, LR: 0.080800, R: 2.424000, J: 2.361049\n",
            "Iteration: 49, LR: 0.080400, R: 2.412000, J: 2.306461\n",
            "Iteration: 50, LR: 0.080000, R: 2.400000, J: 2.534124\n",
            "Iteration: 51, LR: 0.079600, R: 2.388000, J: 2.436640\n",
            "Iteration: 52, LR: 0.079200, R: 2.376000, J: 2.338932\n",
            "Iteration: 53, LR: 0.078800, R: 2.364000, J: 2.294716\n",
            "Iteration: 54, LR: 0.078400, R: 2.352000, J: 2.342406\n",
            "Iteration: 55, LR: 0.078000, R: 2.340000, J: 2.123902\n",
            "Iteration: 56, LR: 0.077600, R: 2.328000, J: 2.193387\n",
            "Iteration: 57, LR: 0.077200, R: 2.316000, J: 2.270342\n",
            "Iteration: 58, LR: 0.076800, R: 2.304000, J: 2.176394\n",
            "Iteration: 59, LR: 0.076400, R: 2.292000, J: 2.105690\n",
            "Iteration: 60, LR: 0.076000, R: 2.280000, J: 2.143192\n",
            "Iteration: 61, LR: 0.075600, R: 2.268000, J: 1.976326\n",
            "Iteration: 62, LR: 0.075200, R: 2.256000, J: 2.227129\n",
            "Iteration: 63, LR: 0.074800, R: 2.244000, J: 2.018820\n",
            "Iteration: 64, LR: 0.074400, R: 2.232000, J: 1.848315\n",
            "Iteration: 65, LR: 0.074000, R: 2.220000, J: 1.957721\n",
            "Iteration: 66, LR: 0.073600, R: 2.208000, J: 1.828495\n",
            "Iteration: 67, LR: 0.073200, R: 2.196000, J: 2.009824\n",
            "Iteration: 68, LR: 0.072800, R: 2.184000, J: 1.941896\n",
            "Iteration: 69, LR: 0.072400, R: 2.172000, J: 1.909544\n",
            "Iteration: 70, LR: 0.072000, R: 2.160000, J: 1.867790\n",
            "Iteration: 71, LR: 0.071600, R: 2.148000, J: 1.841218\n",
            "Iteration: 72, LR: 0.071200, R: 2.136000, J: 1.800348\n",
            "Iteration: 73, LR: 0.070800, R: 2.124000, J: 1.912405\n",
            "Iteration: 74, LR: 0.070400, R: 2.112000, J: 1.739138\n",
            "Iteration: 75, LR: 0.070000, R: 2.100000, J: 1.834012\n",
            "Iteration: 76, LR: 0.069600, R: 2.088000, J: 1.716635\n",
            "Iteration: 77, LR: 0.069200, R: 2.076000, J: 1.701932\n",
            "Iteration: 78, LR: 0.068800, R: 2.064000, J: 1.637254\n",
            "Iteration: 79, LR: 0.068400, R: 2.052000, J: 1.613868\n",
            "Iteration: 80, LR: 0.068000, R: 2.040000, J: 1.703063\n",
            "Iteration: 81, LR: 0.067600, R: 2.028000, J: 1.565061\n",
            "Iteration: 82, LR: 0.067200, R: 2.016000, J: 1.604032\n",
            "Iteration: 83, LR: 0.066800, R: 2.004000, J: 1.704825\n",
            "Iteration: 84, LR: 0.066400, R: 1.992000, J: 1.468584\n",
            "Iteration: 85, LR: 0.066000, R: 1.980000, J: 0.944796\n",
            "Iteration: 86, LR: 0.065600, R: 1.968000, J: 1.017285\n",
            "Iteration: 87, LR: 0.065200, R: 1.956000, J: 1.010032\n",
            "Iteration: 88, LR: 0.064800, R: 1.944000, J: 0.953435\n",
            "Iteration: 89, LR: 0.064400, R: 1.932000, J: 0.949401\n",
            "Iteration: 90, LR: 0.064000, R: 1.920000, J: 1.056189\n",
            "Iteration: 91, LR: 0.063600, R: 1.908000, J: 0.949251\n",
            "Iteration: 92, LR: 0.063200, R: 1.896000, J: 1.092794\n",
            "Iteration: 93, LR: 0.062800, R: 1.884000, J: 1.009474\n",
            "Iteration: 94, LR: 0.062400, R: 1.872000, J: 1.111689\n",
            "Iteration: 95, LR: 0.062000, R: 1.860000, J: 1.007875\n",
            "Iteration: 96, LR: 0.061600, R: 1.848000, J: 0.938359\n",
            "Iteration: 97, LR: 0.061200, R: 1.836000, J: 0.831553\n",
            "Iteration: 98, LR: 0.060800, R: 1.824000, J: 0.940482\n",
            "Iteration: 99, LR: 0.060400, R: 1.812000, J: 0.891028\n",
            "Iteration: 100, LR: 0.060000, R: 1.800000, J: 0.983325\n",
            "Iteration: 101, LR: 0.059600, R: 1.788000, J: 0.883543\n",
            "Iteration: 102, LR: 0.059200, R: 1.776000, J: 0.844045\n",
            "Iteration: 103, LR: 0.058800, R: 1.764000, J: 0.827379\n",
            "Iteration: 104, LR: 0.058400, R: 1.752000, J: 0.842669\n",
            "Iteration: 105, LR: 0.058000, R: 1.740000, J: 0.850795\n",
            "Iteration: 106, LR: 0.057600, R: 1.728000, J: 0.794489\n",
            "Iteration: 107, LR: 0.057200, R: 1.716000, J: 0.770377\n",
            "Iteration: 108, LR: 0.056800, R: 1.704000, J: 0.821969\n",
            "Iteration: 109, LR: 0.056400, R: 1.692000, J: 0.813322\n",
            "Iteration: 110, LR: 0.056000, R: 1.680000, J: 0.748774\n",
            "Iteration: 111, LR: 0.055600, R: 1.668000, J: 0.764415\n",
            "Iteration: 112, LR: 0.055200, R: 1.656000, J: 0.808476\n",
            "Iteration: 113, LR: 0.054800, R: 1.644000, J: 0.796711\n",
            "Iteration: 114, LR: 0.054400, R: 1.632000, J: 0.758620\n",
            "Iteration: 115, LR: 0.054000, R: 1.620000, J: 0.813323\n",
            "Iteration: 116, LR: 0.053600, R: 1.608000, J: 0.838763\n",
            "Iteration: 118, LR: 0.052800, R: 1.584000, J: 0.762321\n",
            "Iteration: 119, LR: 0.052400, R: 1.572000, J: 0.722962\n",
            "Iteration: 120, LR: 0.052000, R: 1.560000, J: 0.757700\n",
            "Iteration: 121, LR: 0.051600, R: 1.548000, J: 0.721222\n",
            "Iteration: 122, LR: 0.051200, R: 1.536000, J: 0.716654\n",
            "Iteration: 123, LR: 0.050800, R: 1.524000, J: 0.728807\n",
            "Iteration: 124, LR: 0.050400, R: 1.512000, J: 0.653808\n",
            "Iteration: 125, LR: 0.050000, R: 1.500000, J: 0.702186\n",
            "Iteration: 126, LR: 0.049600, R: 1.488000, J: 0.614345\n",
            "Iteration: 127, LR: 0.049200, R: 1.476000, J: 0.750555\n",
            "Iteration: 128, LR: 0.048800, R: 1.464000, J: 0.714434\n",
            "Iteration: 129, LR: 0.048400, R: 1.452000, J: 0.640923\n",
            "Iteration: 130, LR: 0.048000, R: 1.440000, J: 0.589259\n",
            "Iteration: 131, LR: 0.047600, R: 1.428000, J: 0.651737\n",
            "Iteration: 132, LR: 0.047200, R: 1.416000, J: 0.607185\n",
            "Iteration: 133, LR: 0.046800, R: 1.404000, J: 0.603650\n",
            "Iteration: 134, LR: 0.046400, R: 1.392000, J: 0.574782\n",
            "Iteration: 135, LR: 0.046000, R: 1.380000, J: 0.631823\n",
            "Iteration: 136, LR: 0.045600, R: 1.368000, J: 0.608563\n",
            "Iteration: 137, LR: 0.045200, R: 1.356000, J: 0.559856\n",
            "Iteration: 138, LR: 0.044800, R: 1.344000, J: 0.654454\n",
            "Iteration: 139, LR: 0.044400, R: 1.332000, J: 0.621705\n",
            "Iteration: 140, LR: 0.044000, R: 1.320000, J: 0.647457\n",
            "Iteration: 141, LR: 0.043600, R: 1.308000, J: 0.529884\n",
            "Iteration: 142, LR: 0.043200, R: 1.296000, J: 0.614138\n",
            "Iteration: 143, LR: 0.042800, R: 1.284000, J: 0.571600\n",
            "Iteration: 144, LR: 0.042400, R: 1.272000, J: 0.572095\n",
            "Iteration: 145, LR: 0.042000, R: 1.260000, J: 0.580223\n",
            "Iteration: 146, LR: 0.041600, R: 1.248000, J: 0.630168\n",
            "Iteration: 147, LR: 0.041200, R: 1.236000, J: 0.596371\n",
            "Iteration: 148, LR: 0.040800, R: 1.224000, J: 0.521703\n",
            "Iteration: 149, LR: 0.040400, R: 1.212000, J: 0.558961\n",
            "Iteration: 150, LR: 0.040000, R: 1.200000, J: 0.514784\n",
            "Iteration: 151, LR: 0.039600, R: 1.188000, J: 0.520180\n",
            "Iteration: 152, LR: 0.039200, R: 1.176000, J: 0.484617\n",
            "Iteration: 153, LR: 0.038800, R: 1.164000, J: 0.470874\n",
            "Iteration: 154, LR: 0.038400, R: 1.152000, J: 0.441318\n",
            "Iteration: 155, LR: 0.038000, R: 1.140000, J: 0.547680\n",
            "Iteration: 156, LR: 0.037600, R: 1.128000, J: 0.438865\n",
            "Iteration: 157, LR: 0.037200, R: 1.116000, J: 0.480447\n",
            "Iteration: 158, LR: 0.036800, R: 1.104000, J: 0.537969\n",
            "Iteration: 159, LR: 0.036400, R: 1.092000, J: 0.486240\n",
            "Iteration: 160, LR: 0.036000, R: 1.080000, J: 0.476325\n",
            "Iteration: 161, LR: 0.035600, R: 1.068000, J: 0.435885\n",
            "Iteration: 162, LR: 0.035200, R: 1.056000, J: 0.450761\n",
            "Iteration: 163, LR: 0.034800, R: 1.044000, J: 0.426954\n",
            "Iteration: 164, LR: 0.034400, R: 1.032000, J: 0.490078\n",
            "Iteration: 165, LR: 0.034000, R: 1.020000, J: 0.428309\n",
            "Iteration: 166, LR: 0.033600, R: 1.008000, J: 0.410605\n",
            "Iteration: 167, LR: 0.033200, R: 0.996000, J: 0.450198\n",
            "Iteration: 168, LR: 0.032800, R: 0.984000, J: 0.000000\n",
            "Min changes\n"
          ],
          "name": "stdout"
        },
        {
          "output_type": "display_data",
          "data": {
            "image/png": "[encoded data removed]",
            "text/plain": [
              "<Figure size 432x288 with 1 Axes>"
            ]
          },
          "metadata": {
            "tags": [],
            "needs_background": "light"
          }
        },
        {
          "output_type": "stream",
          "text": [
            "[[0. 7. 3. 0. 6. 0.]\n",
            " [0. 0. 0. 0. 4. 0.]\n",
            " [6. 6. 8. 1. 0. 9.]\n",
            " [4. 1. 2. 7. 7. 9.]\n",
            " [0. 0. 0. 2. 0. 1.]\n",
            " [6. 0. 0. 9. 0. 0.]]\n"
          ],
          "name": "stdout"
        },
        {
          "output_type": "display_data",
          "data": {
            "image/png": "[encoded data removed]",
            "text/plain": [
              "<Figure size 432x288 with 2 Axes>"
            ]
          },
          "metadata": {
            "tags": [],
            "needs_background": "light"
          }
        },
        {
          "output_type": "stream",
          "text": [
            "Meaning of each number :\n",
            "[ 0  1  2  3  4  5  6  7  8  9 10]\n",
            "['wink', 'sleepy', 'noglasses', 'normal', 'sad', 'surprised', 'rightlight', 'centerlight', 'happy', 'leftlight', 'glasses']\n"
          ],
          "name": "stdout"
        },
        {
          "output_type": "display_data",
          "data": {
            "image/png": "[encoded data removed]",
            "text/plain": [
              "<Figure size 432x288 with 1 Axes>"
            ]
          },
          "metadata": {
            "tags": [],
            "needs_background": "light"
          }
        }
      ]
    },
    {
      "cell_type": "markdown",
      "metadata": {
        "id": "CzY6I6AihHPE"
      },
      "source": [
        "save founded map "
      ]
    },
    {
      "cell_type": "code",
      "metadata": {
        "colab": {
          "base_uri": "https://localhost:8080/"
        },
        "id": "RaVGrFFlZjVO",
        "outputId": "6c04b207-785a-41f2-ec5a-8d0047f37713"
      },
      "source": [
        "data_path = '/content/drive/MyDrive/Colab Notebooks/map6*6.txt'\n",
        "# with open(data_path, 'wb') as f:\n",
        "#     pickle.dump(som_net.map, f)\n",
        "\n",
        "with open(data_path, \"rb\") as f:\n",
        "    x = pickle.load(f)\n",
        "print(x)\n"
      ],
      "execution_count": 68,
      "outputs": [
        {
          "output_type": "stream",
          "text": [
            "[[[0.88252859 0.9597923  0.97998474 ... 0.         0.         0.        ]\n",
            "  [0.95613066 0.97227993 0.97696049 ... 0.         0.         0.        ]\n",
            "  [0.86757808 0.87314169 0.9385124  ... 0.         0.         0.        ]\n",
            "  [0.88364988 0.81419089 0.78903368 ... 0.         0.         0.        ]\n",
            "  [0.85093346 0.81547933 0.82999224 ... 0.         0.         0.        ]\n",
            "  [0.90591215 0.89281312 0.89264043 ... 0.         0.         0.        ]]\n",
            "\n",
            " [[0.93486916 0.94370675 0.96615283 ... 0.         0.         0.        ]\n",
            "  [0.95153513 0.96731596 0.98276377 ... 0.         0.         0.        ]\n",
            "  [0.92965296 0.9341278  0.97275207 ... 0.         0.         0.        ]\n",
            "  [0.99170385 0.99066434 0.98947008 ... 0.         0.         0.        ]\n",
            "  [0.97465921 0.97375532 0.97486084 ... 0.         0.         0.        ]\n",
            "  [0.96876621 0.96720675 0.97108472 ... 0.         0.         0.        ]]\n",
            "\n",
            " [[0.87618509 0.86283234 0.90144137 ... 0.         0.         0.        ]\n",
            "  [0.96194508 0.95361933 0.96282545 ... 0.         0.         0.        ]\n",
            "  [0.99586744 0.9947479  0.99341122 ... 0.         0.         0.        ]\n",
            "  [0.99739578 0.99566611 0.99229677 ... 0.         0.         0.        ]\n",
            "  [0.90821742 0.91504571 0.96619807 ... 0.         0.         0.        ]\n",
            "  [0.99098401 0.99234926 0.99446582 ... 0.         0.         0.        ]]\n",
            "\n",
            " [[0.86702712 0.82776698 0.82907767 ... 0.         0.         0.        ]\n",
            "  [0.940235   0.93038374 0.93707507 ... 0.         0.         0.        ]\n",
            "  [0.99423219 0.99339483 0.99202437 ... 0.         0.         0.        ]\n",
            "  [0.99688394 0.9956392  0.99154153 ... 0.         0.         0.        ]\n",
            "  [0.99915475 0.99845284 0.99722159 ... 0.         0.         0.        ]\n",
            "  [0.99967399 0.99970876 0.99963251 ... 0.         0.         0.        ]]\n",
            "\n",
            " [[0.78861774 0.81282434 0.82134596 ... 0.         0.         0.        ]\n",
            "  [0.88679273 0.91704747 0.91969752 ... 0.         0.         0.        ]\n",
            "  [0.98603185 0.98729407 0.98310002 ... 0.         0.         0.        ]\n",
            "  [0.99501319 0.99453782 0.98532176 ... 0.         0.         0.        ]\n",
            "  [0.99990885 0.99955018 0.99617518 ... 0.         0.         0.        ]\n",
            "  [0.99997772 0.99993858 0.99980167 ... 0.         0.         0.        ]]\n",
            "\n",
            " [[0.76840317 0.75279059 0.75910929 ... 0.         0.         0.        ]\n",
            "  [0.94988341 0.95075674 0.94803577 ... 0.         0.         0.        ]\n",
            "  [0.9850248  0.98720647 0.97593408 ... 0.         0.         0.        ]\n",
            "  [0.99449393 0.99320018 0.9732237  ... 0.         0.         0.        ]\n",
            "  [0.99988946 0.99935625 0.99408753 ... 0.         0.         0.        ]\n",
            "  [1.         0.99999074 0.9999003  ... 0.         0.         0.        ]]]\n",
            "[[[0.88252859 0.9597923  0.97998474 ... 0.         0.         0.        ]\n",
            "  [0.95613066 0.97227993 0.97696049 ... 0.         0.         0.        ]\n",
            "  [0.86757808 0.87314169 0.9385124  ... 0.         0.         0.        ]\n",
            "  [0.88364988 0.81419089 0.78903368 ... 0.         0.         0.        ]\n",
            "  [0.85093346 0.81547933 0.82999224 ... 0.         0.         0.        ]\n",
            "  [0.90591215 0.89281312 0.89264043 ... 0.         0.         0.        ]]\n",
            "\n",
            " [[0.93486916 0.94370675 0.96615283 ... 0.         0.         0.        ]\n",
            "  [0.95153513 0.96731596 0.98276377 ... 0.         0.         0.        ]\n",
            "  [0.92965296 0.9341278  0.97275207 ... 0.         0.         0.        ]\n",
            "  [0.99170385 0.99066434 0.98947008 ... 0.         0.         0.        ]\n",
            "  [0.97465921 0.97375532 0.97486084 ... 0.         0.         0.        ]\n",
            "  [0.96876621 0.96720675 0.97108472 ... 0.         0.         0.        ]]\n",
            "\n",
            " [[0.87618509 0.86283234 0.90144137 ... 0.         0.         0.        ]\n",
            "  [0.96194508 0.95361933 0.96282545 ... 0.         0.         0.        ]\n",
            "  [0.99586744 0.9947479  0.99341122 ... 0.         0.         0.        ]\n",
            "  [0.99739578 0.99566611 0.99229677 ... 0.         0.         0.        ]\n",
            "  [0.90821742 0.91504571 0.96619807 ... 0.         0.         0.        ]\n",
            "  [0.99098401 0.99234926 0.99446582 ... 0.         0.         0.        ]]\n",
            "\n",
            " [[0.86702712 0.82776698 0.82907767 ... 0.         0.         0.        ]\n",
            "  [0.940235   0.93038374 0.93707507 ... 0.         0.         0.        ]\n",
            "  [0.99423219 0.99339483 0.99202437 ... 0.         0.         0.        ]\n",
            "  [0.99688394 0.9956392  0.99154153 ... 0.         0.         0.        ]\n",
            "  [0.99915475 0.99845284 0.99722159 ... 0.         0.         0.        ]\n",
            "  [0.99967399 0.99970876 0.99963251 ... 0.         0.         0.        ]]\n",
            "\n",
            " [[0.78861774 0.81282434 0.82134596 ... 0.         0.         0.        ]\n",
            "  [0.88679273 0.91704747 0.91969752 ... 0.         0.         0.        ]\n",
            "  [0.98603185 0.98729407 0.98310002 ... 0.         0.         0.        ]\n",
            "  [0.99501319 0.99453782 0.98532176 ... 0.         0.         0.        ]\n",
            "  [0.99990885 0.99955018 0.99617518 ... 0.         0.         0.        ]\n",
            "  [0.99997772 0.99993858 0.99980167 ... 0.         0.         0.        ]]\n",
            "\n",
            " [[0.76840317 0.75279059 0.75910929 ... 0.         0.         0.        ]\n",
            "  [0.94988341 0.95075674 0.94803577 ... 0.         0.         0.        ]\n",
            "  [0.9850248  0.98720647 0.97593408 ... 0.         0.         0.        ]\n",
            "  [0.99449393 0.99320018 0.9732237  ... 0.         0.         0.        ]\n",
            "  [0.99988946 0.99935625 0.99408753 ... 0.         0.         0.        ]\n",
            "  [1.         0.99999074 0.9999003  ... 0.         0.         0.        ]]]\n"
          ],
          "name": "stdout"
        }
      ]
    }
  ]
}