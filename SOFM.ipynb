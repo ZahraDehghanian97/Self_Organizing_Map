{
  "nbformat": 4,
  "nbformat_minor": 0,
  "metadata": {
    "colab": {
      "name": "SOFM.ipynb",
      "provenance": [],
      "collapsed_sections": [],
      "toc_visible": true,
      "mount_file_id": "1-ITPKWXRxtuGr5pb1mLO0aC_AVHFCWre",
      "authorship_tag": "ABX9TyP7gkkrDVKpBH9R11Ps5Liv",
      "include_colab_link": true
    },
    "kernelspec": {
      "name": "python3",
      "display_name": "Python 3"
    },
    "language_info": {
      "name": "python"
    }
  },
  "cells": [
    {
      "cell_type": "markdown",
      "metadata": {
        "id": "view-in-github",
        "colab_type": "text"
      },
      "source": [
        "<a href=\"https://colab.research.google.com/github/zahraDehghanian97/Self_Organizing_Map/blob/master/SOFM.ipynb\" target=\"_parent\"><img src=\"https://colab.research.google.com/assets/colab-badge.svg\" alt=\"Open In Colab\"/></a>"
      ]
    },
    {
      "cell_type": "markdown",
      "metadata": {
        "id": "S7rC1g5pPR_f"
      },
      "source": [
        "# **prerequisit**"
      ]
    },
    {
      "cell_type": "code",
      "metadata": {
        "id": "O4Iw8mqLcrv7"
      },
      "source": [
        "try :\n",
        "  %tensorflow_version 2.x\n",
        "except:\n",
        "  pass\n",
        "import tensorflow as tf\n",
        "from tensorflow import keras\n",
        "import numpy as np\n",
        "import matplotlib.pyplot as plt\n",
        "import random\n",
        "from sklearn.metrics import confusion_matrix\n",
        "from sklearn import preprocessing\n",
        "from PIL import Image\n",
        "import glob\n",
        "import pickle\n",
        "import random\n",
        "from sklearn.neural_network import MLPClassifier\n",
        "from sklearn.model_selection import train_test_split\n"
      ],
      "execution_count": 2,
      "outputs": []
    },
    {
      "cell_type": "markdown",
      "metadata": {
        "id": "VIK3EJP3PPO2"
      },
      "source": [
        "## mount google drive"
      ]
    },
    {
      "cell_type": "code",
      "metadata": {
        "colab": {
          "base_uri": "https://localhost:8080/"
        },
        "id": "hUoq6FT3OGLq",
        "outputId": "38534739-c7ac-4e5f-da5b-cd700180f1eb"
      },
      "source": [
        "from google.colab import drive\n",
        "drive.mount('/content/drive')"
      ],
      "execution_count": null,
      "outputs": [
        {
          "output_type": "stream",
          "text": [
            "Mounted at /content/drive\n"
          ],
          "name": "stdout"
        }
      ]
    },
    {
      "cell_type": "markdown",
      "metadata": {
        "id": "geI2i3vvPMCS"
      },
      "source": [
        "# **make dataset ready**"
      ]
    },
    {
      "cell_type": "code",
      "metadata": {
        "id": "oI7xqsYyPK9f",
        "colab": {
          "base_uri": "https://localhost:8080/"
        },
        "outputId": "8a61853d-3e9c-4cfe-ad28-3dd9f35f75de"
      },
      "source": [
        "def load_photos(dir_name):\n",
        "    photo_list =[]\n",
        "    labels = []\n",
        "    for file_name in (glob.glob(dir_name+'/*')):\n",
        "        image = Image.open(file_name)\n",
        "        image = np.array(image).flatten()\n",
        "        photo_list.append(image)\n",
        "        x = file_name.split('/')\n",
        "        labels.append(x[6].split('.')[1])\n",
        "    photo_list = np.array(photo_list)\n",
        "    photo_list = np.array(preprocessing.MinMaxScaler(feature_range=(0,1)).fit_transform(photo_list))\n",
        "    unique_value =list(set(labels))\n",
        "    y = []\n",
        "    for label in labels :\n",
        "      y.append(unique_value.index(label)+1)\n",
        "    return photo_list , unique_value , y \n",
        "  \n",
        "    \n",
        "\n",
        "dir_name = \"/content/drive/MyDrive/Colab Notebooks/yalefaces\"\n",
        "X , unique_value , y= load_photos(dir_name) \n",
        "n_features =len(X[0])\n",
        "n_classes = len(unique_value)\n",
        "print(n_classes)\n",
        "print(X[0])\n",
        "print(n_features)\n",
        "print(y)\n",
        "\n"
      ],
      "execution_count": 3,
      "outputs": [
        {
          "output_type": "stream",
          "text": [
            "11\n",
            "[1. 1. 1. ... 0. 0. 0.]\n",
            "77760\n",
            "[3, 8, 11, 7, 1, 10, 6, 5, 9, 4, 2, 8, 3, 11, 7, 1, 10, 5, 6, 4, 9, 2, 8, 11, 3, 7, 10, 1, 5, 6, 4, 9, 2, 8, 11, 3, 7, 1, 5, 10, 4, 9, 2, 8, 3, 11, 7, 1, 5, 10, 4, 6, 9, 8, 2, 3, 11, 7, 1, 5, 10, 6, 9, 4, 2, 8, 3, 11, 7, 1, 5, 10, 6, 4, 9, 2, 8, 3, 7, 11, 1, 5, 10, 6, 9, 4, 2, 3, 8, 11, 1, 7, 5, 10, 6, 4, 2, 9, 3, 8, 11, 1, 7, 10, 6, 5, 4, 2, 9, 8, 3, 11, 7, 1, 10, 6, 5, 4, 9, 2, 8, 3, 11, 7, 10, 1, 6, 5, 4, 2, 9, 8, 3, 11, 7, 10, 1, 5, 6, 4, 9, 2, 8, 11, 3, 7, 1, 10, 6, 5, 4, 2, 9, 8, 3, 11, 1, 7, 10, 6, 5, 4, 2, 9, 6]\n"
          ],
          "name": "stdout"
        }
      ]
    },
    {
      "cell_type": "markdown",
      "metadata": {
        "id": "kaREQWe64kR-"
      },
      "source": [
        "# **SOM Class**"
      ]
    },
    {
      "cell_type": "code",
      "metadata": {
        "colab": {
          "base_uri": "https://localhost:8080/",
          "height": 1000
        },
        "id": "gq-LN9io5VLf",
        "outputId": "e5c23212-f6a1-4a53-eb32-2218a0acc00b"
      },
      "source": [
        "class SOM:\n",
        "    def __init__(self,data, map_size,dir_map=\"not load from file\", lr = 0.05):\n",
        "        self.map = np.zeros(shape=map_size)\n",
        "        ind = np.random.choice(data.shape[0],(map_size[0], map_size[1]) , replace=False)\n",
        "        for i in range(map_size[0]):\n",
        "          for j in range (map_size[1]):\n",
        "            self.map[i,j] = data[ind[i,j]]\n",
        "        self.lr0 = lr\n",
        "        self.lr = self.lr0\n",
        "        self.R0 = map_size[0]//2\n",
        "        self.R = self.R0\n",
        "        if dir_map != \"not load from file\":\n",
        "          self.load_map(dir_map)\n",
        "    \n",
        "    def load_map(self,dir_map):\n",
        "        with open(dir_map, \"rb\") as f:\n",
        "            self.map = pickle.load(f)\n",
        "        print(\"load map finished\")\n",
        "\n",
        "        \n",
        "    def train(self, X, y,dir_map, T=1000, error_threshold=10**-20): \n",
        "        Js = []\n",
        "        for t in range(T):\n",
        "            prev_map = np.copy(self.map)\n",
        "            shuffle_ind = np.random.randint(low=0, high=len(X), size=len(X))  # a vector of random indices\n",
        "            for i in range(len(X)):\n",
        "                x = X[shuffle_ind[i],:]\n",
        "                x = np.asarray(x)\n",
        "                winner = self.find_winner(x)    # winner = [1,4]\n",
        "                NS = self.get_NS(winner)\n",
        "                self.update_weights(x, NS, len(X))\n",
        "            self.lr = self.lr0 * (1 - t/T)\n",
        "            self.R = self.R0 * (1 - t/T)\n",
        "            Js.append(np.linalg.norm(prev_map - self.map))     # norm of changes\n",
        "            if t % 10 == 0:\n",
        "                print('Iteration: %d, LR: %f, R: %f, J: %f' %(t, self.lr, self.R, Js[-1]))\n",
        "                # self.visualize(X, y)\n",
        "            # print('Iteration: %d, LR: %f, R: %f, J: %f' %(t, self.lr, self.R, Js[-1]))\n",
        "\n",
        "            if Js[-1] < error_threshold:\n",
        "                print('Min changes')\n",
        "                break\n",
        "\n",
        "        # save founded model\n",
        "        with open(dir_map, 'wb') as f:  \n",
        "          pickle.dump(self.map, f)\n",
        "\n",
        "        return Js\n",
        "            \n",
        "    def find_winner(self, x):\n",
        "        rep_x = np.tile(x, [self.map.shape[0], self.map.shape[1], 1])\n",
        "        dists = np.sum((self.map - rep_x)**2, axis=2)   \n",
        "        winner = np.unravel_index(np.argmin(dists, axis=None), dists.shape)\n",
        "        return winner\n",
        "    \n",
        "    def get_NS(self, winner):\n",
        "        # not neighbor = 0 , neighbor = 1/sqrt(euclidean_distance)\n",
        "        NS = np.zeros(shape= (self.map.shape[0], self.map.shape[1]))\n",
        "        iw, jw = winner[0], winner[1]\n",
        "        R = int(self.R)\n",
        "        for ri in range(-R, R):\n",
        "            for rj in range(-R, R):\n",
        "                if (0 <= iw + ri < self.map.shape[0]) and  (0 <= jw + rj < self.map.shape[1]):   \n",
        "                    NS[iw + ri, jw + rj] = 0 if np.sqrt(ri**2 + rj**2) > R else 1/ ( 1+ np.sqrt(ri**2 + rj**2))  \n",
        "        return NS\n",
        "    \n",
        "    def update_weights(self, x, n_strength, X_len):\n",
        "        NS = np.tile(n_strength, [self.map.shape[2],1,1]).transpose()\n",
        "        rep_x = np.tile(x, [self.map.shape[0], self.map.shape[1], 1])\n",
        "        Delta = rep_x - self.map \n",
        "        self.map = self.map + (self.lr/X_len) * np.multiply(NS, Delta)\n",
        "\n",
        "    def visualize(self, X, y):\n",
        "        scores = np.zeros(shape=(self.map.shape[0], self.map.shape[1],len(list(set(y)))))  \n",
        "        self.scores = np.zeros(shape=(self.map.shape[0], self.map.shape[1]))  \n",
        "        for i in range(len(X)):\n",
        "            x = X[i, :]\n",
        "            x = np.asarray(x)\n",
        "            winner = self.find_winner(x)\n",
        "            iw, jw = winner[0], winner[1]\n",
        "            scores[iw, jw][y[i]-1] += 1\n",
        "        for i in range(len(scores)):\n",
        "            for j in range(len(scores[0])):\n",
        "              self.scores[i,j] = np.argmax(scores[i,j])+1\n",
        "        print(self.scores)\n",
        "\n",
        "        c = plt.imshow(self.scores, cmap='jet')\n",
        "        plt.colorbar(c)\n",
        "        for i in range(len(scores)):\n",
        "          for j in range(len(scores[0])):\n",
        "            plt.text(j,i, self.scores[i, j],ha=\"center\", va=\"center\", color=\"w\")\n",
        "        plt.title(\"Class of each Nuoron\")\n",
        "        plt.show()\n",
        "        \n",
        "\n",
        "    def extract_feature(self, x): # here we give a data of n feature and take a matrix of size map as output (e.g, 9*9)\n",
        "        x = np.asarray(x)\n",
        "        rep_x = np.tile(x, [self.map.shape[0], self.map.shape[0], 1])\n",
        "        dists = np.sum((self.map - rep_x)**2, axis=2)\n",
        "        return 1/ (1 + dists)\n",
        "     \n",
        "m_size = 4\n",
        "dir_map = '/content/drive/MyDrive/Colab Notebooks/map'+str(m_size)+'*'+str(m_size)+'.txt'\n",
        "\n",
        "# train SOM Net\n",
        "som_net = SOM(data = X,dir_map = dir_map,map_size = [m_size,m_size,n_features])\n",
        "Js = som_net.train(X, y,dir_map, T = 500)\n",
        "plt.plot(Js)\n",
        "plt.show()\n",
        "\n",
        "# # reload saved model \n",
        "# som_net = SOM(data = X,dir_map = dir_map,map_size = [m_size,m_size,n_features])\n",
        "\n",
        "\n",
        "# visualize founded Neurons\n",
        "som_net.visualize(X, y)\n",
        "print(\"Meaning of each number :\")\n",
        "s = \"\"\n",
        "for i in range(len(unique_value)):\n",
        "  s = s + str(i+1) + \" : \"+unique_value[i]+\"   \"\n",
        "print(s)\n"
      ],
      "execution_count": 4,
      "outputs": [
        {
          "output_type": "stream",
          "text": [
            "load map finished\n",
            "Iteration: 0, LR: 0.050000, R: 2.000000, J: 1.122412\n",
            "Iteration: 10, LR: 0.049000, R: 1.960000, J: 0.456936\n",
            "Iteration: 20, LR: 0.048000, R: 1.920000, J: 0.466506\n",
            "Iteration: 30, LR: 0.047000, R: 1.880000, J: 0.418180\n",
            "Iteration: 40, LR: 0.046000, R: 1.840000, J: 0.392699\n",
            "Iteration: 50, LR: 0.045000, R: 1.800000, J: 0.442552\n",
            "Iteration: 60, LR: 0.044000, R: 1.760000, J: 0.395545\n",
            "Iteration: 70, LR: 0.043000, R: 1.720000, J: 0.382116\n",
            "Iteration: 80, LR: 0.042000, R: 1.680000, J: 0.420499\n",
            "Iteration: 90, LR: 0.041000, R: 1.640000, J: 0.323729\n",
            "Iteration: 100, LR: 0.040000, R: 1.600000, J: 0.324360\n",
            "Iteration: 110, LR: 0.039000, R: 1.560000, J: 0.340774\n",
            "Iteration: 120, LR: 0.038000, R: 1.520000, J: 0.316661\n",
            "Iteration: 130, LR: 0.037000, R: 1.480000, J: 0.292254\n",
            "Iteration: 140, LR: 0.036000, R: 1.440000, J: 0.301379\n",
            "Iteration: 150, LR: 0.035000, R: 1.400000, J: 0.324062\n",
            "Iteration: 160, LR: 0.034000, R: 1.360000, J: 0.342598\n",
            "Iteration: 170, LR: 0.033000, R: 1.320000, J: 0.272773\n",
            "Iteration: 180, LR: 0.032000, R: 1.280000, J: 0.355682\n",
            "Iteration: 190, LR: 0.031000, R: 1.240000, J: 0.325600\n",
            "Iteration: 200, LR: 0.030000, R: 1.200000, J: 0.302517\n",
            "Iteration: 210, LR: 0.029000, R: 1.160000, J: 0.327160\n",
            "Iteration: 220, LR: 0.028000, R: 1.120000, J: 0.269503\n",
            "Iteration: 230, LR: 0.027000, R: 1.080000, J: 0.283264\n",
            "Iteration: 240, LR: 0.026000, R: 1.040000, J: 0.268132\n",
            "Iteration: 250, LR: 0.025000, R: 1.000000, J: 0.259001\n",
            "Min changes\n"
          ],
          "name": "stdout"
        },
        {
          "output_type": "display_data",
          "data": {
            "image/png": "[encoded data removed]",
            "text/plain": [
              "<Figure size 432x288 with 1 Axes>"
            ]
          },
          "metadata": {
            "tags": [],
            "needs_background": "light"
          }
        },
        {
          "output_type": "stream",
          "text": [
            "[[ 1. 11.  3.  5.]\n",
            " [ 2.  3.  8.  2.]\n",
            " [ 8.  1.  7.  1.]\n",
            " [ 1.  5.  7.  2.]]\n"
          ],
          "name": "stdout"
        },
        {
          "output_type": "display_data",
          "data": {
            "image/png": "[encoded data removed]",
            "text/plain": [
              "<Figure size 432x288 with 2 Axes>"
            ]
          },
          "metadata": {
            "tags": [],
            "needs_background": "light"
          }
        },
        {
          "output_type": "stream",
          "text": [
            "Meaning of each number :\n",
            "1 : noglasses   2 : wink   3 : glasses   4 : sleepy   5 : rightlight   6 : sad   7 : leftlight   8 : centerlight   9 : surprised   10 : normal   11 : happy   \n"
          ],
          "name": "stdout"
        }
      ]
    },
    {
      "cell_type": "markdown",
      "metadata": {
        "id": "GEPpI1qBJt1q"
      },
      "source": [
        "# **Dimension Reduction**"
      ]
    },
    {
      "cell_type": "code",
      "metadata": {
        "id": "O8LXXeD8J_8w",
        "colab": {
          "base_uri": "https://localhost:8080/",
          "height": 287
        },
        "outputId": "31fce824-4526-4173-fea3-21ce45fbd5de"
      },
      "source": [
        "# creating new data by using som feature\n",
        "new_X = []\n",
        "for i in range(X.shape[0]):\n",
        "  x = X[i,:]\n",
        "  features = som_net.extract_feature(x)\n",
        "  tmp_data = features .flatten()\n",
        "  new_X.append(tmp_data)\n",
        "new_X = np.array(new_X)\n",
        "print(\"Dimension Reduction is finished\")\n",
        "\n",
        "# show one of result\n",
        "x = X[0,:]\n",
        "features = som_net.extract_feature(x)\n",
        "plt.imshow(features)\n",
        "plt.show()\n"
      ],
      "execution_count": 5,
      "outputs": [
        {
          "output_type": "stream",
          "text": [
            "Dimension Reduction is finished\n"
          ],
          "name": "stdout"
        },
        {
          "output_type": "display_data",
          "data": {
            "image/png": "[encoded data removed]",
            "text/plain": [
              "<Figure size 432x288 with 1 Axes>"
            ]
          },
          "metadata": {
            "tags": [],
            "needs_background": "light"
          }
        }
      ]
    },
    {
      "cell_type": "markdown",
      "metadata": {
        "id": "7a6IrkRdf197"
      },
      "source": [
        "# **Classification with MLP**"
      ]
    },
    {
      "cell_type": "markdown",
      "metadata": {
        "id": "7iIzDfh1rJ2V"
      },
      "source": [
        "make data ready"
      ]
    },
    {
      "cell_type": "code",
      "metadata": {
        "id": "sn3hu5Vygoe1"
      },
      "source": [
        "X_train, X_test, y_train, y_test = train_test_split(X, y, test_size=0.1, random_state=42)\n",
        "new_X = []\n",
        "for i in range(X_train.shape[0]):\n",
        "  x = X_train[i,:]\n",
        "  features = som_net.extract_feature(x)\n",
        "  tmp_data = features .flatten()\n",
        "  new_X.append(tmp_data)\n",
        "new_X = np.array(new_X)\n"
      ],
      "execution_count": 6,
      "outputs": []
    },
    {
      "cell_type": "code",
      "metadata": {
        "colab": {
          "base_uri": "https://localhost:8080/"
        },
        "id": "7e0_HckoiNSV",
        "outputId": "aa4c1d3a-6712-4005-dd2e-ed226da0a728"
      },
      "source": [
        "mlp = MLPClassifier(hidden_layer_sizes=(50,25,11), max_iter=100, alpha=1e-4,\n",
        "                    solver='sgd', verbose=True, random_state=1,learning_rate_init=0.1)\n",
        "mlp.fit(X_train, y_train)\n",
        "print(\"Training set score: %f\" % mlp.score(X_train, y_train))\n",
        "print(\"Test set score: %f\" % mlp.score(X_test, y_test))\n"
      ],
      "execution_count": 7,
      "outputs": [
        {
          "output_type": "stream",
          "text": [
            "Iteration 1, loss = 2.63941144\n",
            "Iteration 2, loss = 145.12245527\n",
            "Iteration 3, loss = inf\n",
            "Iteration 4, loss = inf\n",
            "Iteration 5, loss = inf\n",
            "Iteration 6, loss = 91.99290436\n",
            "Iteration 7, loss = 87.69192816\n",
            "Iteration 8, loss = 121.19362174\n",
            "Iteration 9, loss = 156.12762561\n",
            "Iteration 10, loss = 191.44158505\n",
            "Iteration 11, loss = 226.36117965\n",
            "Iteration 12, loss = 260.32948517\n",
            "Training loss did not improve more than tol=0.000100 for 10 consecutive epochs. Stopping.\n",
            "Training set score: 0.101351\n",
            "Test set score: 0.000000\n"
          ],
          "name": "stdout"
        }
      ]
    }
  ]
}