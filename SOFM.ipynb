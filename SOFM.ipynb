{
  "nbformat": 4,
  "nbformat_minor": 0,
  "metadata": {
    "colab": {
      "name": "SOFM.ipynb",
      "provenance": [],
      "authorship_tag": "ABX9TyPFVjOr63lc0twk6J7CHsmg",
      "include_colab_link": true
    },
    "kernelspec": {
      "name": "python3",
      "display_name": "Python 3"
    },
    "language_info": {
      "name": "python"
    }
  },
  "cells": [
    {
      "cell_type": "markdown",
      "metadata": {
        "id": "view-in-github",
        "colab_type": "text"
      },
      "source": [
        "<a href=\"https://colab.research.google.com/github/zahraDehghanian97/Self_Organizing_Map/blob/master/SOFM.ipynb\" target=\"_parent\"><img src=\"https://colab.research.google.com/assets/colab-badge.svg\" alt=\"Open In Colab\"/></a>"
      ]
    },
    {
      "cell_type": "code",
      "metadata": {
        "id": "Bo5RSqNCt7uz"
      },
      "source": [
        "try :\n",
        "  %tensorflow_version 2.x\n",
        "except:\n",
        "  pass\n",
        "import tensorflow as tf\n",
        "from tensorflow import keras\n",
        "import numpy as np\n",
        "import matplotlib.pyplot as plt\n",
        "import random\n",
        "from sklearn.metrics import confusion_matrix, accuracy_score\n",
        "from sklearn import preprocessing\n",
        "from PIL import Image\n",
        "import glob\n",
        "import pickle\n",
        "import random\n",
        "from sklearn.neural_network import MLPClassifier\n",
        "from sklearn.model_selection import train_test_split\n"
      ],
      "execution_count": 1,
      "outputs": []
    },
    {
      "cell_type": "code",
      "metadata": {
        "colab": {
          "base_uri": "https://localhost:8080/"
        },
        "id": "ujWBfoQwuCeA",
        "outputId": "57d53a69-9526-48b6-b635-066a937f9d3e"
      },
      "source": [
        "from google.colab import drive\n",
        "drive.mount('/content/drive')"
      ],
      "execution_count": 2,
      "outputs": [
        {
          "output_type": "stream",
          "text": [
            "Mounted at /content/drive\n"
          ],
          "name": "stdout"
        }
      ]
    },
    {
      "cell_type": "code",
      "metadata": {
        "colab": {
          "base_uri": "https://localhost:8080/"
        },
        "id": "6xeLyxP-uFWm",
        "outputId": "0f77cb16-7939-4eb1-a45c-92bf87015596"
      },
      "source": [
        "def load_photos(dir_name):\n",
        "    photo_list =[]\n",
        "    labels = []\n",
        "    for file_name in (glob.glob(dir_name+'/*')):\n",
        "        image = Image.open(file_name)\n",
        "        image = np.array(image).flatten()\n",
        "        photo_list.append(image)\n",
        "        x = file_name.split('/')\n",
        "        labels.append(x[6].split('.')[1])\n",
        "    photo_list = np.array(photo_list)\n",
        "    photo_list = np.array(preprocessing.MinMaxScaler(feature_range=(0,1)).fit_transform(photo_list))\n",
        "    unique_value =list(set(labels))\n",
        "    y = []\n",
        "    for label in labels :\n",
        "      y.append(unique_value.index(label))\n",
        "    return photo_list , unique_value , y \n",
        "  \n",
        "    \n",
        "\n",
        "dir_name = \"/content/drive/MyDrive/Colab Notebooks/yalefaces\"\n",
        "X , unique_value , y= load_photos(dir_name) \n",
        "n_features =len(X[0])\n",
        "n_classes = len(unique_value)\n",
        "print(n_classes)\n",
        "print(X[0])\n",
        "print(n_features)\n",
        "print(y)"
      ],
      "execution_count": 3,
      "outputs": [
        {
          "output_type": "stream",
          "text": [
            "11\n",
            "[1. 1. 1. ... 0. 0. 0.]\n",
            "77760\n",
            "[3, 1, 0, 6, 2, 10, 7, 9, 4, 5, 8, 1, 3, 0, 6, 2, 10, 9, 7, 5, 4, 8, 1, 0, 3, 6, 10, 2, 9, 7, 5, 4, 8, 1, 0, 3, 6, 2, 9, 10, 5, 4, 8, 1, 3, 0, 6, 2, 9, 10, 5, 7, 4, 1, 8, 3, 0, 6, 2, 9, 10, 7, 4, 5, 8, 1, 3, 0, 6, 2, 9, 10, 7, 5, 4, 8, 1, 3, 6, 0, 2, 9, 10, 7, 4, 5, 8, 3, 1, 0, 2, 6, 9, 10, 7, 5, 8, 4, 3, 1, 0, 2, 6, 10, 7, 9, 5, 8, 4, 1, 3, 0, 6, 2, 10, 7, 9, 5, 4, 8, 1, 3, 0, 6, 10, 2, 7, 9, 5, 8, 4, 1, 3, 0, 6, 10, 2, 9, 7, 5, 4, 8, 1, 0, 3, 6, 2, 10, 7, 9, 5, 8, 4, 1, 3, 0, 2, 6, 10, 7, 9, 5, 8, 4, 7]\n"
          ],
          "name": "stdout"
        }
      ]
    },
    {
      "cell_type": "code",
      "metadata": {
        "colab": {
          "base_uri": "https://localhost:8080/",
          "height": 1000
        },
        "id": "rysMEMkVuLDT",
        "outputId": "cc17dea8-1bfe-4127-db96-2932795c998b"
      },
      "source": [
        "class SOM:\n",
        "    def __init__(self,data, map_size,dir_map=\"not load from file\", lr = 0.05):\n",
        "        self.map = np.zeros(shape=map_size)\n",
        "        ind = np.random.choice(data.shape[0],(map_size[0], map_size[1]) , replace=False)\n",
        "        for i in range(map_size[0]):\n",
        "          for j in range (map_size[1]):\n",
        "            self.map[i,j] = data[ind[i,j]]\n",
        "        self.lr0 = lr\n",
        "        self.lr = self.lr0\n",
        "        self.R0 = map_size[0]//2\n",
        "        self.R = self.R0\n",
        "        if dir_map != \"not load from file\":\n",
        "          self.load_map(dir_map)\n",
        "    \n",
        "    def load_map(self,dir_map):\n",
        "        with open(dir_map, \"rb\") as f:\n",
        "            self.map = pickle.load(f)\n",
        "        print(\"load map finished\")\n",
        "\n",
        "        \n",
        "    def train(self, X, y,dir_map, T=1000, error_threshold=10**-20): \n",
        "        Js = []\n",
        "        for t in range(T):\n",
        "            prev_map = np.copy(self.map)\n",
        "            shuffle_ind = np.random.randint(low=0, high=len(X), size=len(X))  # a vector of random indices\n",
        "            for i in range(len(X)):\n",
        "                x = X[shuffle_ind[i],:]\n",
        "                x = np.asarray(x)\n",
        "                winner = self.find_winner(x)    # winner = [1,4]\n",
        "                NS = self.get_NS(winner)\n",
        "                self.update_weights(x, NS, len(X))\n",
        "            self.lr = self.lr0 * (1 - t/T)\n",
        "            self.R = self.R0 * (1 - t/T)\n",
        "            Js.append(np.linalg.norm(prev_map - self.map))     # norm of changes\n",
        "            if t % 10 == 0:\n",
        "                print('Iteration: %d, LR: %f, R: %f, J: %f' %(t, self.lr, self.R, Js[-1]))\n",
        "                # self.visualize(X, y)\n",
        "            if t % 50 == 0:\n",
        "                with open(dir_map, 'wb') as f:  \n",
        "                    pickle.dump(self.map, f)\n",
        "            if Js[-1] < error_threshold:\n",
        "                print('Min changes')\n",
        "                break\n",
        "        # save founded model at last\n",
        "        with open(dir_map, 'wb') as f:  \n",
        "          pickle.dump(self.map, f)\n",
        "\n",
        "        return Js\n",
        "            \n",
        "    def find_winner(self, x):\n",
        "        rep_x = np.tile(x, [self.map.shape[0], self.map.shape[1], 1])\n",
        "        dists = np.sum((self.map - rep_x)**2, axis=2)   \n",
        "        winner = np.unravel_index(np.argmin(dists, axis=None), dists.shape)\n",
        "        return winner\n",
        "    \n",
        "    def get_NS(self, winner):\n",
        "        # not neighbor = 0 , neighbor = 1/sqrt(euclidean_distance)\n",
        "        NS = np.zeros(shape= (self.map.shape[0], self.map.shape[1]))\n",
        "        iw, jw = winner[0], winner[1]\n",
        "        R = int(self.R)\n",
        "        for ri in range(-R, R):\n",
        "            for rj in range(-R, R):\n",
        "                if (0 <= iw + ri < self.map.shape[0]) and  (0 <= jw + rj < self.map.shape[1]):   \n",
        "                    NS[iw + ri, jw + rj] = 0 if np.sqrt(ri**2 + rj**2) > R else 1/ ( 1+ np.sqrt(ri**2 + rj**2))  \n",
        "        return NS\n",
        "    \n",
        "    def update_weights(self, x, n_strength, X_len):\n",
        "        NS = np.tile(n_strength, [self.map.shape[2],1,1]).transpose()\n",
        "        rep_x = np.tile(x, [self.map.shape[0], self.map.shape[1], 1])\n",
        "        Delta = rep_x - self.map \n",
        "        self.map = self.map + (self.lr/X_len) * np.multiply(NS, Delta)\n",
        "\n",
        "    def visualize(self, X, y):\n",
        "        scores = np.zeros(shape=(self.map.shape[0], self.map.shape[1],len(list(set(y)))))  \n",
        "        self.scores = np.zeros(shape=(self.map.shape[0], self.map.shape[1]))  \n",
        "        for i in range(len(X)):\n",
        "            x = X[i, :]\n",
        "            x = np.asarray(x)\n",
        "            winner = self.find_winner(x)\n",
        "            iw, jw = winner[0], winner[1]\n",
        "            scores[iw, jw][y[i]-1] += 1\n",
        "        for i in range(len(scores)):\n",
        "            for j in range(len(scores[0])):\n",
        "              self.scores[i,j] = np.argmax(scores[i,j])\n",
        "        print(self.scores)\n",
        "        c = plt.imshow(self.scores, cmap='jet')\n",
        "        plt.colorbar(c)\n",
        "        for i in range(len(scores)):\n",
        "          for j in range(len(scores[0])):\n",
        "            plt.text(j,i, self.scores[i, j],ha=\"center\", va=\"center\", color=\"w\")\n",
        "        plt.title(\"Class of each Nuoron\")\n",
        "        plt.show()\n",
        "\n",
        "    def extract_feature(self, x): # here we give a data of n feature and take a matrix of size map as output (e.g, 9*9)\n",
        "        x = np.asarray(x)\n",
        "        rep_x = np.tile(x, [self.map.shape[0], self.map.shape[0], 1])\n",
        "        dists = np.sum((self.map - rep_x)**2, axis=2)\n",
        "        return 1/ (1 + dists)\n",
        "    \n",
        "    def compute_score(self, X, y):\n",
        "      y_pred = []\n",
        "      for x in X :\n",
        "        index = self.find_winner(x)\n",
        "        y_pred.append(self.scores[index[0],index[1]])\n",
        "      return accuracy_score(y,y_pred)\n",
        "\n",
        "\n",
        "m_size = 4\n",
        "dir_map = '/content/drive/MyDrive/Colab Notebooks/map'+str(m_size)+'*'+str(m_size)+'.txt'\n",
        "\n",
        "# train SOM Net\n",
        "som_net = SOM(data = X,dir_map = dir_map,map_size = [m_size,m_size,n_features])\n",
        "Js = som_net.train(X, y,dir_map, T = 500)\n",
        "plt.plot(Js)\n",
        "plt.show()\n",
        "\n",
        "# # reload saved model \n",
        "# som_net = SOM(data = X,dir_map = dir_map,map_size = [m_size,m_size,n_features])\n",
        "\n",
        "# visualize founded Neurons\n",
        "som_net.visualize(X, y)\n",
        "print(\"Meaning of each number :\")\n",
        "s = \"\"\n",
        "for i in range(len(unique_value)):\n",
        "  s = s + str(i) + \" : \"+unique_value[i]+\"   \"\n",
        "print(s)\n",
        "\n",
        "# print accuracy founded model\n",
        "print(\"Accuracy founded map = \"+str(round(som_net.compute_score(X,y),4)))\n"
      ],
      "execution_count": 9,
      "outputs": [
        {
          "output_type": "stream",
          "text": [
            "load map finished\n",
            "Iteration: 0, LR: 0.050000, R: 2.000000, J: 1.602532\n",
            "Iteration: 10, LR: 0.049000, R: 1.960000, J: 0.828008\n",
            "Iteration: 20, LR: 0.048000, R: 1.920000, J: 0.719345\n",
            "Iteration: 30, LR: 0.047000, R: 1.880000, J: 0.707458\n",
            "Iteration: 40, LR: 0.046000, R: 1.840000, J: 0.680150\n",
            "Iteration: 50, LR: 0.045000, R: 1.800000, J: 0.681213\n",
            "Iteration: 60, LR: 0.044000, R: 1.760000, J: 0.552315\n",
            "Iteration: 70, LR: 0.043000, R: 1.720000, J: 0.547639\n",
            "Iteration: 80, LR: 0.042000, R: 1.680000, J: 0.582031\n",
            "Iteration: 90, LR: 0.041000, R: 1.640000, J: 0.544830\n",
            "Iteration: 100, LR: 0.040000, R: 1.600000, J: 0.479786\n",
            "Iteration: 110, LR: 0.039000, R: 1.560000, J: 0.506203\n",
            "Iteration: 120, LR: 0.038000, R: 1.520000, J: 0.426469\n",
            "Iteration: 130, LR: 0.037000, R: 1.480000, J: 0.405901\n",
            "Iteration: 140, LR: 0.036000, R: 1.440000, J: 0.407820\n",
            "Iteration: 150, LR: 0.035000, R: 1.400000, J: 0.343273\n",
            "Iteration: 160, LR: 0.034000, R: 1.360000, J: 0.309387\n",
            "Iteration: 170, LR: 0.033000, R: 1.320000, J: 0.311843\n",
            "Iteration: 180, LR: 0.032000, R: 1.280000, J: 0.286457\n",
            "Iteration: 190, LR: 0.031000, R: 1.240000, J: 0.262988\n",
            "Iteration: 200, LR: 0.030000, R: 1.200000, J: 0.294543\n",
            "Iteration: 210, LR: 0.029000, R: 1.160000, J: 0.261943\n",
            "Iteration: 220, LR: 0.028000, R: 1.120000, J: 0.214352\n",
            "Iteration: 230, LR: 0.027000, R: 1.080000, J: 0.218726\n",
            "Iteration: 240, LR: 0.026000, R: 1.040000, J: 0.239002\n",
            "Iteration: 250, LR: 0.025000, R: 1.000000, J: 0.196224\n",
            "Min changes\n"
          ],
          "name": "stdout"
        },
        {
          "output_type": "display_data",
          "data": {
            "image/png": "[encoded data removed]",
            "text/plain": [
              "<Figure size 432x288 with 1 Axes>"
            ]
          },
          "metadata": {
            "tags": [],
            "needs_background": "light"
          }
        },
        {
          "output_type": "stream",
          "text": [
            "[[0. 0. 0. 8.]\n",
            " [2. 5. 0. 1.]\n",
            " [1. 0. 9. 0.]\n",
            " [8. 3. 0. 1.]]\n"
          ],
          "name": "stdout"
        },
        {
          "output_type": "display_data",
          "data": {
            "image/png": "[encoded data removed]",
            "text/plain": [
              "<Figure size 432x288 with 2 Axes>"
            ]
          },
          "metadata": {
            "tags": [],
            "needs_background": "light"
          }
        },
        {
          "output_type": "stream",
          "text": [
            "Meaning of each number :\n",
            "0 : happy   1 : centerlight   2 : noglasses   3 : glasses   4 : surprised   5 : sleepy   6 : leftlight   7 : sad   8 : wink   9 : rightlight   10 : normal   \n",
            "Accuracy founded map = 0.0667\n"
          ],
          "name": "stdout"
        }
      ]
    }
  ]
}